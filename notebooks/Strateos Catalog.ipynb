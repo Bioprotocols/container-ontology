{
 "cells": [
  {
   "cell_type": "markdown",
   "metadata": {
    "pycharm": {
     "name": "#%% md\n"
    }
   },
   "source": [
    "# Make Classes for the Microplates in the Strateos catalog\n",
    "\n"
   ]
  },
  {
   "cell_type": "code",
   "execution_count": 1,
   "metadata": {
    "pycharm": {
     "name": "#%%\n"
    }
   },
   "outputs": [],
   "source": [
    "import pandas as pd\n",
    "from typing import List, Union, Optional, Tuple\n",
    "import rdflib\n",
    "from rdflib import Graph, Namespace, Literal, URIRef\n",
    "from rdflib.namespace import RDF, RDFS, OWL, XSD\n",
    "from urllib.parse import quote\n"
   ]
  },
  {
   "cell_type": "code",
   "execution_count": 2,
   "metadata": {},
   "outputs": [
    {
     "data": {
      "text/html": [
       "<div>\n",
       "<style scoped>\n",
       "    .dataframe tbody tr th:only-of-type {\n",
       "        vertical-align: middle;\n",
       "    }\n",
       "\n",
       "    .dataframe tbody tr th {\n",
       "        vertical-align: top;\n",
       "    }\n",
       "\n",
       "    .dataframe thead th {\n",
       "        text-align: right;\n",
       "    }\n",
       "</style>\n",
       "<table border=\"1\" class=\"dataframe\">\n",
       "  <thead>\n",
       "    <tr style=\"text-align: right;\">\n",
       "      <th></th>\n",
       "      <th>Id</th>\n",
       "      <th>Vendor</th>\n",
       "      <th>Catalog Number</th>\n",
       "      <th>Name</th>\n",
       "      <th>Retired At</th>\n",
       "      <th>Well Count</th>\n",
       "      <th>Well Depth (mm)</th>\n",
       "      <th>Height (mm)</th>\n",
       "      <th>Well Volume (ul)</th>\n",
       "      <th>Column Count</th>\n",
       "      <th>Capabilities</th>\n",
       "      <th>Acceptable Lids</th>\n",
       "      <th>Sale Price</th>\n",
       "    </tr>\n",
       "  </thead>\n",
       "  <tbody>\n",
       "    <tr>\n",
       "      <th>0</th>\n",
       "      <td>384-pcr</td>\n",
       "      <td>Eppendorf</td>\n",
       "      <td>951020539</td>\n",
       "      <td>384-Well twin.tec PCR Plate</td>\n",
       "      <td>-</td>\n",
       "      <td>384</td>\n",
       "      <td>9.60</td>\n",
       "      <td>10.6</td>\n",
       "      <td>40.0</td>\n",
       "      <td>24</td>\n",
       "      <td>bluewash, dispense-destination, echo_dest, env...</td>\n",
       "      <td>ultra-clear, foil</td>\n",
       "      <td>*$9.35*</td>\n",
       "    </tr>\n",
       "    <tr>\n",
       "      <th>1</th>\n",
       "      <td>96-10-spot-vplex-m-pro-inflamm1-MSD</td>\n",
       "      <td>Mesoscale</td>\n",
       "      <td>K15048G</td>\n",
       "      <td>96-well 10-spot v-plex mouse pro-inflammatory ...</td>\n",
       "      <td>-</td>\n",
       "      <td>96</td>\n",
       "      <td>11.68</td>\n",
       "      <td>14.35</td>\n",
       "      <td>410.0</td>\n",
       "      <td>12</td>\n",
       "      <td>bluewash, cover, deseal, dispense-destination,...</td>\n",
       "      <td>low_evaporation, standard, universal, ultra-clear</td>\n",
       "      <td>*$0.00*</td>\n",
       "    </tr>\n",
       "    <tr>\n",
       "      <th>4</th>\n",
       "      <td>384-flat-white-white-nbs</td>\n",
       "      <td>Corning</td>\n",
       "      <td>3574</td>\n",
       "      <td>384-Well Low Flange White FlatBottom Polystyre...</td>\n",
       "      <td>-</td>\n",
       "      <td>384</td>\n",
       "      <td>11.43</td>\n",
       "      <td>14.35</td>\n",
       "      <td>80.0</td>\n",
       "      <td>24</td>\n",
       "      <td>cover, deseal, dispense-destination, echo_dest...</td>\n",
       "      <td>universal, standard, ultra-clear, foil</td>\n",
       "      <td>*$11.80*</td>\n",
       "    </tr>\n",
       "    <tr>\n",
       "      <th>5</th>\n",
       "      <td>384-flat-white-white-optiplate</td>\n",
       "      <td>PerkinElmer</td>\n",
       "      <td>6007290</td>\n",
       "      <td>384-Well White Opaque Microplate</td>\n",
       "      <td>-</td>\n",
       "      <td>384</td>\n",
       "      <td>10.45</td>\n",
       "      <td>14.4</td>\n",
       "      <td>105.0</td>\n",
       "      <td>24</td>\n",
       "      <td>bluewash, cover, dispense-destination, echo_de...</td>\n",
       "      <td>universal, ultra-clear, foil</td>\n",
       "      <td>*$8.28*</td>\n",
       "    </tr>\n",
       "    <tr>\n",
       "      <th>6</th>\n",
       "      <td>96-v-kf</td>\n",
       "      <td>Fisher</td>\n",
       "      <td>22-387-030</td>\n",
       "      <td>96-well KingFisher PCR microplate</td>\n",
       "      <td>-</td>\n",
       "      <td>96</td>\n",
       "      <td>12.90</td>\n",
       "      <td>14.5</td>\n",
       "      <td>200.0</td>\n",
       "      <td>12</td>\n",
       "      <td>cover, dispense-destination, envision, image_p...</td>\n",
       "      <td>standard</td>\n",
       "      <td>*$6.31*</td>\n",
       "    </tr>\n",
       "  </tbody>\n",
       "</table>\n",
       "</div>"
      ],
      "text/plain": [
       "                                    Id       Vendor Catalog Number  \\\n",
       "0                              384-pcr    Eppendorf      951020539   \n",
       "1  96-10-spot-vplex-m-pro-inflamm1-MSD    Mesoscale        K15048G   \n",
       "4             384-flat-white-white-nbs      Corning           3574   \n",
       "5       384-flat-white-white-optiplate  PerkinElmer        6007290   \n",
       "6                              96-v-kf       Fisher     22-387-030   \n",
       "\n",
       "                                                Name Retired At  Well Count  \\\n",
       "0                        384-Well twin.tec PCR Plate          -         384   \n",
       "1  96-well 10-spot v-plex mouse pro-inflammatory ...          -          96   \n",
       "4  384-Well Low Flange White FlatBottom Polystyre...          -         384   \n",
       "5                   384-Well White Opaque Microplate          -         384   \n",
       "6                  96-well KingFisher PCR microplate          -          96   \n",
       "\n",
       "   Well Depth (mm) Height (mm)  Well Volume (ul)  Column Count  \\\n",
       "0             9.60        10.6              40.0            24   \n",
       "1            11.68       14.35             410.0            12   \n",
       "4            11.43       14.35              80.0            24   \n",
       "5            10.45        14.4             105.0            24   \n",
       "6            12.90        14.5             200.0            12   \n",
       "\n",
       "                                        Capabilities  \\\n",
       "0  bluewash, dispense-destination, echo_dest, env...   \n",
       "1  bluewash, cover, deseal, dispense-destination,...   \n",
       "4  cover, deseal, dispense-destination, echo_dest...   \n",
       "5  bluewash, cover, dispense-destination, echo_de...   \n",
       "6  cover, dispense-destination, envision, image_p...   \n",
       "\n",
       "                                     Acceptable Lids Sale Price  \n",
       "0                                  ultra-clear, foil    *$9.35*  \n",
       "1  low_evaporation, standard, universal, ultra-clear    *$0.00*  \n",
       "4             universal, standard, ultra-clear, foil   *$11.80*  \n",
       "5                       universal, ultra-clear, foil    *$8.28*  \n",
       "6                                           standard    *$6.31*  "
      ]
     },
     "execution_count": 2,
     "metadata": {},
     "output_type": "execute_result"
    }
   ],
   "source": [
    "workbook = pd.ExcelFile('../owl/Strateos containers.xlsx',engine='openpyxl')\n",
    "strateos_catalog = pd.read_excel(workbook, \"Strateos Containers\")\n",
    "strateos_plates = strateos_catalog[strateos_catalog['Well Count'] > 1]\n",
    "strateos_plates.head()\n"
   ]
  },
  {
   "cell_type": "code",
   "execution_count": 3,
   "metadata": {},
   "outputs": [
    {
     "name": "stdout",
     "output_type": "stream",
     "text": [
      "Id                                                            384-pcr\n",
      "Vendor                                                      Eppendorf\n",
      "Catalog Number                                              951020539\n",
      "Name                                      384-Well twin.tec PCR Plate\n",
      "Retired At                                                          -\n",
      "Well Count                                                        384\n",
      "Well Depth (mm)                                                   9.6\n",
      "Height (mm)                                                      10.6\n",
      "Well Volume (ul)                                                 40.0\n",
      "Column Count                                                       24\n",
      "Capabilities        bluewash, dispense-destination, echo_dest, env...\n",
      "Acceptable Lids                                     ultra-clear, foil\n",
      "Sale Price                                                    *$9.35*\n",
      "Name: 0, dtype: object\n",
      "Index(['Id', 'Vendor', 'Catalog Number', 'Name', 'Retired At', 'Well Count',\n",
      "       'Well Depth (mm)', 'Height (mm)', 'Well Volume (ul)', 'Column Count',\n",
      "       'Capabilities', 'Acceptable Lids', 'Sale Price'],\n",
      "      dtype='object')\n"
     ]
    },
    {
     "data": {
      "text/plain": [
       "9.6"
      ]
     },
     "execution_count": 3,
     "metadata": {},
     "output_type": "execute_result"
    }
   ],
   "source": [
    "for i, x in strateos_plates.iterrows():\n",
    "    break\n",
    "print(x)\n",
    "print(x.index)\n",
    "x['Well Depth (mm)']"
   ]
  },
  {
   "cell_type": "code",
   "execution_count": 4,
   "metadata": {
    "pycharm": {
     "name": "#%%\n"
    }
   },
   "outputs": [],
   "source": [
    "g = Graph(identifier='http://www.semanticweb.org/rpg/ontologies/2021/8/strateos-containers')"
   ]
  },
  {
   "cell_type": "code",
   "execution_count": 5,
   "metadata": {
    "pycharm": {
     "name": "#%%\n"
    }
   },
   "outputs": [],
   "source": [
    "co_ns = Namespace('http://www.semanticweb.org/rpg/ontologies/2021/5/container-ontology#')\n",
    "strateos_ns = Namespace('http://www.semanticweb.org/rpg/ontologies/2021/8/strateos-containers#')\n",
    "om_ns = Namespace('http://www.ontology-of-units-of-measure.org/resource/om-2/')"
   ]
  },
  {
   "cell_type": "code",
   "execution_count": 6,
   "metadata": {},
   "outputs": [],
   "source": [
    "g.add((strateos_ns['384-pcr'], RDF.type, co_ns['Plate']))"
   ]
  },
  {
   "cell_type": "code",
   "execution_count": 7,
   "metadata": {},
   "outputs": [
    {
     "data": {
      "text/plain": [
       "rdflib.term.URIRef('http://www.w3.org/1999/02/22-rdf-syntax-ns#type')"
      ]
     },
     "execution_count": 7,
     "metadata": {},
     "output_type": "execute_result"
    }
   ],
   "source": [
    "RDF.type"
   ]
  },
  {
   "cell_type": "code",
   "execution_count": 8,
   "metadata": {},
   "outputs": [
    {
     "data": {
      "text/plain": [
       "True"
      ]
     },
     "execution_count": 8,
     "metadata": {},
     "output_type": "execute_result"
    }
   ],
   "source": [
    "(strateos_ns['384-pcr'], RDF.type, co_ns['Plate']) in g"
   ]
  },
  {
   "cell_type": "code",
   "execution_count": 9,
   "metadata": {},
   "outputs": [
    {
     "data": {
      "text/plain": [
       "rdflib.term.URIRef('http://www.semanticweb.org/rpg/ontologies/2021/5/container-ontology#Plate')"
      ]
     },
     "execution_count": 9,
     "metadata": {},
     "output_type": "execute_result"
    }
   ],
   "source": [
    "co_ns.Plate"
   ]
  },
  {
   "cell_type": "code",
   "execution_count": 10,
   "metadata": {},
   "outputs": [],
   "source": [
    "\n",
    "def add_vendor(vendor_string, graph=g) -> URIRef:\n",
    "    vendor_iri = co_ns[quote(vendor_string)]\n",
    "    vendor_name = Literal(vendor_string)    \n",
    "    graph.add((vendor_iri, RDF.type, co_ns.VendorFirm))\n",
    "    graph.add((vendor_iri, RDFS.label, vendor_name))\n",
    "    graph.add((vendor_iri, co_ns.vendorName, vendor_name))\n",
    "    return vendor_iri\n",
    "\n",
    "def find_vendor(vendor_string, graph=g) -> Optional[URIRef]:\n",
    "    vendor_iri = co_ns[quote(vendor_string)]\n",
    "    if (vendor_iri, RDF.type, co_ns.VendorFirm) in graph:\n",
    "        return vendor_iri\n",
    "    return None"
   ]
  },
  {
   "cell_type": "code",
   "execution_count": 11,
   "metadata": {},
   "outputs": [],
   "source": [
    "def catalog_entry(vendor: str, catalog_number: Union[int, str], graph=g) -> URIRef:\n",
    "    if isinstance(catalog_number, int):\n",
    "        catalog_number = str(catalog_number)\n",
    "    assert isinstance(catalog_number, str)\n",
    "    vendor_iri = find_vendor(vendor, graph)\n",
    "    new_iri = strateos_ns[quote(vendor + catalog_number)]\n",
    "    graph.add((new_iri, RDF.type, co_ns.CatalogEntry))\n",
    "    graph.add((new_iri, co_ns.hasVendor, vendor_iri))\n",
    "    graph.add((new_iri, co_ns.catalogNumber, Literal(catalog_number)))\n",
    "    return new_iri\n",
    "    "
   ]
  },
  {
   "cell_type": "code",
   "execution_count": 12,
   "metadata": {},
   "outputs": [],
   "source": [
    "class WellDepth(URIRef):\n",
    "    depth: float\n",
    "    unit: URIRef\n",
    "    count = 0\n",
    "    def __new__(cls, *args, **kwargs):\n",
    "        ns = kwargs['ns']\n",
    "        URI = ns[f\"wellDepth{cls.count}\"]\n",
    "        cls.count += 1\n",
    "        return super().__new__(cls, URI)\n",
    "    \n",
    "    def __init__(self, depth: float, unit=om_ns.millimetre, ns=strateos_ns):\n",
    "        self.depth = depth\n",
    "        self.unit = unit\n",
    "        super().__init__()\n",
    "        \n",
    "    def triples(self) -> List[Tuple[URIRef, URIRef, URIRef]]:\n",
    "        return [\n",
    "            (self, RDF.type, om_ns.Depth),\n",
    "            (self, om_ns.hasNumericalValue, Literal(self.depth, datatype=XSD.float)),\n",
    "            (self, om_ns.hasDimension, self.unit),\n",
    "        ]\n",
    "        \n",
    "\n",
    "def make_well_depth(depth: float, unit=om_ns.millimetre, ns=strateos_ns, graph=g) -> URIRef:\n",
    "    depth_uri = WellDepth(depth, unit=unit, ns=ns)\n",
    "    for triple in depth_uri.triples():\n",
    "        graph.add(triple)\n",
    "    return depth_uri\n",
    "    \n",
    "    "
   ]
  },
  {
   "cell_type": "code",
   "execution_count": 13,
   "metadata": {},
   "outputs": [],
   "source": [
    "class Height(URIRef):\n",
    "    height: float\n",
    "    unit: URIRef\n",
    "    count = 0\n",
    "    def __new__(cls, *args, **kwargs):\n",
    "        ns = kwargs['ns']\n",
    "        URI = ns[f\"height{cls.count}\"]\n",
    "        cls.count += 1\n",
    "        return super().__new__(cls, URI)\n",
    "    \n",
    "    def __init__(self, height: float, unit=om_ns.millimetre, ns=strateos_ns):\n",
    "        self.height = height\n",
    "        self.unit = unit\n",
    "        super().__init__()\n",
    "        \n",
    "    def triples(self) -> List[Tuple[URIRef, URIRef, URIRef]]:\n",
    "        return [\n",
    "            (self, RDF.type, om_ns.Height),\n",
    "            (self, om_ns.hasNumericalValue, Literal(self.height, datatype=XSD.float)),\n",
    "            (self, om_ns.hasDimension, self.unit),\n",
    "        ]\n",
    "        \n",
    "\n",
    "def make_height(height: float, unit=om_ns.millimetre, ns=strateos_ns, graph=g) -> URIRef:\n",
    "    height_uri = Height(height, unit=unit, ns=ns)\n",
    "    for triple in height_uri.triples():\n",
    "        graph.add(triple)\n",
    "    return height_uri\n",
    "    \n",
    "    "
   ]
  },
  {
   "cell_type": "code",
   "execution_count": 14,
   "metadata": {},
   "outputs": [],
   "source": [
    "class WellVolume(URIRef):\n",
    "    volume: float\n",
    "    unit: URIRef\n",
    "    count = 0\n",
    "    def __new__(cls, *args, **kwargs):\n",
    "        ns = kwargs['ns']\n",
    "        URI = ns[f\"wellvolume{cls.count}\"]\n",
    "        cls.count += 1\n",
    "        return super().__new__(cls, URI)\n",
    "    \n",
    "    def __init__(self, volume: float, unit=om_ns.microlitre, ns=strateos_ns):\n",
    "        self.volume = volume\n",
    "        self.unit = unit\n",
    "        super().__init__()\n",
    "        \n",
    "    def triples(self) -> List[Tuple[URIRef, URIRef, URIRef]]:\n",
    "        return [\n",
    "            (self, RDF.type, om_ns.Volume),\n",
    "            (self, om_ns.hasNumericalValue, Literal(self.volume, datatype=XSD.float)),\n",
    "            (self, om_ns.hasDimension, self.unit),\n",
    "        ]\n",
    "        \n",
    "\n",
    "def make_well_volume(volume: float, unit=om_ns.microlitre, ns=strateos_ns, graph=g) -> URIRef:\n",
    "    volume_uri = WellVolume(volume, unit=unit, ns=ns)\n",
    "    for triple in volume_uri.triples():\n",
    "        graph.add(triple)\n",
    "    return volume_uri\n",
    "    \n",
    "    "
   ]
  },
  {
   "cell_type": "code",
   "execution_count": 15,
   "metadata": {},
   "outputs": [
    {
     "name": "stdout",
     "output_type": "stream",
     "text": [
      "Added Eppendorf 384-pcr as http://www.semanticweb.org/rpg/ontologies/2021/8/strateos-containers#Eppendorf384-pcr\n",
      "Added Mesoscale 96-10-spot-vplex-m-pro-inflamm1-MSD as http://www.semanticweb.org/rpg/ontologies/2021/8/strateos-containers#Mesoscale96-10-spot-vplex-m-pro-inflamm1-MSD\n",
      "Added Corning 384-flat-white-white-nbs as http://www.semanticweb.org/rpg/ontologies/2021/8/strateos-containers#Corning384-flat-white-white-nbs\n",
      "Added PerkinElmer 384-flat-white-white-optiplate as http://www.semanticweb.org/rpg/ontologies/2021/8/strateos-containers#PerkinElmer384-flat-white-white-optiplate\n",
      "Added Fisher 96-v-kf as http://www.semanticweb.org/rpg/ontologies/2021/8/strateos-containers#Fisher96-v-kf\n",
      "Added Chemspeed chemspeed-96-sealed-pin-rack as http://www.semanticweb.org/rpg/ontologies/2021/8/strateos-containers#Chemspeedchemspeed-96-sealed-pin-rack\n",
      "Added Labcyte 384-echo as http://www.semanticweb.org/rpg/ontologies/2021/8/strateos-containers#Labcyte384-echo\n",
      "Added Costar 96-flat-clear-costar-3590 as http://www.semanticweb.org/rpg/ontologies/2021/8/strateos-containers#Costar96-flat-clear-costar-3590\n",
      "Added Corning 96-flat-uv as http://www.semanticweb.org/rpg/ontologies/2021/8/strateos-containers#Corning96-flat-uv\n",
      "Added ThermoFisher 96-flat-white-dc as http://www.semanticweb.org/rpg/ontologies/2021/8/strateos-containers#ThermoFisher96-flat-white-dc\n",
      "Added Mesoscale 96-4-spot-mMIP3a-MSD as http://www.semanticweb.org/rpg/ontologies/2021/8/strateos-containers#Mesoscale96-4-spot-mMIP3a-MSD\n",
      "Added Corning 384-flat-white-white-lv as http://www.semanticweb.org/rpg/ontologies/2021/8/strateos-containers#Corning384-flat-white-white-lv\n",
      "Added Mesoscale 96-10-spot-uplex-MSD as http://www.semanticweb.org/rpg/ontologies/2021/8/strateos-containers#Mesoscale96-10-spot-uplex-MSD\n",
      "Added Corning 96-flat as http://www.semanticweb.org/rpg/ontologies/2021/8/strateos-containers#Corning96-flat\n",
      "Added Greiner 96-flat-black-black-fluotrac-600 as http://www.semanticweb.org/rpg/ontologies/2021/8/strateos-containers#Greiner96-flat-black-black-fluotrac-600\n",
      "Added Eppendorf 6-flat-tc as http://www.semanticweb.org/rpg/ontologies/2021/8/strateos-containers#Eppendorf6-flat-tc\n",
      "Added Corning 96-ubottom-clear-tc as http://www.semanticweb.org/rpg/ontologies/2021/8/strateos-containers#Corning96-ubottom-clear-tc\n",
      "Added Fisher 96-deep-kf as http://www.semanticweb.org/rpg/ontologies/2021/8/strateos-containers#Fisher96-deep-kf\n",
      "Added Corning 384-flat-white-white-tc as http://www.semanticweb.org/rpg/ontologies/2021/8/strateos-containers#Corning384-flat-white-white-tc\n",
      "Added Eppendorf 96-pcr as http://www.semanticweb.org/rpg/ontologies/2021/8/strateos-containers#Eppendorf96-pcr\n",
      "Added Corning 384-round-clear-clear as http://www.semanticweb.org/rpg/ontologies/2021/8/strateos-containers#Corning384-round-clear-clear\n",
      "Added Eppendorf 6-flat as http://www.semanticweb.org/rpg/ontologies/2021/8/strateos-containers#Eppendorf6-flat\n",
      "Added PerkinElmer 384-flat-white-white-proxiplate-plus as http://www.semanticweb.org/rpg/ontologies/2021/8/strateos-containers#PerkinElmer384-flat-white-white-proxiplate-plus\n",
      "Added Corning 96-well-v-bottom as http://www.semanticweb.org/rpg/ontologies/2021/8/strateos-containers#Corning96-well-v-bottom\n",
      "Added Corning 384-flat-white-clear as http://www.semanticweb.org/rpg/ontologies/2021/8/strateos-containers#Corning384-flat-white-clear\n",
      "Added Eppendorf 96-flat-clear-clear-tc as http://www.semanticweb.org/rpg/ontologies/2021/8/strateos-containers#Eppendorf96-flat-clear-clear-tc\n",
      "Added Axygen res-mw8-hp as http://www.semanticweb.org/rpg/ontologies/2021/8/strateos-containers#Axygenres-mw8-hp\n",
      "Added ThermoFisher 384-ubottom-clear-polypropylene-nunc-264573 as http://www.semanticweb.org/rpg/ontologies/2021/8/strateos-containers#ThermoFisher384-ubottom-clear-polypropylene-nunc-264573\n",
      "Added Labcyte 384-echo-ldv as http://www.semanticweb.org/rpg/ontologies/2021/8/strateos-containers#Labcyte384-echo-ldv\n",
      "Added Corning 384-round-black-black-lv-nbs as http://www.semanticweb.org/rpg/ontologies/2021/8/strateos-containers#Corning384-round-black-black-lv-nbs\n",
      "Added Fisher 96-vbottom-microwell as http://www.semanticweb.org/rpg/ontologies/2021/8/strateos-containers#Fisher96-vbottom-microwell\n",
      "Added PerkinElmer 384-flat-black-black-proxiplate-plus-f as http://www.semanticweb.org/rpg/ontologies/2021/8/strateos-containers#PerkinElmer384-flat-black-black-proxiplate-plus-f\n",
      "Added Corning 384-flat as http://www.semanticweb.org/rpg/ontologies/2021/8/strateos-containers#Corning384-flat\n",
      "Added E&K Scientific 24-deep as http://www.semanticweb.org/rpg/ontologies/2021/8/strateos-containers#E%26K%20Scientific24-deep\n",
      "Added Corning 384-flat-clear-clear as http://www.semanticweb.org/rpg/ontologies/2021/8/strateos-containers#Corning384-flat-clear-clear\n",
      "Added Greiner 384-v-clear-clear as http://www.semanticweb.org/rpg/ontologies/2021/8/strateos-containers#Greiner384-v-clear-clear\n",
      "Added Corning 1536-tc-white-corning-3727 as http://www.semanticweb.org/rpg/ontologies/2021/8/strateos-containers#Corning1536-tc-white-corning-3727\n",
      "Added Greiner 1536-white-tc as http://www.semanticweb.org/rpg/ontologies/2021/8/strateos-containers#Greiner1536-white-tc\n",
      "Added Corning 96-deep as http://www.semanticweb.org/rpg/ontologies/2021/8/strateos-containers#Corning96-deep\n",
      "Added Axygen res-mw12-hp as http://www.semanticweb.org/rpg/ontologies/2021/8/strateos-containers#Axygenres-mw12-hp\n",
      "Added Sumitomo Bakelite Co. 384-ubottom-white-tc as http://www.semanticweb.org/rpg/ontologies/2021/8/strateos-containers#Sumitomo%20Bakelite%20Co.384-ubottom-white-tc\n"
     ]
    }
   ],
   "source": [
    "\n",
    "for _, x in strateos_plates.iterrows():\n",
    "    id = x['Id']\n",
    "    vendor = x['Vendor']\n",
    "    vendor_iri = find_vendor(vendor)\n",
    "    if vendor_iri is None:\n",
    "        vendor_iri = add_vendor(vendor)\n",
    "    catalog_number = x['Catalog Number']\n",
    "    plate_iri = rdflib.term.URIRef(strateos_ns[quote(vendor+id)])\n",
    "    ce = catalog_entry(vendor, catalog_number)\n",
    "    g.add((plate_iri, co_ns.hasCatalogEntry, ce))\n",
    "    g.add((plate_iri, RDF.type, co_ns.Plate))\n",
    "    g.add((plate_iri, co_ns.wellCount, Literal(int(x['Well Count']))))\n",
    "    cols = int(x['Column Count'])\n",
    "    rows = int(x['Well Count'] / cols)\n",
    "    g.add((plate_iri, co_ns.columnCount, Literal(cols)))\n",
    "    g.add((plate_iri, co_ns.rowCount, Literal(rows)))\n",
    "    g.add((plate_iri, RDFS.comment, Literal(vendor + \" \" + x['Name'])))\n",
    "    g.add((plate_iri, RDFS.label, Literal(id)))\n",
    "    well_depth = make_well_depth(float(x['Well Depth (mm)']))\n",
    "    g.add((plate_iri, co_ns.wellDepth, well_depth))\n",
    "    well_vol = make_well_volume(float(x['Well Volume (ul)']))\n",
    "    g.add((plate_iri, co_ns.wellVolume, well_vol))\n",
    "    height = make_height(float(x['Height (mm)']))\n",
    "    g.add((plate_iri, co_ns.height, height))\n",
    "    print(f\"Added {vendor} {id} as {plate_iri}\")"
   ]
  },
  {
   "cell_type": "code",
   "execution_count": 16,
   "metadata": {
    "pycharm": {
     "name": "#%%\n"
    }
   },
   "outputs": [
    {
     "data": {
      "text/plain": [
       "b'@prefix ns1: <http://www.ontology-of-units-of-measure.org/resource/om-2/> .\\n@prefix ns2: <http://www.semanticweb.org/rpg/ontologies/2021/5/container-ontology#> .\\n@prefix rdfs: <http://www.w3.org/2000/01/rdf-schema#> .\\n@prefix xsd: <http://www.w3.org/2001/XMLSchema#> .\\n\\n<http://www.semanticweb.org/rpg/ontologies/2021/8/strateos-containers#384-pcr> a ns2:Plate .\\n\\n<http://www.semanticweb.org/rpg/ontologies/2021/8/strateos-containers#Chemspeedchemspeed-96-sealed-pin-rack> a ns2:Plate ;\\n    rdfs:label \"chemspeed-96-sealed-pin-rack\" ;\\n    ns2:columnCount 12 ;\\n    ns2:hasCatalogEntry <http://www.semanticweb.org/rpg/ontologies/2021/8/strateos-containers#Chemspeedunknown> ;\\n    ns2:height <http://www.semanticweb.org/rpg/ontologies/2021/8/strateos-containers#height5> ;\\n    ns2:rowCount 8 ;\\n    ns2:wellCount 96 ;\\n    ns2:wellDepth <http://www.semanticweb.org/rpg/ontologies/2021/8/strateos-containers#wellDepth5> ;\\n    ns2:wellVolume <http://www.semanticweb.org/rpg/ontologies/2021/8/strateos-containers#wellvolume5> ;\\n    rdfs:comment \"Chemspeed Chemspeed 96 Pin Rack\" .\\n\\n<http://www.semanticweb.org/rpg/ontologies/2021/8/strateos-containers#Corning1536-tc-white-corning-3727> a ns2:Plate ;\\n    rdfs:label \"1536-tc-white-corning-3727\" ;\\n    ns2:columnCount 48 ;\\n    ns2:hasCatalogEntry <http://www.semanticweb.org/rpg/ontologies/2021/8/strateos-containers#Corning3727> ;\\n    ns2:height <http://www.semanticweb.org/rpg/ontologies/2021/8/strateos-containers#height36> ;\\n    ns2:rowCount 32 ;\\n    ns2:wellCount 1536 ;\\n    ns2:wellDepth <http://www.semanticweb.org/rpg/ontologies/2021/8/strateos-containers#wellDepth36> ;\\n    ns2:wellVolume <http://www.semanticweb.org/rpg/ontologies/2021/8/strateos-containers#wellvolume36> ;\\n    rdfs:comment \"Corning 1536 well Corning white TC treated HiBase\" .\\n\\n<http://www.semanticweb.org/rpg/ontologies/2021/8/strateos-containers#Corning384-flat> a ns2:Plate ;\\n    rdfs:label \"384-flat\" ;\\n    ns2:columnCount 24 ;\\n    ns2:hasCatalogEntry <http://www.semanticweb.org/rpg/ontologies/2021/8/strateos-containers#Corning3706> ;\\n    ns2:height <http://www.semanticweb.org/rpg/ontologies/2021/8/strateos-containers#height32> ;\\n    ns2:rowCount 16 ;\\n    ns2:wellCount 384 ;\\n    ns2:wellDepth <http://www.semanticweb.org/rpg/ontologies/2021/8/strateos-containers#wellDepth32> ;\\n    ns2:wellVolume <http://www.semanticweb.org/rpg/ontologies/2021/8/strateos-containers#wellvolume32> ;\\n    rdfs:comment \"Corning 384-Well Clear Bottom White Polystyrene Microplate\" .\\n\\n<http://www.semanticweb.org/rpg/ontologies/2021/8/strateos-containers#Corning384-flat-clear-clear> a ns2:Plate ;\\n    rdfs:label \"384-flat-clear-clear\" ;\\n    ns2:columnCount 24 ;\\n    ns2:hasCatalogEntry <http://www.semanticweb.org/rpg/ontologies/2021/8/strateos-containers#Corning3700> ;\\n    ns2:height <http://www.semanticweb.org/rpg/ontologies/2021/8/strateos-containers#height34> ;\\n    ns2:rowCount 16 ;\\n    ns2:wellCount 384 ;\\n    ns2:wellDepth <http://www.semanticweb.org/rpg/ontologies/2021/8/strateos-containers#wellDepth34> ;\\n    ns2:wellVolume <http://www.semanticweb.org/rpg/ontologies/2021/8/strateos-containers#wellvolume34> ;\\n    rdfs:comment \"Corning 384-Well Clear Flat Bottom Polystyrene High Bind Microplate\" .\\n\\n<http://www.semanticweb.org/rpg/ontologies/2021/8/strateos-containers#Corning384-flat-white-clear> a ns2:Plate ;\\n    rdfs:label \"384-flat-white-clear\" ;\\n    ns2:columnCount 24 ;\\n    ns2:hasCatalogEntry <http://www.semanticweb.org/rpg/ontologies/2021/8/strateos-containers#Corning3763> ;\\n    ns2:height <http://www.semanticweb.org/rpg/ontologies/2021/8/strateos-containers#height24> ;\\n    ns2:rowCount 16 ;\\n    ns2:wellCount 384 ;\\n    ns2:wellDepth <http://www.semanticweb.org/rpg/ontologies/2021/8/strateos-containers#wellDepth24> ;\\n    ns2:wellVolume <http://www.semanticweb.org/rpg/ontologies/2021/8/strateos-containers#wellvolume24> ;\\n    rdfs:comment \"Corning 384-well flat-bottom polystyrene plate\" .\\n\\n<http://www.semanticweb.org/rpg/ontologies/2021/8/strateos-containers#Corning384-flat-white-white-lv> a ns2:Plate ;\\n    rdfs:label \"384-flat-white-white-lv\" ;\\n    ns2:columnCount 24 ;\\n    ns2:hasCatalogEntry <http://www.semanticweb.org/rpg/ontologies/2021/8/strateos-containers#Corning3824> ;\\n    ns2:height <http://www.semanticweb.org/rpg/ontologies/2021/8/strateos-containers#height11> ;\\n    ns2:rowCount 16 ;\\n    ns2:wellCount 384 ;\\n    ns2:wellDepth <http://www.semanticweb.org/rpg/ontologies/2021/8/strateos-containers#wellDepth11> ;\\n    ns2:wellVolume <http://www.semanticweb.org/rpg/ontologies/2021/8/strateos-containers#wellvolume11> ;\\n    rdfs:comment \"Corning 384-Well Low Volume White Flat Bottom Polystyrene NBS Microplate\" .\\n\\n<http://www.semanticweb.org/rpg/ontologies/2021/8/strateos-containers#Corning384-flat-white-white-nbs> a ns2:Plate ;\\n    rdfs:label \"384-flat-white-white-nbs\" ;\\n    ns2:columnCount 24 ;\\n    ns2:hasCatalogEntry <http://www.semanticweb.org/rpg/ontologies/2021/8/strateos-containers#Corning3574> ;\\n    ns2:height <http://www.semanticweb.org/rpg/ontologies/2021/8/strateos-containers#height2> ;\\n    ns2:rowCount 16 ;\\n    ns2:wellCount 384 ;\\n    ns2:wellDepth <http://www.semanticweb.org/rpg/ontologies/2021/8/strateos-containers#wellDepth2> ;\\n    ns2:wellVolume <http://www.semanticweb.org/rpg/ontologies/2021/8/strateos-containers#wellvolume2> ;\\n    rdfs:comment \"Corning 384-Well Low Flange White FlatBottom Polystyrene NBS Microplate\" .\\n\\n<http://www.semanticweb.org/rpg/ontologies/2021/8/strateos-containers#Corning384-flat-white-white-tc> a ns2:Plate ;\\n    rdfs:label \"384-flat-white-white-tc\" ;\\n    ns2:columnCount 24 ;\\n    ns2:hasCatalogEntry <http://www.semanticweb.org/rpg/ontologies/2021/8/strateos-containers#Corning3570> ;\\n    ns2:height <http://www.semanticweb.org/rpg/ontologies/2021/8/strateos-containers#height18> ;\\n    ns2:rowCount 16 ;\\n    ns2:wellCount 384 ;\\n    ns2:wellDepth <http://www.semanticweb.org/rpg/ontologies/2021/8/strateos-containers#wellDepth18> ;\\n    ns2:wellVolume <http://www.semanticweb.org/rpg/ontologies/2021/8/strateos-containers#wellvolume18> ;\\n    rdfs:comment \"Corning 384-Well Low Flange White Flat Bottom Polystyrene TC-Treated Microplate\" .\\n\\n<http://www.semanticweb.org/rpg/ontologies/2021/8/strateos-containers#Corning384-round-black-black-lv-nbs> a ns2:Plate ;\\n    rdfs:label \"384-round-black-black-lv-nbs\" ;\\n    ns2:columnCount 24 ;\\n    ns2:hasCatalogEntry <http://www.semanticweb.org/rpg/ontologies/2021/8/strateos-containers#Corning4514> ;\\n    ns2:height <http://www.semanticweb.org/rpg/ontologies/2021/8/strateos-containers#height29> ;\\n    ns2:rowCount 16 ;\\n    ns2:wellCount 384 ;\\n    ns2:wellDepth <http://www.semanticweb.org/rpg/ontologies/2021/8/strateos-containers#wellDepth29> ;\\n    ns2:wellVolume <http://www.semanticweb.org/rpg/ontologies/2021/8/strateos-containers#wellvolume29> ;\\n    rdfs:comment \"Corning Corning 4514 384-well Low Volume Black Round Bottom Polystyrene NBS Microplate\" .\\n\\n<http://www.semanticweb.org/rpg/ontologies/2021/8/strateos-containers#Corning384-round-clear-clear> a ns2:Plate ;\\n    rdfs:label \"384-round-clear-clear\" ;\\n    ns2:columnCount 24 ;\\n    ns2:hasCatalogEntry <http://www.semanticweb.org/rpg/ontologies/2021/8/strateos-containers#Corning3657> ;\\n    ns2:height <http://www.semanticweb.org/rpg/ontologies/2021/8/strateos-containers#height20> ;\\n    ns2:rowCount 16 ;\\n    ns2:wellCount 384 ;\\n    ns2:wellDepth <http://www.semanticweb.org/rpg/ontologies/2021/8/strateos-containers#wellDepth20> ;\\n    ns2:wellVolume <http://www.semanticweb.org/rpg/ontologies/2021/8/strateos-containers#wellvolume20> ;\\n    rdfs:comment \"Corning 384-Well Clear Round Bottom Polypropylene Not Treated Microplate\" .\\n\\n<http://www.semanticweb.org/rpg/ontologies/2021/8/strateos-containers#Corning96-deep> a ns2:Plate ;\\n    rdfs:label \"96-deep\" ;\\n    ns2:columnCount 12 ;\\n    ns2:hasCatalogEntry <http://www.semanticweb.org/rpg/ontologies/2021/8/strateos-containers#Corning3961> ;\\n    ns2:height <http://www.semanticweb.org/rpg/ontologies/2021/8/strateos-containers#height38> ;\\n    ns2:rowCount 8 ;\\n    ns2:wellCount 96 ;\\n    ns2:wellDepth <http://www.semanticweb.org/rpg/ontologies/2021/8/strateos-containers#wellDepth38> ;\\n    ns2:wellVolume <http://www.semanticweb.org/rpg/ontologies/2021/8/strateos-containers#wellvolume38> ;\\n    rdfs:comment \"Corning 96-Well Clear V-Bottom Polypropylene Deep Well Plate\" .\\n\\n<http://www.semanticweb.org/rpg/ontologies/2021/8/strateos-containers#Corning96-flat> a ns2:Plate ;\\n    rdfs:label \"96-flat\" ;\\n    ns2:columnCount 12 ;\\n    ns2:hasCatalogEntry <http://www.semanticweb.org/rpg/ontologies/2021/8/strateos-containers#Corning3632> ;\\n    ns2:height <http://www.semanticweb.org/rpg/ontologies/2021/8/strateos-containers#height13> ;\\n    ns2:rowCount 8 ;\\n    ns2:wellCount 96 ;\\n    ns2:wellDepth <http://www.semanticweb.org/rpg/ontologies/2021/8/strateos-containers#wellDepth13> ;\\n    ns2:wellVolume <http://www.semanticweb.org/rpg/ontologies/2021/8/strateos-containers#wellvolume13> ;\\n    rdfs:comment \"Corning 96-Well White with Clear Flat Bottom Polystyrene Not Treated Microplate\" .\\n\\n<http://www.semanticweb.org/rpg/ontologies/2021/8/strateos-containers#Corning96-flat-uv> a ns2:Plate ;\\n    rdfs:label \"96-flat-uv\" ;\\n    ns2:columnCount 12 ;\\n    ns2:hasCatalogEntry <http://www.semanticweb.org/rpg/ontologies/2021/8/strateos-containers#Corning3635> ;\\n    ns2:height <http://www.semanticweb.org/rpg/ontologies/2021/8/strateos-containers#height8> ;\\n    ns2:rowCount 8 ;\\n    ns2:wellCount 96 ;\\n    ns2:wellDepth <http://www.semanticweb.org/rpg/ontologies/2021/8/strateos-containers#wellDepth8> ;\\n    ns2:wellVolume <http://www.semanticweb.org/rpg/ontologies/2021/8/strateos-containers#wellvolume8> ;\\n    rdfs:comment \"Corning 96-Well Clear Flat Bottom UV-Transparent Microplate\" .\\n\\n<http://www.semanticweb.org/rpg/ontologies/2021/8/strateos-containers#Corning96-ubottom-clear-tc> a ns2:Plate ;\\n    rdfs:label \"96-ubottom-clear-tc\" ;\\n    ns2:columnCount 12 ;\\n    ns2:hasCatalogEntry <http://www.semanticweb.org/rpg/ontologies/2021/8/strateos-containers#Corning353077> ;\\n    ns2:height <http://www.semanticweb.org/rpg/ontologies/2021/8/strateos-containers#height16> ;\\n    ns2:rowCount 8 ;\\n    ns2:wellCount 96 ;\\n    ns2:wellDepth <http://www.semanticweb.org/rpg/ontologies/2021/8/strateos-containers#wellDepth16> ;\\n    ns2:wellVolume <http://www.semanticweb.org/rpg/ontologies/2021/8/strateos-containers#wellvolume16> ;\\n    rdfs:comment \"Corning Falcon 96-Well, Cell Culture-Treated, U-Shaped-Bottom Microplate\" .\\n\\n<http://www.semanticweb.org/rpg/ontologies/2021/8/strateos-containers#Corning96-well-v-bottom> a ns2:Plate ;\\n    rdfs:label \"96-well-v-bottom\" ;\\n    ns2:columnCount 12 ;\\n    ns2:hasCatalogEntry <http://www.semanticweb.org/rpg/ontologies/2021/8/strateos-containers#Corning3894> ;\\n    ns2:height <http://www.semanticweb.org/rpg/ontologies/2021/8/strateos-containers#height23> ;\\n    ns2:rowCount 8 ;\\n    ns2:wellCount 96 ;\\n    ns2:wellDepth <http://www.semanticweb.org/rpg/ontologies/2021/8/strateos-containers#wellDepth23> ;\\n    ns2:wellVolume <http://www.semanticweb.org/rpg/ontologies/2021/8/strateos-containers#wellvolume23> ;\\n    rdfs:comment \"Corning 96-well cell culture multiple well plate, V bottom\" .\\n\\n<http://www.semanticweb.org/rpg/ontologies/2021/8/strateos-containers#Costar96-flat-clear-costar-3590> a ns2:Plate ;\\n    rdfs:label \"96-flat-clear-costar-3590\" ;\\n    ns2:columnCount 12 ;\\n    ns2:hasCatalogEntry <http://www.semanticweb.org/rpg/ontologies/2021/8/strateos-containers#Costar3590> ;\\n    ns2:height <http://www.semanticweb.org/rpg/ontologies/2021/8/strateos-containers#height7> ;\\n    ns2:rowCount 8 ;\\n    ns2:wellCount 96 ;\\n    ns2:wellDepth <http://www.semanticweb.org/rpg/ontologies/2021/8/strateos-containers#wellDepth7> ;\\n    ns2:wellVolume <http://www.semanticweb.org/rpg/ontologies/2021/8/strateos-containers#wellvolume7> ;\\n    rdfs:comment \"Costar 96-well EIA/RIA Clear Flat Bottom Polystyrene High Bind Microplate\" .\\n\\n<http://www.semanticweb.org/rpg/ontologies/2021/8/strateos-containers#E%26K%20Scientific24-deep> a ns2:Plate ;\\n    rdfs:label \"24-deep\" ;\\n    ns2:columnCount 6 ;\\n    ns2:hasCatalogEntry <http://www.semanticweb.org/rpg/ontologies/2021/8/strateos-containers#E%26K%20ScientificEK-2053-S> ;\\n    ns2:height <http://www.semanticweb.org/rpg/ontologies/2021/8/strateos-containers#height33> ;\\n    ns2:rowCount 4 ;\\n    ns2:wellCount 24 ;\\n    ns2:wellDepth <http://www.semanticweb.org/rpg/ontologies/2021/8/strateos-containers#wellDepth33> ;\\n    ns2:wellVolume <http://www.semanticweb.org/rpg/ontologies/2021/8/strateos-containers#wellvolume33> ;\\n    rdfs:comment \"E&K Scientific 24-Well Pyramid Bottom Plate\" .\\n\\n<http://www.semanticweb.org/rpg/ontologies/2021/8/strateos-containers#Eppendorf384-pcr> a ns2:Plate ;\\n    rdfs:label \"384-pcr\" ;\\n    ns2:columnCount 24 ;\\n    ns2:hasCatalogEntry <http://www.semanticweb.org/rpg/ontologies/2021/8/strateos-containers#Eppendorf951020539> ;\\n    ns2:height <http://www.semanticweb.org/rpg/ontologies/2021/8/strateos-containers#height0> ;\\n    ns2:rowCount 16 ;\\n    ns2:wellCount 384 ;\\n    ns2:wellDepth <http://www.semanticweb.org/rpg/ontologies/2021/8/strateos-containers#wellDepth0> ;\\n    ns2:wellVolume <http://www.semanticweb.org/rpg/ontologies/2021/8/strateos-containers#wellvolume0> ;\\n    rdfs:comment \"Eppendorf 384-Well twin.tec PCR Plate\" .\\n\\n<http://www.semanticweb.org/rpg/ontologies/2021/8/strateos-containers#Eppendorf6-flat> a ns2:Plate ;\\n    rdfs:label \"6-flat\" ;\\n    ns2:columnCount 3 ;\\n    ns2:hasCatalogEntry <http://www.semanticweb.org/rpg/ontologies/2021/8/strateos-containers#Eppendorf30720016> ;\\n    ns2:height <http://www.semanticweb.org/rpg/ontologies/2021/8/strateos-containers#height21> ;\\n    ns2:rowCount 2 ;\\n    ns2:wellCount 6 ;\\n    ns2:wellDepth <http://www.semanticweb.org/rpg/ontologies/2021/8/strateos-containers#wellDepth21> ;\\n    ns2:wellVolume <http://www.semanticweb.org/rpg/ontologies/2021/8/strateos-containers#wellvolume21> ;\\n    rdfs:comment \"Eppendorf 6-Well Non-Treated Sterile Plate\" .\\n\\n<http://www.semanticweb.org/rpg/ontologies/2021/8/strateos-containers#Eppendorf6-flat-tc> a ns2:Plate ;\\n    rdfs:label \"6-flat-tc\" ;\\n    ns2:columnCount 3 ;\\n    ns2:hasCatalogEntry <http://www.semanticweb.org/rpg/ontologies/2021/8/strateos-containers#Eppendorf30720113> ;\\n    ns2:height <http://www.semanticweb.org/rpg/ontologies/2021/8/strateos-containers#height15> ;\\n    ns2:rowCount 2 ;\\n    ns2:wellCount 6 ;\\n    ns2:wellDepth <http://www.semanticweb.org/rpg/ontologies/2021/8/strateos-containers#wellDepth15> ;\\n    ns2:wellVolume <http://www.semanticweb.org/rpg/ontologies/2021/8/strateos-containers#wellvolume15> ;\\n    rdfs:comment \"Eppendorf 6-Well TC Treated Sterile Plate\" .\\n\\n<http://www.semanticweb.org/rpg/ontologies/2021/8/strateos-containers#Eppendorf96-flat-clear-clear-tc> a ns2:Plate ;\\n    rdfs:label \"96-flat-clear-clear-tc\" ;\\n    ns2:columnCount 12 ;\\n    ns2:hasCatalogEntry <http://www.semanticweb.org/rpg/ontologies/2021/8/strateos-containers#Eppendorf30730119> ;\\n    ns2:height <http://www.semanticweb.org/rpg/ontologies/2021/8/strateos-containers#height25> ;\\n    ns2:rowCount 8 ;\\n    ns2:wellCount 96 ;\\n    ns2:wellDepth <http://www.semanticweb.org/rpg/ontologies/2021/8/strateos-containers#wellDepth25> ;\\n    ns2:wellVolume <http://www.semanticweb.org/rpg/ontologies/2021/8/strateos-containers#wellvolume25> ;\\n    rdfs:comment \"Eppendorf 96-Well Flat TC-Treated Polystyrene Microplate\" .\\n\\n<http://www.semanticweb.org/rpg/ontologies/2021/8/strateos-containers#Eppendorf96-pcr> a ns2:Plate ;\\n    rdfs:label \"96-pcr\" ;\\n    ns2:columnCount 12 ;\\n    ns2:hasCatalogEntry <http://www.semanticweb.org/rpg/ontologies/2021/8/strateos-containers#Eppendorf951020619> ;\\n    ns2:height <http://www.semanticweb.org/rpg/ontologies/2021/8/strateos-containers#height19> ;\\n    ns2:rowCount 8 ;\\n    ns2:wellCount 96 ;\\n    ns2:wellDepth <http://www.semanticweb.org/rpg/ontologies/2021/8/strateos-containers#wellDepth19> ;\\n    ns2:wellVolume <http://www.semanticweb.org/rpg/ontologies/2021/8/strateos-containers#wellvolume19> ;\\n    rdfs:comment \"Eppendorf 96-Well twin.tec PCR Plate\" .\\n\\n<http://www.semanticweb.org/rpg/ontologies/2021/8/strateos-containers#Fisher96-deep-kf> a ns2:Plate ;\\n    rdfs:label \"96-deep-kf\" ;\\n    ns2:columnCount 12 ;\\n    ns2:hasCatalogEntry <http://www.semanticweb.org/rpg/ontologies/2021/8/strateos-containers#Fisher22-387-031> ;\\n    ns2:height <http://www.semanticweb.org/rpg/ontologies/2021/8/strateos-containers#height17> ;\\n    ns2:rowCount 8 ;\\n    ns2:wellCount 96 ;\\n    ns2:wellDepth <http://www.semanticweb.org/rpg/ontologies/2021/8/strateos-containers#wellDepth17> ;\\n    ns2:wellVolume <http://www.semanticweb.org/rpg/ontologies/2021/8/strateos-containers#wellvolume17> ;\\n    rdfs:comment \"Fisher 96-Well KingFisher Deepwell Plate V-bottom Polypropylene\" .\\n\\n<http://www.semanticweb.org/rpg/ontologies/2021/8/strateos-containers#Fisher96-v-kf> a ns2:Plate ;\\n    rdfs:label \"96-v-kf\" ;\\n    ns2:columnCount 12 ;\\n    ns2:hasCatalogEntry <http://www.semanticweb.org/rpg/ontologies/2021/8/strateos-containers#Fisher22-387-030> ;\\n    ns2:height <http://www.semanticweb.org/rpg/ontologies/2021/8/strateos-containers#height4> ;\\n    ns2:rowCount 8 ;\\n    ns2:wellCount 96 ;\\n    ns2:wellDepth <http://www.semanticweb.org/rpg/ontologies/2021/8/strateos-containers#wellDepth4> ;\\n    ns2:wellVolume <http://www.semanticweb.org/rpg/ontologies/2021/8/strateos-containers#wellvolume4> ;\\n    rdfs:comment \"Fisher 96-well KingFisher PCR microplate\" .\\n\\n<http://www.semanticweb.org/rpg/ontologies/2021/8/strateos-containers#Fisher96-vbottom-microwell> a ns2:Plate ;\\n    rdfs:label \"96-vbottom-microwell\" ;\\n    ns2:columnCount 12 ;\\n    ns2:hasCatalogEntry <http://www.semanticweb.org/rpg/ontologies/2021/8/strateos-containers#Fisher249944> ;\\n    ns2:height <http://www.semanticweb.org/rpg/ontologies/2021/8/strateos-containers#height30> ;\\n    ns2:rowCount 8 ;\\n    ns2:wellCount 96 ;\\n    ns2:wellDepth <http://www.semanticweb.org/rpg/ontologies/2021/8/strateos-containers#wellDepth30> ;\\n    ns2:wellVolume <http://www.semanticweb.org/rpg/ontologies/2021/8/strateos-containers#wellvolume30> ;\\n    rdfs:comment \"Fisher 96 vbottom microwell lcms plate\" .\\n\\n<http://www.semanticweb.org/rpg/ontologies/2021/8/strateos-containers#Greiner1536-white-tc> a ns2:Plate ;\\n    rdfs:label \"1536-white-tc\" ;\\n    ns2:columnCount 48 ;\\n    ns2:hasCatalogEntry <http://www.semanticweb.org/rpg/ontologies/2021/8/strateos-containers#Greiner782073> ;\\n    ns2:height <http://www.semanticweb.org/rpg/ontologies/2021/8/strateos-containers#height37> ;\\n    ns2:rowCount 32 ;\\n    ns2:wellCount 1536 ;\\n    ns2:wellDepth <http://www.semanticweb.org/rpg/ontologies/2021/8/strateos-containers#wellDepth37> ;\\n    ns2:wellVolume <http://www.semanticweb.org/rpg/ontologies/2021/8/strateos-containers#wellvolume37> ;\\n    rdfs:comment \"Greiner 1536 Greiner White TC-treated HiBase\" .\\n\\n<http://www.semanticweb.org/rpg/ontologies/2021/8/strateos-containers#Greiner384-v-clear-clear> a ns2:Plate ;\\n    rdfs:label \"384-v-clear-clear\" ;\\n    ns2:columnCount 24 ;\\n    ns2:hasCatalogEntry <http://www.semanticweb.org/rpg/ontologies/2021/8/strateos-containers#Greiner781280> ;\\n    ns2:height <http://www.semanticweb.org/rpg/ontologies/2021/8/strateos-containers#height35> ;\\n    ns2:rowCount 16 ;\\n    ns2:wellCount 384 ;\\n    ns2:wellDepth <http://www.semanticweb.org/rpg/ontologies/2021/8/strateos-containers#wellDepth35> ;\\n    ns2:wellVolume <http://www.semanticweb.org/rpg/ontologies/2021/8/strateos-containers#wellvolume35> ;\\n    rdfs:comment \"Greiner 384-Well PP V-Bottom Microplate\" .\\n\\n<http://www.semanticweb.org/rpg/ontologies/2021/8/strateos-containers#Greiner96-flat-black-black-fluotrac-600> a ns2:Plate ;\\n    rdfs:label \"96-flat-black-black-fluotrac-600\" ;\\n    ns2:columnCount 12 ;\\n    ns2:hasCatalogEntry <http://www.semanticweb.org/rpg/ontologies/2021/8/strateos-containers#Greiner655077> ;\\n    ns2:height <http://www.semanticweb.org/rpg/ontologies/2021/8/strateos-containers#height14> ;\\n    ns2:rowCount 8 ;\\n    ns2:wellCount 96 ;\\n    ns2:wellDepth <http://www.semanticweb.org/rpg/ontologies/2021/8/strateos-containers#wellDepth14> ;\\n    ns2:wellVolume <http://www.semanticweb.org/rpg/ontologies/2021/8/strateos-containers#wellvolume14> ;\\n    rdfs:comment \"Greiner 96-Well F-Bottom Black Fluotrac High-Binding Microplate\" .\\n\\n<http://www.semanticweb.org/rpg/ontologies/2021/8/strateos-containers#Labcyte384-echo> a ns2:Plate ;\\n    rdfs:label \"384-echo\" ;\\n    ns2:columnCount 24 ;\\n    ns2:hasCatalogEntry <http://www.semanticweb.org/rpg/ontologies/2021/8/strateos-containers#LabcytePP-0200> ;\\n    ns2:height <http://www.semanticweb.org/rpg/ontologies/2021/8/strateos-containers#height6> ;\\n    ns2:rowCount 16 ;\\n    ns2:wellCount 384 ;\\n    ns2:wellDepth <http://www.semanticweb.org/rpg/ontologies/2021/8/strateos-containers#wellDepth6> ;\\n    ns2:wellVolume <http://www.semanticweb.org/rpg/ontologies/2021/8/strateos-containers#wellvolume6> ;\\n    rdfs:comment \"Labcyte 384-Well Echo Qualified Polypropylene Microplate 2.0\" .\\n\\n<http://www.semanticweb.org/rpg/ontologies/2021/8/strateos-containers#Labcyte384-echo-ldv> a ns2:Plate ;\\n    rdfs:label \"384-echo-ldv\" ;\\n    ns2:columnCount 24 ;\\n    ns2:hasCatalogEntry <http://www.semanticweb.org/rpg/ontologies/2021/8/strateos-containers#LabcyteLP-0200> ;\\n    ns2:height <http://www.semanticweb.org/rpg/ontologies/2021/8/strateos-containers#height28> ;\\n    ns2:rowCount 16 ;\\n    ns2:wellCount 384 ;\\n    ns2:wellDepth <http://www.semanticweb.org/rpg/ontologies/2021/8/strateos-containers#wellDepth28> ;\\n    ns2:wellVolume <http://www.semanticweb.org/rpg/ontologies/2021/8/strateos-containers#wellvolume28> ;\\n    rdfs:comment \"Labcyte 384-well Echo low dead volume plate\" .\\n\\n<http://www.semanticweb.org/rpg/ontologies/2021/8/strateos-containers#Mesoscale96-10-spot-uplex-MSD> a ns2:Plate ;\\n    rdfs:label \"96-10-spot-uplex-MSD\" ;\\n    ns2:columnCount 12 ;\\n    ns2:hasCatalogEntry <http://www.semanticweb.org/rpg/ontologies/2021/8/strateos-containers#MesoscaleK15069L> ;\\n    ns2:height <http://www.semanticweb.org/rpg/ontologies/2021/8/strateos-containers#height12> ;\\n    ns2:rowCount 8 ;\\n    ns2:wellCount 96 ;\\n    ns2:wellDepth <http://www.semanticweb.org/rpg/ontologies/2021/8/strateos-containers#wellDepth12> ;\\n    ns2:wellVolume <http://www.semanticweb.org/rpg/ontologies/2021/8/strateos-containers#wellvolume12> ;\\n    rdfs:comment \"Mesoscale 96-well 10-spot u-plex MSD plate\" .\\n\\n<http://www.semanticweb.org/rpg/ontologies/2021/8/strateos-containers#Mesoscale96-10-spot-vplex-m-pro-inflamm1-MSD> a ns2:Plate ;\\n    rdfs:label \"96-10-spot-vplex-m-pro-inflamm1-MSD\" ;\\n    ns2:columnCount 12 ;\\n    ns2:hasCatalogEntry <http://www.semanticweb.org/rpg/ontologies/2021/8/strateos-containers#MesoscaleK15048G> ;\\n    ns2:height <http://www.semanticweb.org/rpg/ontologies/2021/8/strateos-containers#height1> ;\\n    ns2:rowCount 8 ;\\n    ns2:wellCount 96 ;\\n    ns2:wellDepth <http://www.semanticweb.org/rpg/ontologies/2021/8/strateos-containers#wellDepth1> ;\\n    ns2:wellVolume <http://www.semanticweb.org/rpg/ontologies/2021/8/strateos-containers#wellvolume1> ;\\n    rdfs:comment \"Mesoscale 96-well 10-spot v-plex mouse pro-inflammatory panel 1 MSD plate\" .\\n\\n<http://www.semanticweb.org/rpg/ontologies/2021/8/strateos-containers#Mesoscale96-4-spot-mMIP3a-MSD> a ns2:Plate ;\\n    rdfs:label \"96-4-spot-mMIP3a-MSD\" ;\\n    ns2:columnCount 12 ;\\n    ns2:hasCatalogEntry <http://www.semanticweb.org/rpg/ontologies/2021/8/strateos-containers#MesoscaleK152MSD> ;\\n    ns2:height <http://www.semanticweb.org/rpg/ontologies/2021/8/strateos-containers#height10> ;\\n    ns2:rowCount 8 ;\\n    ns2:wellCount 96 ;\\n    ns2:wellDepth <http://www.semanticweb.org/rpg/ontologies/2021/8/strateos-containers#wellDepth10> ;\\n    ns2:wellVolume <http://www.semanticweb.org/rpg/ontologies/2021/8/strateos-containers#wellvolume10> ;\\n    rdfs:comment \"Mesoscale 96-well 4-spot mouse MIP3a MSD plate\" .\\n\\n<http://www.semanticweb.org/rpg/ontologies/2021/8/strateos-containers#PerkinElmer384-flat-black-black-proxiplate-plus-f> a ns2:Plate ;\\n    rdfs:label \"384-flat-black-black-proxiplate-plus-f\" ;\\n    ns2:columnCount 24 ;\\n    ns2:hasCatalogEntry <http://www.semanticweb.org/rpg/ontologies/2021/8/strateos-containers#PerkinElmer6008260> ;\\n    ns2:height <http://www.semanticweb.org/rpg/ontologies/2021/8/strateos-containers#height31> ;\\n    ns2:rowCount 16 ;\\n    ns2:wellCount 384 ;\\n    ns2:wellDepth <http://www.semanticweb.org/rpg/ontologies/2021/8/strateos-containers#wellDepth31> ;\\n    ns2:wellVolume <http://www.semanticweb.org/rpg/ontologies/2021/8/strateos-containers#wellvolume31> ;\\n    rdfs:comment \"PerkinElmer 384-well black flat-bottom polystyrene proximity plus plate\" .\\n\\n<http://www.semanticweb.org/rpg/ontologies/2021/8/strateos-containers#PerkinElmer384-flat-white-white-optiplate> a ns2:Plate ;\\n    rdfs:label \"384-flat-white-white-optiplate\" ;\\n    ns2:columnCount 24 ;\\n    ns2:hasCatalogEntry <http://www.semanticweb.org/rpg/ontologies/2021/8/strateos-containers#PerkinElmer6007290> ;\\n    ns2:height <http://www.semanticweb.org/rpg/ontologies/2021/8/strateos-containers#height3> ;\\n    ns2:rowCount 16 ;\\n    ns2:wellCount 384 ;\\n    ns2:wellDepth <http://www.semanticweb.org/rpg/ontologies/2021/8/strateos-containers#wellDepth3> ;\\n    ns2:wellVolume <http://www.semanticweb.org/rpg/ontologies/2021/8/strateos-containers#wellvolume3> ;\\n    rdfs:comment \"PerkinElmer 384-Well White Opaque Microplate\" .\\n\\n<http://www.semanticweb.org/rpg/ontologies/2021/8/strateos-containers#PerkinElmer384-flat-white-white-proxiplate-plus> a ns2:Plate ;\\n    rdfs:label \"384-flat-white-white-proxiplate-plus\" ;\\n    ns2:columnCount 24 ;\\n    ns2:hasCatalogEntry <http://www.semanticweb.org/rpg/ontologies/2021/8/strateos-containers#PerkinElmer6008280> ;\\n    ns2:height <http://www.semanticweb.org/rpg/ontologies/2021/8/strateos-containers#height22> ;\\n    ns2:rowCount 16 ;\\n    ns2:wellCount 384 ;\\n    ns2:wellDepth <http://www.semanticweb.org/rpg/ontologies/2021/8/strateos-containers#wellDepth22> ;\\n    ns2:wellVolume <http://www.semanticweb.org/rpg/ontologies/2021/8/strateos-containers#wellvolume22> ;\\n    rdfs:comment \"PerkinElmer 384-well flat-bottom polystyrene proximity plus plate\" .\\n\\n<http://www.semanticweb.org/rpg/ontologies/2021/8/strateos-containers#Sumitomo%20Bakelite%20Co.384-ubottom-white-tc> a ns2:Plate ;\\n    rdfs:label \"384-ubottom-white-tc\" ;\\n    ns2:columnCount 24 ;\\n    ns2:hasCatalogEntry <http://www.semanticweb.org/rpg/ontologies/2021/8/strateos-containers#Sumitomo%20Bakelite%20Co.MS-9384WZ> ;\\n    ns2:height <http://www.semanticweb.org/rpg/ontologies/2021/8/strateos-containers#height40> ;\\n    ns2:rowCount 16 ;\\n    ns2:wellCount 384 ;\\n    ns2:wellDepth <http://www.semanticweb.org/rpg/ontologies/2021/8/strateos-containers#wellDepth40> ;\\n    ns2:wellVolume <http://www.semanticweb.org/rpg/ontologies/2021/8/strateos-containers#wellvolume40> ;\\n    rdfs:comment \"Sumitomo Bakelite Co. Sumitomo Bakelite Co. PrimeSurface384U White Plate 3-D Cell Culture Plate\" .\\n\\n<http://www.semanticweb.org/rpg/ontologies/2021/8/strateos-containers#ThermoFisher384-ubottom-clear-polypropylene-nunc-264573> a ns2:Plate ;\\n    rdfs:label \"384-ubottom-clear-polypropylene-nunc-264573\" ;\\n    ns2:columnCount 24 ;\\n    ns2:hasCatalogEntry <http://www.semanticweb.org/rpg/ontologies/2021/8/strateos-containers#ThermoFisher264573> ;\\n    ns2:height <http://www.semanticweb.org/rpg/ontologies/2021/8/strateos-containers#height27> ;\\n    ns2:rowCount 16 ;\\n    ns2:wellCount 384 ;\\n    ns2:wellDepth <http://www.semanticweb.org/rpg/ontologies/2021/8/strateos-containers#wellDepth27> ;\\n    ns2:wellVolume <http://www.semanticweb.org/rpg/ontologies/2021/8/strateos-containers#wellvolume27> ;\\n    rdfs:comment \"ThermoFisher Nunc 384-Well Polypropylene U-Bottom Natural Color Storage Microplate\" .\\n\\n<http://www.semanticweb.org/rpg/ontologies/2021/8/strateos-containers#ThermoFisher96-flat-white-dc> a ns2:Plate ;\\n    rdfs:label \"96-flat-white-dc\" ;\\n    ns2:columnCount 12 ;\\n    ns2:hasCatalogEntry <http://www.semanticweb.org/rpg/ontologies/2021/8/strateos-containers#ThermoFisher136101> ;\\n    ns2:height <http://www.semanticweb.org/rpg/ontologies/2021/8/strateos-containers#height9> ;\\n    ns2:rowCount 8 ;\\n    ns2:wellCount 96 ;\\n    ns2:wellDepth <http://www.semanticweb.org/rpg/ontologies/2021/8/strateos-containers#wellDepth9> ;\\n    ns2:wellVolume <http://www.semanticweb.org/rpg/ontologies/2021/8/strateos-containers#wellvolume9> ;\\n    rdfs:comment \"ThermoFisher Nunc MicroWell 96-Well, Nunclon Delta-Treated, Flat-Bottom Microplate\" .\\n\\n<http://www.semanticweb.org/rpg/ontologies/2021/8/strateos-containers#wellDepth2> a ns1:Depth ;\\n    ns1:hasDimension ns1:millimetre ;\\n    ns1:hasNumericalValue \"11.43\"^^xsd:float .\\n\\n<http://www.semanticweb.org/rpg/ontologies/2021/8/strateos-containers#height0> a ns1:Height ;\\n    ns1:hasDimension ns1:millimetre ;\\n    ns1:hasNumericalValue \"10.6\"^^xsd:float .\\n\\n<http://www.semanticweb.org/rpg/ontologies/2021/8/strateos-containers#height1> a ns1:Height ;\\n    ns1:hasDimension ns1:millimetre ;\\n    ns1:hasNumericalValue \"14.35\"^^xsd:float .\\n\\n<http://www.semanticweb.org/rpg/ontologies/2021/8/strateos-containers#height16> a ns1:Height ;\\n    ns1:hasDimension ns1:millimetre ;\\n    ns1:hasNumericalValue \"14.6\"^^xsd:float .\\n\\n<http://www.semanticweb.org/rpg/ontologies/2021/8/strateos-containers#height22> a ns1:Height ;\\n    ns1:hasDimension ns1:millimetre ;\\n    ns1:hasNumericalValue \"14.35\"^^xsd:float .\\n\\n<http://www.semanticweb.org/rpg/ontologies/2021/8/strateos-containers#height23> a ns1:Height ;\\n    ns1:hasDimension ns1:millimetre ;\\n    ns1:hasNumericalValue \"3.25\"^^xsd:float .\\n\\n<http://www.semanticweb.org/rpg/ontologies/2021/8/strateos-containers#height28> a ns1:Height ;\\n    ns1:hasDimension ns1:millimetre ;\\n    ns1:hasNumericalValue \"10.48\"^^xsd:float .\\n\\n<http://www.semanticweb.org/rpg/ontologies/2021/8/strateos-containers#height35> a ns1:Height ;\\n    ns1:hasDimension ns1:millimetre ;\\n    ns1:hasNumericalValue \"14.4\"^^xsd:float .\\n\\n<http://www.semanticweb.org/rpg/ontologies/2021/8/strateos-containers#wellDepth28> a ns1:Depth ;\\n    ns1:hasDimension ns1:millimetre ;\\n    ns1:hasNumericalValue \"5.1\"^^xsd:float .\\n\\n<http://www.semanticweb.org/rpg/ontologies/2021/8/strateos-containers#wellvolume21> a ns1:Volume ;\\n    ns1:hasDimension ns1:microlitre ;\\n    ns1:hasNumericalValue \"5000.0\"^^xsd:float .\\n\\n<http://www.semanticweb.org/rpg/ontologies/2021/8/strateos-containers#wellvolume26> a ns1:Volume ;\\n    ns1:hasDimension ns1:microlitre ;\\n    ns1:hasNumericalValue \"32000.0\"^^xsd:float .\\n\\n<http://www.semanticweb.org/rpg/ontologies/2021/8/strateos-containers#height11> a ns1:Height ;\\n    ns1:hasDimension ns1:millimetre ;\\n    ns1:hasNumericalValue \"12.19\"^^xsd:float .\\n\\n<http://www.semanticweb.org/rpg/ontologies/2021/8/strateos-containers#height24> a ns1:Height ;\\n    ns1:hasDimension ns1:millimetre ;\\n    ns1:hasNumericalValue \"14.22\"^^xsd:float .\\n\\n<http://www.semanticweb.org/rpg/ontologies/2021/8/strateos-containers#height32> a ns1:Height ;\\n    ns1:hasDimension ns1:millimetre ;\\n    ns1:hasNumericalValue \"14.22\"^^xsd:float .\\n\\n<http://www.semanticweb.org/rpg/ontologies/2021/8/strateos-containers#height33> a ns1:Height ;\\n    ns1:hasDimension ns1:millimetre ;\\n    ns1:hasNumericalValue \"44.04\"^^xsd:float .\\n\\n<http://www.semanticweb.org/rpg/ontologies/2021/8/strateos-containers#height36> a ns1:Height ;\\n    ns1:hasDimension ns1:millimetre ;\\n    ns1:hasNumericalValue \"10.4\"^^xsd:float .\\n\\n<http://www.semanticweb.org/rpg/ontologies/2021/8/strateos-containers#height6> a ns1:Height ;\\n    ns1:hasDimension ns1:millimetre ;\\n    ns1:hasNumericalValue \"14.4\"^^xsd:float .\\n\\n<http://www.semanticweb.org/rpg/ontologies/2021/8/strateos-containers#height8> a ns1:Height ;\\n    ns1:hasDimension ns1:millimetre ;\\n    ns1:hasNumericalValue \"14.22\"^^xsd:float .\\n\\n<http://www.semanticweb.org/rpg/ontologies/2021/8/strateos-containers#wellDepth39> a ns1:Depth ;\\n    ns1:hasDimension ns1:millimetre ;\\n    ns1:hasNumericalValue \"39.3\"^^xsd:float .\\n\\n<http://www.semanticweb.org/rpg/ontologies/2021/8/strateos-containers#wellvolume12> a ns1:Volume ;\\n    ns1:hasDimension ns1:microlitre ;\\n    ns1:hasNumericalValue \"410.0\"^^xsd:float .\\n\\n<http://www.semanticweb.org/rpg/ontologies/2021/8/strateos-containers#wellvolume18> a ns1:Volume ;\\n    ns1:hasDimension ns1:microlitre ;\\n    ns1:hasNumericalValue \"80.0\"^^xsd:float .\\n\\n<http://www.semanticweb.org/rpg/ontologies/2021/8/strateos-containers#wellvolume34> a ns1:Volume ;\\n    ns1:hasDimension ns1:microlitre ;\\n    ns1:hasNumericalValue \"80.0\"^^xsd:float .\\n\\n<http://www.semanticweb.org/rpg/ontologies/2021/8/strateos-containers#wellvolume38> a ns1:Volume ;\\n    ns1:hasDimension ns1:microlitre ;\\n    ns1:hasNumericalValue \"2000.0\"^^xsd:float .\\n\\n<http://www.semanticweb.org/rpg/ontologies/2021/8/strateos-containers#wellvolume5> a ns1:Volume ;\\n    ns1:hasDimension ns1:microlitre ;\\n    ns1:hasNumericalValue \"9000.0\"^^xsd:float .\\n\\n<http://www.semanticweb.org/rpg/ontologies/2021/8/strateos-containers#height27> a ns1:Height ;\\n    ns1:hasDimension ns1:millimetre ;\\n    ns1:hasNumericalValue \"14.4\"^^xsd:float .\\n\\n<http://www.semanticweb.org/rpg/ontologies/2021/8/strateos-containers#height40> a ns1:Height ;\\n    ns1:hasDimension ns1:millimetre ;\\n    ns1:hasNumericalValue \"14.4\"^^xsd:float .\\n\\n<http://www.semanticweb.org/rpg/ontologies/2021/8/strateos-containers#wellDepth1> a ns1:Depth ;\\n    ns1:hasDimension ns1:millimetre ;\\n    ns1:hasNumericalValue \"11.68\"^^xsd:float .\\n\\n<http://www.semanticweb.org/rpg/ontologies/2021/8/strateos-containers#wellDepth13> a ns1:Depth ;\\n    ns1:hasDimension ns1:millimetre ;\\n    ns1:hasNumericalValue \"10.67\"^^xsd:float .\\n\\n<http://www.semanticweb.org/rpg/ontologies/2021/8/strateos-containers#wellDepth17> a ns1:Depth ;\\n    ns1:hasDimension ns1:millimetre ;\\n    ns1:hasNumericalValue \"42.3\"^^xsd:float .\\n\\n<http://www.semanticweb.org/rpg/ontologies/2021/8/strateos-containers#wellDepth6> a ns1:Depth ;\\n    ns1:hasDimension ns1:millimetre ;\\n    ns1:hasNumericalValue \"11.5\"^^xsd:float .\\n\\n<http://www.semanticweb.org/rpg/ontologies/2021/8/strateos-containers#wellvolume16> a ns1:Volume ;\\n    ns1:hasDimension ns1:microlitre ;\\n    ns1:hasNumericalValue \"320.0\"^^xsd:float .\\n\\n<http://www.semanticweb.org/rpg/ontologies/2021/8/strateos-containers#wellvolume23> a ns1:Volume ;\\n    ns1:hasDimension ns1:microlitre ;\\n    ns1:hasNumericalValue \"200.0\"^^xsd:float .\\n\\n<http://www.semanticweb.org/rpg/ontologies/2021/8/strateos-containers#wellvolume9> a ns1:Volume ;\\n    ns1:hasDimension ns1:microlitre ;\\n    ns1:hasNumericalValue \"320.0\"^^xsd:float .\\n\\n<http://www.semanticweb.org/rpg/ontologies/2021/8/strateos-containers#wellDepth24> a ns1:Depth ;\\n    ns1:hasDimension ns1:millimetre ;\\n    ns1:hasNumericalValue \"11.56\"^^xsd:float .\\n\\n<http://www.semanticweb.org/rpg/ontologies/2021/8/strateos-containers#wellDepth30> a ns1:Depth ;\\n    ns1:hasDimension ns1:millimetre ;\\n    ns1:hasNumericalValue \"10.5\"^^xsd:float .\\n\\n<http://www.semanticweb.org/rpg/ontologies/2021/8/strateos-containers#height13> a ns1:Height ;\\n    ns1:hasDimension ns1:millimetre ;\\n    ns1:hasNumericalValue \"14.22\"^^xsd:float .\\n\\n<http://www.semanticweb.org/rpg/ontologies/2021/8/strateos-containers#wellvolume11> a ns1:Volume ;\\n    ns1:hasDimension ns1:microlitre ;\\n    ns1:hasNumericalValue \"40.0\"^^xsd:float .\\n\\n<http://www.semanticweb.org/rpg/ontologies/2021/8/strateos-containers#height25> a ns1:Height ;\\n    ns1:hasDimension ns1:millimetre ;\\n    ns1:hasNumericalValue \"14.4\"^^xsd:float .\\n\\n<http://www.semanticweb.org/rpg/ontologies/2021/8/strateos-containers#wellvolume2> a ns1:Volume ;\\n    ns1:hasDimension ns1:microlitre ;\\n    ns1:hasNumericalValue \"80.0\"^^xsd:float .\\n\\n<http://www.semanticweb.org/rpg/ontologies/2021/8/strateos-containers#wellvolume24> a ns1:Volume ;\\n    ns1:hasDimension ns1:microlitre ;\\n    ns1:hasNumericalValue \"90.0\"^^xsd:float .\\n\\n<http://www.semanticweb.org/rpg/ontologies/2021/8/strateos-containers#wellvolume3> a ns1:Volume ;\\n    ns1:hasDimension ns1:microlitre ;\\n    ns1:hasNumericalValue \"105.0\"^^xsd:float .\\n\\n<http://www.semanticweb.org/rpg/ontologies/2021/8/strateos-containers#wellDepth18> a ns1:Depth ;\\n    ns1:hasDimension ns1:millimetre ;\\n    ns1:hasNumericalValue \"11.43\"^^xsd:float .\\n\\n<http://www.semanticweb.org/rpg/ontologies/2021/8/strateos-containers#wellDepth19> a ns1:Depth ;\\n    ns1:hasDimension ns1:millimetre ;\\n    ns1:hasNumericalValue \"14.6\"^^xsd:float .\\n\\n<http://www.semanticweb.org/rpg/ontologies/2021/8/strateos-containers#wellDepth26> a ns1:Depth ;\\n    ns1:hasDimension ns1:millimetre ;\\n    ns1:hasNumericalValue \"39.1\"^^xsd:float .\\n\\n<http://www.semanticweb.org/rpg/ontologies/2021/8/strateos-containers#wellDepth5> a ns1:Depth ;\\n    ns1:hasDimension ns1:millimetre ;\\n    ns1:hasNumericalValue \"36.0\"^^xsd:float .\\n\\n<http://www.semanticweb.org/rpg/ontologies/2021/8/strateos-containers#wellDepth8> a ns1:Depth ;\\n    ns1:hasDimension ns1:millimetre ;\\n    ns1:hasNumericalValue \"10.67\"^^xsd:float .\\n\\n<http://www.semanticweb.org/rpg/ontologies/2021/8/strateos-containers#wellvolume1> a ns1:Volume ;\\n    ns1:hasDimension ns1:microlitre ;\\n    ns1:hasNumericalValue \"410.0\"^^xsd:float .\\n\\n<http://www.semanticweb.org/rpg/ontologies/2021/8/strateos-containers#wellvolume37> a ns1:Volume ;\\n    ns1:hasDimension ns1:microlitre ;\\n    ns1:hasNumericalValue \"10.0\"^^xsd:float .\\n\\n<http://www.semanticweb.org/rpg/ontologies/2021/8/strateos-containers#wellvolume39> a ns1:Volume ;\\n    ns1:hasDimension ns1:microlitre ;\\n    ns1:hasNumericalValue \"21000.0\"^^xsd:float .\\n\\n<http://www.semanticweb.org/rpg/ontologies/2021/8/strateos-containers#wellvolume4> a ns1:Volume ;\\n    ns1:hasDimension ns1:microlitre ;\\n    ns1:hasNumericalValue \"200.0\"^^xsd:float .\\n\\n<http://www.semanticweb.org/rpg/ontologies/2021/8/strateos-containers#wellDepth14> a ns1:Depth ;\\n    ns1:hasDimension ns1:millimetre ;\\n    ns1:hasNumericalValue \"10.9\"^^xsd:float .\\n\\n<http://www.semanticweb.org/rpg/ontologies/2021/8/strateos-containers#wellDepth20> a ns1:Depth ;\\n    ns1:hasDimension ns1:millimetre ;\\n    ns1:hasNumericalValue \"11.57\"^^xsd:float .\\n\\n<http://www.semanticweb.org/rpg/ontologies/2021/8/strateos-containers#height15> a ns1:Height ;\\n    ns1:hasDimension ns1:millimetre ;\\n    ns1:hasNumericalValue \"19.0\"^^xsd:float .\\n\\n<http://www.semanticweb.org/rpg/ontologies/2021/8/strateos-containers#height20> a ns1:Height ;\\n    ns1:hasDimension ns1:millimetre ;\\n    ns1:hasNumericalValue \"14.22\"^^xsd:float .\\n\\n<http://www.semanticweb.org/rpg/ontologies/2021/8/strateos-containers#height21> a ns1:Height ;\\n    ns1:hasDimension ns1:millimetre ;\\n    ns1:hasNumericalValue \"19.0\"^^xsd:float .\\n\\n<http://www.semanticweb.org/rpg/ontologies/2021/8/strateos-containers#height30> a ns1:Height ;\\n    ns1:hasDimension ns1:millimetre ;\\n    ns1:hasNumericalValue \"14.7\"^^xsd:float .\\n\\n<http://www.semanticweb.org/rpg/ontologies/2021/8/strateos-containers#height31> a ns1:Height ;\\n    ns1:hasDimension ns1:millimetre ;\\n    ns1:hasNumericalValue \"14.35\"^^xsd:float .\\n\\n<http://www.semanticweb.org/rpg/ontologies/2021/8/strateos-containers#height34> a ns1:Height ;\\n    ns1:hasDimension ns1:millimetre ;\\n    ns1:hasNumericalValue \"14.2\"^^xsd:float .\\n\\n<http://www.semanticweb.org/rpg/ontologies/2021/8/strateos-containers#height4> a ns1:Height ;\\n    ns1:hasDimension ns1:millimetre ;\\n    ns1:hasNumericalValue \"14.5\"^^xsd:float .\\n\\n<http://www.semanticweb.org/rpg/ontologies/2021/8/strateos-containers#height5> a ns1:Height ;\\n    ns1:hasDimension ns1:millimetre ;\\n    ns1:hasNumericalValue \"36.0\"^^xsd:float .\\n\\n<http://www.semanticweb.org/rpg/ontologies/2021/8/strateos-containers#wellDepth22> a ns1:Depth ;\\n    ns1:hasDimension ns1:millimetre ;\\n    ns1:hasNumericalValue \"5.3\"^^xsd:float .\\n\\n<http://www.semanticweb.org/rpg/ontologies/2021/8/strateos-containers#wellDepth36> a ns1:Depth ;\\n    ns1:hasDimension ns1:millimetre ;\\n    ns1:hasNumericalValue \"4.8\"^^xsd:float .\\n\\n<http://www.semanticweb.org/rpg/ontologies/2021/8/strateos-containers#wellDepth38> a ns1:Depth ;\\n    ns1:hasDimension ns1:millimetre ;\\n    ns1:hasNumericalValue \"42.03\"^^xsd:float .\\n\\n<http://www.semanticweb.org/rpg/ontologies/2021/8/strateos-containers#wellvolume30> a ns1:Volume ;\\n    ns1:hasDimension ns1:microlitre ;\\n    ns1:hasNumericalValue \"400.0\"^^xsd:float .\\n\\n<http://www.semanticweb.org/rpg/ontologies/2021/8/strateos-containers#wellvolume35> a ns1:Volume ;\\n    ns1:hasDimension ns1:microlitre ;\\n    ns1:hasNumericalValue \"120.0\"^^xsd:float .\\n\\n<http://www.semanticweb.org/rpg/ontologies/2021/8/strateos-containers#height29> a ns1:Height ;\\n    ns1:hasDimension ns1:millimetre ;\\n    ns1:hasNumericalValue \"14.22\"^^xsd:float .\\n\\n<http://www.semanticweb.org/rpg/ontologies/2021/8/strateos-containers#height37> a ns1:Height ;\\n    ns1:hasDimension ns1:millimetre ;\\n    ns1:hasNumericalValue \"10.4\"^^xsd:float .\\n\\n<http://www.semanticweb.org/rpg/ontologies/2021/8/strateos-containers#height39> a ns1:Height ;\\n    ns1:hasDimension ns1:millimetre ;\\n    ns1:hasNumericalValue \"44.04\"^^xsd:float .\\n\\n<http://www.semanticweb.org/rpg/ontologies/2021/8/strateos-containers#wellvolume13> a ns1:Volume ;\\n    ns1:hasDimension ns1:microlitre ;\\n    ns1:hasNumericalValue \"340.0\"^^xsd:float .\\n\\n<http://www.semanticweb.org/rpg/ontologies/2021/8/strateos-containers#wellvolume14> a ns1:Volume ;\\n    ns1:hasDimension ns1:microlitre ;\\n    ns1:hasNumericalValue \"340.0\"^^xsd:float .\\n\\n<http://www.semanticweb.org/rpg/ontologies/2021/8/strateos-containers#wellvolume19> a ns1:Volume ;\\n    ns1:hasDimension ns1:microlitre ;\\n    ns1:hasNumericalValue \"160.0\"^^xsd:float .\\n\\n<http://www.semanticweb.org/rpg/ontologies/2021/8/strateos-containers#wellvolume20> a ns1:Volume ;\\n    ns1:hasDimension ns1:microlitre ;\\n    ns1:hasNumericalValue \"70.0\"^^xsd:float .\\n\\n<http://www.semanticweb.org/rpg/ontologies/2021/8/strateos-containers#wellvolume27> a ns1:Volume ;\\n    ns1:hasDimension ns1:microlitre ;\\n    ns1:hasNumericalValue \"120.0\"^^xsd:float .\\n\\n<http://www.semanticweb.org/rpg/ontologies/2021/8/strateos-containers#wellDepth10> a ns1:Depth ;\\n    ns1:hasDimension ns1:millimetre ;\\n    ns1:hasNumericalValue \"11.68\"^^xsd:float .\\n\\n<http://www.semanticweb.org/rpg/ontologies/2021/8/strateos-containers#wellDepth15> a ns1:Depth ;\\n    ns1:hasDimension ns1:millimetre ;\\n    ns1:hasNumericalValue \"16.5\"^^xsd:float .\\n\\n<http://www.semanticweb.org/rpg/ontologies/2021/8/strateos-containers#wellDepth21> a ns1:Depth ;\\n    ns1:hasDimension ns1:millimetre ;\\n    ns1:hasNumericalValue \"16.5\"^^xsd:float .\\n\\n<http://www.semanticweb.org/rpg/ontologies/2021/8/strateos-containers#wellDepth25> a ns1:Depth ;\\n    ns1:hasDimension ns1:millimetre ;\\n    ns1:hasNumericalValue \"11.3\"^^xsd:float .\\n\\n<http://www.semanticweb.org/rpg/ontologies/2021/8/strateos-containers#wellDepth3> a ns1:Depth ;\\n    ns1:hasDimension ns1:millimetre ;\\n    ns1:hasNumericalValue \"10.45\"^^xsd:float .\\n\\n<http://www.semanticweb.org/rpg/ontologies/2021/8/strateos-containers#wellDepth31> a ns1:Depth ;\\n    ns1:hasDimension ns1:millimetre ;\\n    ns1:hasNumericalValue \"5.3\"^^xsd:float .\\n\\n<http://www.semanticweb.org/rpg/ontologies/2021/8/strateos-containers#wellDepth32> a ns1:Depth ;\\n    ns1:hasDimension ns1:millimetre ;\\n    ns1:hasNumericalValue \"11.43\"^^xsd:float .\\n\\n<http://www.semanticweb.org/rpg/ontologies/2021/8/strateos-containers#wellDepth34> a ns1:Depth ;\\n    ns1:hasDimension ns1:millimetre ;\\n    ns1:hasNumericalValue \"11.43\"^^xsd:float .\\n\\n<http://www.semanticweb.org/rpg/ontologies/2021/8/strateos-containers#wellDepth35> a ns1:Depth ;\\n    ns1:hasDimension ns1:millimetre ;\\n    ns1:hasNumericalValue \"11.5\"^^xsd:float .\\n\\n<http://www.semanticweb.org/rpg/ontologies/2021/8/strateos-containers#wellvolume0> a ns1:Volume ;\\n    ns1:hasDimension ns1:microlitre ;\\n    ns1:hasNumericalValue \"40.0\"^^xsd:float .\\n\\n<http://www.semanticweb.org/rpg/ontologies/2021/8/strateos-containers#wellDepth37> a ns1:Depth ;\\n    ns1:hasDimension ns1:millimetre ;\\n    ns1:hasNumericalValue \"5.0\"^^xsd:float .\\n\\n<http://www.semanticweb.org/rpg/ontologies/2021/8/strateos-containers#wellvolume10> a ns1:Volume ;\\n    ns1:hasDimension ns1:microlitre ;\\n    ns1:hasNumericalValue \"410.0\"^^xsd:float .\\n\\n<http://www.semanticweb.org/rpg/ontologies/2021/8/strateos-containers#wellvolume17> a ns1:Volume ;\\n    ns1:hasDimension ns1:microlitre ;\\n    ns1:hasNumericalValue \"1000.0\"^^xsd:float .\\n\\n<http://www.semanticweb.org/rpg/ontologies/2021/8/strateos-containers#wellvolume25> a ns1:Volume ;\\n    ns1:hasDimension ns1:microlitre ;\\n    ns1:hasNumericalValue \"340.0\"^^xsd:float .\\n\\n<http://www.semanticweb.org/rpg/ontologies/2021/8/strateos-containers#wellvolume29> a ns1:Volume ;\\n    ns1:hasDimension ns1:microlitre ;\\n    ns1:hasNumericalValue \"35.0\"^^xsd:float .\\n\\n<http://www.semanticweb.org/rpg/ontologies/2021/8/strateos-containers#wellvolume31> a ns1:Volume ;\\n    ns1:hasDimension ns1:microlitre ;\\n    ns1:hasNumericalValue \"28.0\"^^xsd:float .\\n\\n<http://www.semanticweb.org/rpg/ontologies/2021/8/strateos-containers#wellvolume36> a ns1:Volume ;\\n    ns1:hasDimension ns1:microlitre ;\\n    ns1:hasNumericalValue \"12.5\"^^xsd:float .\\n\\n<http://www.semanticweb.org/rpg/ontologies/2021/8/strateos-containers#wellvolume40> a ns1:Volume ;\\n    ns1:hasDimension ns1:microlitre ;\\n    ns1:hasNumericalValue \"100.0\"^^xsd:float .\\n\\n<http://www.semanticweb.org/rpg/ontologies/2021/8/strateos-containers#wellvolume7> a ns1:Volume ;\\n    ns1:hasDimension ns1:microlitre ;\\n    ns1:hasNumericalValue \"360.0\"^^xsd:float .\\n\\n<http://www.semanticweb.org/rpg/ontologies/2021/8/strateos-containers#wellDepth0> a ns1:Depth ;\\n    ns1:hasDimension ns1:millimetre ;\\n    ns1:hasNumericalValue \"9.6\"^^xsd:float .\\n\\n<http://www.semanticweb.org/rpg/ontologies/2021/8/strateos-containers#wellDepth29> a ns1:Depth ;\\n    ns1:hasDimension ns1:millimetre ;\\n    ns1:hasNumericalValue \"6.58\"^^xsd:float .\\n\\n<http://www.semanticweb.org/rpg/ontologies/2021/8/strateos-containers#wellDepth40> a ns1:Depth ;\\n    ns1:hasDimension ns1:millimetre ;\\n    ns1:hasNumericalValue \"12.0\"^^xsd:float .\\n\\n<http://www.semanticweb.org/rpg/ontologies/2021/8/strateos-containers#wellDepth7> a ns1:Depth ;\\n    ns1:hasDimension ns1:millimetre ;\\n    ns1:hasNumericalValue \"10.67\"^^xsd:float .\\n\\n<http://www.semanticweb.org/rpg/ontologies/2021/8/strateos-containers#height10> a ns1:Height ;\\n    ns1:hasDimension ns1:millimetre ;\\n    ns1:hasNumericalValue \"14.35\"^^xsd:float .\\n\\n<http://www.semanticweb.org/rpg/ontologies/2021/8/strateos-containers#height12> a ns1:Height ;\\n    ns1:hasDimension ns1:millimetre ;\\n    ns1:hasNumericalValue \"14.35\"^^xsd:float .\\n\\n<http://www.semanticweb.org/rpg/ontologies/2021/8/strateos-containers#height14> a ns1:Height ;\\n    ns1:hasDimension ns1:millimetre ;\\n    ns1:hasNumericalValue \"14.22\"^^xsd:float .\\n\\n<http://www.semanticweb.org/rpg/ontologies/2021/8/strateos-containers#height17> a ns1:Height ;\\n    ns1:hasDimension ns1:millimetre ;\\n    ns1:hasNumericalValue \"44.0\"^^xsd:float .\\n\\n<http://www.semanticweb.org/rpg/ontologies/2021/8/strateos-containers#height18> a ns1:Height ;\\n    ns1:hasDimension ns1:millimetre ;\\n    ns1:hasNumericalValue \"14.22\"^^xsd:float .\\n\\n<http://www.semanticweb.org/rpg/ontologies/2021/8/strateos-containers#height19> a ns1:Height ;\\n    ns1:hasDimension ns1:millimetre ;\\n    ns1:hasNumericalValue \"15.9\"^^xsd:float .\\n\\n<http://www.semanticweb.org/rpg/ontologies/2021/8/strateos-containers#height2> a ns1:Height ;\\n    ns1:hasDimension ns1:millimetre ;\\n    ns1:hasNumericalValue \"14.35\"^^xsd:float .\\n\\n<http://www.semanticweb.org/rpg/ontologies/2021/8/strateos-containers#height38> a ns1:Height ;\\n    ns1:hasDimension ns1:millimetre ;\\n    ns1:hasNumericalValue \"43.8\"^^xsd:float .\\n\\n<http://www.semanticweb.org/rpg/ontologies/2021/8/strateos-containers#height7> a ns1:Height ;\\n    ns1:hasDimension ns1:millimetre ;\\n    ns1:hasNumericalValue \"14.22\"^^xsd:float .\\n\\n<http://www.semanticweb.org/rpg/ontologies/2021/8/strateos-containers#wellDepth11> a ns1:Depth ;\\n    ns1:hasDimension ns1:millimetre ;\\n    ns1:hasNumericalValue \"9.39\"^^xsd:float .\\n\\n<http://www.semanticweb.org/rpg/ontologies/2021/8/strateos-containers#wellDepth16> a ns1:Depth ;\\n    ns1:hasDimension ns1:millimetre ;\\n    ns1:hasNumericalValue \"10.59\"^^xsd:float .\\n\\n<http://www.semanticweb.org/rpg/ontologies/2021/8/strateos-containers#wellDepth23> a ns1:Depth ;\\n    ns1:hasDimension ns1:millimetre ;\\n    ns1:hasNumericalValue \"10.668\"^^xsd:float .\\n\\n<http://www.semanticweb.org/rpg/ontologies/2021/8/strateos-containers#wellDepth27> a ns1:Depth ;\\n    ns1:hasDimension ns1:millimetre ;\\n    ns1:hasNumericalValue \"11.7\"^^xsd:float .\\n\\n<http://www.semanticweb.org/rpg/ontologies/2021/8/strateos-containers#wellDepth33> a ns1:Depth ;\\n    ns1:hasDimension ns1:millimetre ;\\n    ns1:hasNumericalValue \"42.0\"^^xsd:float .\\n\\n<http://www.semanticweb.org/rpg/ontologies/2021/8/strateos-containers#wellDepth9> a ns1:Depth ;\\n    ns1:hasDimension ns1:millimetre ;\\n    ns1:hasNumericalValue \"11.2\"^^xsd:float .\\n\\n<http://www.semanticweb.org/rpg/ontologies/2021/8/strateos-containers#wellvolume22> a ns1:Volume ;\\n    ns1:hasDimension ns1:microlitre ;\\n    ns1:hasNumericalValue \"28.0\"^^xsd:float .\\n\\n<http://www.semanticweb.org/rpg/ontologies/2021/8/strateos-containers#wellvolume28> a ns1:Volume ;\\n    ns1:hasDimension ns1:microlitre ;\\n    ns1:hasNumericalValue \"14.0\"^^xsd:float .\\n\\n<http://www.semanticweb.org/rpg/ontologies/2021/8/strateos-containers#height26> a ns1:Height ;\\n    ns1:hasDimension ns1:millimetre ;\\n    ns1:hasNumericalValue \"43.8\"^^xsd:float .\\n\\n<http://www.semanticweb.org/rpg/ontologies/2021/8/strateos-containers#height3> a ns1:Height ;\\n    ns1:hasDimension ns1:millimetre ;\\n    ns1:hasNumericalValue \"14.4\"^^xsd:float .\\n\\n<http://www.semanticweb.org/rpg/ontologies/2021/8/strateos-containers#height9> a ns1:Height ;\\n    ns1:hasDimension ns1:millimetre ;\\n    ns1:hasNumericalValue \"14.6\"^^xsd:float .\\n\\n<http://www.semanticweb.org/rpg/ontologies/2021/8/strateos-containers#wellvolume32> a ns1:Volume ;\\n    ns1:hasDimension ns1:microlitre ;\\n    ns1:hasNumericalValue \"90.0\"^^xsd:float .\\n\\n<http://www.semanticweb.org/rpg/ontologies/2021/8/strateos-containers#wellDepth12> a ns1:Depth ;\\n    ns1:hasDimension ns1:millimetre ;\\n    ns1:hasNumericalValue \"11.68\"^^xsd:float .\\n\\n<http://www.semanticweb.org/rpg/ontologies/2021/8/strateos-containers#wellDepth4> a ns1:Depth ;\\n    ns1:hasDimension ns1:millimetre ;\\n    ns1:hasNumericalValue \"12.9\"^^xsd:float .\\n\\n<http://www.semanticweb.org/rpg/ontologies/2021/8/strateos-containers#wellvolume15> a ns1:Volume ;\\n    ns1:hasDimension ns1:microlitre ;\\n    ns1:hasNumericalValue \"5000.0\"^^xsd:float .\\n\\n<http://www.semanticweb.org/rpg/ontologies/2021/8/strateos-containers#wellvolume33> a ns1:Volume ;\\n    ns1:hasDimension ns1:microlitre ;\\n    ns1:hasNumericalValue \"10000.0\"^^xsd:float .\\n\\n<http://www.semanticweb.org/rpg/ontologies/2021/8/strateos-containers#wellvolume6> a ns1:Volume ;\\n    ns1:hasDimension ns1:microlitre ;\\n    ns1:hasNumericalValue \"135.0\"^^xsd:float .\\n\\n<http://www.semanticweb.org/rpg/ontologies/2021/8/strateos-containers#wellvolume8> a ns1:Volume ;\\n    ns1:hasDimension ns1:microlitre ;\\n    ns1:hasNumericalValue \"340.0\"^^xsd:float .\\n\\nns2:Chemspeed a ns2:VendorFirm ;\\n    rdfs:label \"Chemspeed\" ;\\n    ns2:vendorName \"Chemspeed\" .\\n\\nns2:Costar a ns2:VendorFirm ;\\n    rdfs:label \"Costar\" ;\\n    ns2:vendorName \"Costar\" .\\n\\n<http://www.semanticweb.org/rpg/ontologies/2021/5/container-ontology#E%26K%20Scientific> a ns2:VendorFirm ;\\n    rdfs:label \"E&K Scientific\" ;\\n    ns2:vendorName \"E&K Scientific\" .\\n\\n<http://www.semanticweb.org/rpg/ontologies/2021/5/container-ontology#Sumitomo%20Bakelite%20Co.> a ns2:VendorFirm ;\\n    rdfs:label \"Sumitomo Bakelite Co.\" ;\\n    ns2:vendorName \"Sumitomo Bakelite Co.\" .\\n\\n<http://www.semanticweb.org/rpg/ontologies/2021/8/strateos-containers#Axygenres-mw12-hp> a ns2:CatalogEntry,\\n        ns2:Plate ;\\n    rdfs:label \"res-mw12-hp\" ;\\n    ns2:catalogNumber \"res-mw12-hp\" ;\\n    ns2:columnCount 12 ;\\n    ns2:hasCatalogEntry <http://www.semanticweb.org/rpg/ontologies/2021/8/strateos-containers#Axygenres-mw12-hp> ;\\n    ns2:hasVendor ns2:Axygen ;\\n    ns2:height <http://www.semanticweb.org/rpg/ontologies/2021/8/strateos-containers#height39> ;\\n    ns2:rowCount 1 ;\\n    ns2:wellCount 12 ;\\n    ns2:wellDepth <http://www.semanticweb.org/rpg/ontologies/2021/8/strateos-containers#wellDepth39> ;\\n    ns2:wellVolume <http://www.semanticweb.org/rpg/ontologies/2021/8/strateos-containers#wellvolume39> ;\\n    rdfs:comment \"Axygen Multiple Well Reagent Reservoir with 12-Channel Trough, High Profile\" .\\n\\n<http://www.semanticweb.org/rpg/ontologies/2021/8/strateos-containers#Axygenres-mw8-hp> a ns2:CatalogEntry,\\n        ns2:Plate ;\\n    rdfs:label \"res-mw8-hp\" ;\\n    ns2:catalogNumber \"res-mw8-hp\" ;\\n    ns2:columnCount 1 ;\\n    ns2:hasCatalogEntry <http://www.semanticweb.org/rpg/ontologies/2021/8/strateos-containers#Axygenres-mw8-hp> ;\\n    ns2:hasVendor ns2:Axygen ;\\n    ns2:height <http://www.semanticweb.org/rpg/ontologies/2021/8/strateos-containers#height26> ;\\n    ns2:rowCount 8 ;\\n    ns2:wellCount 8 ;\\n    ns2:wellDepth <http://www.semanticweb.org/rpg/ontologies/2021/8/strateos-containers#wellDepth26> ;\\n    ns2:wellVolume <http://www.semanticweb.org/rpg/ontologies/2021/8/strateos-containers#wellvolume26> ;\\n    rdfs:comment \"Axygen Multiple Well Reagent Reservoir with 8-Channel Trough, High Profile\" .\\n\\n<http://www.semanticweb.org/rpg/ontologies/2021/8/strateos-containers#Chemspeedunknown> a ns2:CatalogEntry ;\\n    ns2:catalogNumber \"unknown\" ;\\n    ns2:hasVendor ns2:Chemspeed .\\n\\n<http://www.semanticweb.org/rpg/ontologies/2021/8/strateos-containers#Corning353077> a ns2:CatalogEntry ;\\n    ns2:catalogNumber \"353077\" ;\\n    ns2:hasVendor ns2:Corning .\\n\\n<http://www.semanticweb.org/rpg/ontologies/2021/8/strateos-containers#Corning3570> a ns2:CatalogEntry ;\\n    ns2:catalogNumber \"3570\" ;\\n    ns2:hasVendor ns2:Corning .\\n\\n<http://www.semanticweb.org/rpg/ontologies/2021/8/strateos-containers#Corning3574> a ns2:CatalogEntry ;\\n    ns2:catalogNumber \"3574\" ;\\n    ns2:hasVendor ns2:Corning .\\n\\n<http://www.semanticweb.org/rpg/ontologies/2021/8/strateos-containers#Corning3632> a ns2:CatalogEntry ;\\n    ns2:catalogNumber \"3632\" ;\\n    ns2:hasVendor ns2:Corning .\\n\\n<http://www.semanticweb.org/rpg/ontologies/2021/8/strateos-containers#Corning3635> a ns2:CatalogEntry ;\\n    ns2:catalogNumber \"3635\" ;\\n    ns2:hasVendor ns2:Corning .\\n\\n<http://www.semanticweb.org/rpg/ontologies/2021/8/strateos-containers#Corning3657> a ns2:CatalogEntry ;\\n    ns2:catalogNumber \"3657\" ;\\n    ns2:hasVendor ns2:Corning .\\n\\n<http://www.semanticweb.org/rpg/ontologies/2021/8/strateos-containers#Corning3700> a ns2:CatalogEntry ;\\n    ns2:catalogNumber \"3700\" ;\\n    ns2:hasVendor ns2:Corning .\\n\\n<http://www.semanticweb.org/rpg/ontologies/2021/8/strateos-containers#Corning3706> a ns2:CatalogEntry ;\\n    ns2:catalogNumber \"3706\" ;\\n    ns2:hasVendor ns2:Corning .\\n\\n<http://www.semanticweb.org/rpg/ontologies/2021/8/strateos-containers#Corning3727> a ns2:CatalogEntry ;\\n    ns2:catalogNumber \"3727\" ;\\n    ns2:hasVendor ns2:Corning .\\n\\n<http://www.semanticweb.org/rpg/ontologies/2021/8/strateos-containers#Corning3763> a ns2:CatalogEntry ;\\n    ns2:catalogNumber \"3763\" ;\\n    ns2:hasVendor ns2:Corning .\\n\\n<http://www.semanticweb.org/rpg/ontologies/2021/8/strateos-containers#Corning3824> a ns2:CatalogEntry ;\\n    ns2:catalogNumber \"3824\" ;\\n    ns2:hasVendor ns2:Corning .\\n\\n<http://www.semanticweb.org/rpg/ontologies/2021/8/strateos-containers#Corning3894> a ns2:CatalogEntry ;\\n    ns2:catalogNumber \"3894\" ;\\n    ns2:hasVendor ns2:Corning .\\n\\n<http://www.semanticweb.org/rpg/ontologies/2021/8/strateos-containers#Corning3961> a ns2:CatalogEntry ;\\n    ns2:catalogNumber \"3961\" ;\\n    ns2:hasVendor ns2:Corning .\\n\\n<http://www.semanticweb.org/rpg/ontologies/2021/8/strateos-containers#Corning4514> a ns2:CatalogEntry ;\\n    ns2:catalogNumber \"4514\" ;\\n    ns2:hasVendor ns2:Corning .\\n\\n<http://www.semanticweb.org/rpg/ontologies/2021/8/strateos-containers#Costar3590> a ns2:CatalogEntry ;\\n    ns2:catalogNumber \"3590\" ;\\n    ns2:hasVendor ns2:Costar .\\n\\n<http://www.semanticweb.org/rpg/ontologies/2021/8/strateos-containers#E%26K%20ScientificEK-2053-S> a ns2:CatalogEntry ;\\n    ns2:catalogNumber \"EK-2053-S\" ;\\n    ns2:hasVendor <http://www.semanticweb.org/rpg/ontologies/2021/5/container-ontology#E%26K%20Scientific> .\\n\\n<http://www.semanticweb.org/rpg/ontologies/2021/8/strateos-containers#Eppendorf30720016> a ns2:CatalogEntry ;\\n    ns2:catalogNumber \"30720016\" ;\\n    ns2:hasVendor ns2:Eppendorf .\\n\\n<http://www.semanticweb.org/rpg/ontologies/2021/8/strateos-containers#Eppendorf30720113> a ns2:CatalogEntry ;\\n    ns2:catalogNumber \"30720113\" ;\\n    ns2:hasVendor ns2:Eppendorf .\\n\\n<http://www.semanticweb.org/rpg/ontologies/2021/8/strateos-containers#Eppendorf30730119> a ns2:CatalogEntry ;\\n    ns2:catalogNumber \"30730119\" ;\\n    ns2:hasVendor ns2:Eppendorf .\\n\\n<http://www.semanticweb.org/rpg/ontologies/2021/8/strateos-containers#Eppendorf951020539> a ns2:CatalogEntry ;\\n    ns2:catalogNumber \"951020539\" ;\\n    ns2:hasVendor ns2:Eppendorf .\\n\\n<http://www.semanticweb.org/rpg/ontologies/2021/8/strateos-containers#Eppendorf951020619> a ns2:CatalogEntry ;\\n    ns2:catalogNumber \"951020619\" ;\\n    ns2:hasVendor ns2:Eppendorf .\\n\\n<http://www.semanticweb.org/rpg/ontologies/2021/8/strateos-containers#Fisher22-387-030> a ns2:CatalogEntry ;\\n    ns2:catalogNumber \"22-387-030\" ;\\n    ns2:hasVendor ns2:Fisher .\\n\\n<http://www.semanticweb.org/rpg/ontologies/2021/8/strateos-containers#Fisher22-387-031> a ns2:CatalogEntry ;\\n    ns2:catalogNumber \"22-387-031\" ;\\n    ns2:hasVendor ns2:Fisher .\\n\\n<http://www.semanticweb.org/rpg/ontologies/2021/8/strateos-containers#Fisher249944> a ns2:CatalogEntry ;\\n    ns2:catalogNumber \"249944\" ;\\n    ns2:hasVendor ns2:Fisher .\\n\\n<http://www.semanticweb.org/rpg/ontologies/2021/8/strateos-containers#Greiner655077> a ns2:CatalogEntry ;\\n    ns2:catalogNumber \"655077\" ;\\n    ns2:hasVendor ns2:Greiner .\\n\\n<http://www.semanticweb.org/rpg/ontologies/2021/8/strateos-containers#Greiner781280> a ns2:CatalogEntry ;\\n    ns2:catalogNumber \"781280\" ;\\n    ns2:hasVendor ns2:Greiner .\\n\\n<http://www.semanticweb.org/rpg/ontologies/2021/8/strateos-containers#Greiner782073> a ns2:CatalogEntry ;\\n    ns2:catalogNumber \"782073\" ;\\n    ns2:hasVendor ns2:Greiner .\\n\\n<http://www.semanticweb.org/rpg/ontologies/2021/8/strateos-containers#LabcyteLP-0200> a ns2:CatalogEntry ;\\n    ns2:catalogNumber \"LP-0200\" ;\\n    ns2:hasVendor ns2:Labcyte .\\n\\n<http://www.semanticweb.org/rpg/ontologies/2021/8/strateos-containers#LabcytePP-0200> a ns2:CatalogEntry ;\\n    ns2:catalogNumber \"PP-0200\" ;\\n    ns2:hasVendor ns2:Labcyte .\\n\\n<http://www.semanticweb.org/rpg/ontologies/2021/8/strateos-containers#MesoscaleK15048G> a ns2:CatalogEntry ;\\n    ns2:catalogNumber \"K15048G\" ;\\n    ns2:hasVendor ns2:Mesoscale .\\n\\n<http://www.semanticweb.org/rpg/ontologies/2021/8/strateos-containers#MesoscaleK15069L> a ns2:CatalogEntry ;\\n    ns2:catalogNumber \"K15069L\" ;\\n    ns2:hasVendor ns2:Mesoscale .\\n\\n<http://www.semanticweb.org/rpg/ontologies/2021/8/strateos-containers#MesoscaleK152MSD> a ns2:CatalogEntry ;\\n    ns2:catalogNumber \"K152MSD\" ;\\n    ns2:hasVendor ns2:Mesoscale .\\n\\n<http://www.semanticweb.org/rpg/ontologies/2021/8/strateos-containers#PerkinElmer6007290> a ns2:CatalogEntry ;\\n    ns2:catalogNumber \"6007290\" ;\\n    ns2:hasVendor ns2:PerkinElmer .\\n\\n<http://www.semanticweb.org/rpg/ontologies/2021/8/strateos-containers#PerkinElmer6008260> a ns2:CatalogEntry ;\\n    ns2:catalogNumber \"6008260\" ;\\n    ns2:hasVendor ns2:PerkinElmer .\\n\\n<http://www.semanticweb.org/rpg/ontologies/2021/8/strateos-containers#PerkinElmer6008280> a ns2:CatalogEntry ;\\n    ns2:catalogNumber \"6008280\" ;\\n    ns2:hasVendor ns2:PerkinElmer .\\n\\n<http://www.semanticweb.org/rpg/ontologies/2021/8/strateos-containers#Sumitomo%20Bakelite%20Co.MS-9384WZ> a ns2:CatalogEntry ;\\n    ns2:catalogNumber \"MS-9384WZ\" ;\\n    ns2:hasVendor <http://www.semanticweb.org/rpg/ontologies/2021/5/container-ontology#Sumitomo%20Bakelite%20Co.> .\\n\\n<http://www.semanticweb.org/rpg/ontologies/2021/8/strateos-containers#ThermoFisher136101> a ns2:CatalogEntry ;\\n    ns2:catalogNumber \"136101\" ;\\n    ns2:hasVendor ns2:ThermoFisher .\\n\\n<http://www.semanticweb.org/rpg/ontologies/2021/8/strateos-containers#ThermoFisher264573> a ns2:CatalogEntry ;\\n    ns2:catalogNumber \"264573\" ;\\n    ns2:hasVendor ns2:ThermoFisher .\\n\\nns2:Axygen a ns2:VendorFirm ;\\n    rdfs:label \"Axygen\" ;\\n    ns2:vendorName \"Axygen\" .\\n\\nns2:Labcyte a ns2:VendorFirm ;\\n    rdfs:label \"Labcyte\" ;\\n    ns2:vendorName \"Labcyte\" .\\n\\nns2:ThermoFisher a ns2:VendorFirm ;\\n    rdfs:label \"ThermoFisher\" ;\\n    ns2:vendorName \"ThermoFisher\" .\\n\\nns2:Fisher a ns2:VendorFirm ;\\n    rdfs:label \"Fisher\" ;\\n    ns2:vendorName \"Fisher\" .\\n\\nns2:Greiner a ns2:VendorFirm ;\\n    rdfs:label \"Greiner\" ;\\n    ns2:vendorName \"Greiner\" .\\n\\nns2:Mesoscale a ns2:VendorFirm ;\\n    rdfs:label \"Mesoscale\" ;\\n    ns2:vendorName \"Mesoscale\" .\\n\\nns2:PerkinElmer a ns2:VendorFirm ;\\n    rdfs:label \"PerkinElmer\" ;\\n    ns2:vendorName \"PerkinElmer\" .\\n\\nns2:Eppendorf a ns2:VendorFirm ;\\n    rdfs:label \"Eppendorf\" ;\\n    ns2:vendorName \"Eppendorf\" .\\n\\nns2:Corning a ns2:VendorFirm ;\\n    rdfs:label \"Corning\" ;\\n    ns2:vendorName \"Corning\" .\\n\\n'"
      ]
     },
     "execution_count": 16,
     "metadata": {},
     "output_type": "execute_result"
    }
   ],
   "source": [
    "g.serialize(format='turtle')"
   ]
  },
  {
   "cell_type": "code",
   "execution_count": 17,
   "metadata": {
    "pycharm": {
     "name": "#%%\n"
    }
   },
   "outputs": [],
   "source": [
    "g.serialize('../owl/strateos-catalog.ttl', format='turtle')"
   ]
  },
  {
   "cell_type": "code",
   "execution_count": null,
   "metadata": {},
   "outputs": [],
   "source": []
  }
 ],
 "metadata": {
  "kernelspec": {
   "display_name": "Python 3",
   "language": "python",
   "name": "python3"
  },
  "language_info": {
   "codemirror_mode": {
    "name": "ipython",
    "version": 3
   },
   "file_extension": ".py",
   "mimetype": "text/x-python",
   "name": "python",
   "nbconvert_exporter": "python",
   "pygments_lexer": "ipython3",
   "version": "3.9.5"
  }
 },
 "nbformat": 4,
 "nbformat_minor": 1
}
