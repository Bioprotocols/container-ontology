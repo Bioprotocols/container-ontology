{
 "cells": [
  {
   "cell_type": "markdown",
   "metadata": {
    "pycharm": {
     "name": "#%% md\n"
    }
   },
   "source": [
    "# Make Classes for the Microplates in the Strateos catalog\n",
    "\n"
   ]
  },
  {
   "cell_type": "code",
   "execution_count": 1,
   "metadata": {
    "pycharm": {
     "name": "#%%\n"
    }
   },
   "outputs": [],
   "source": [
    "import pandas as pd\n",
    "from typing import List, Union, Optional, Tuple\n",
    "import rdflib\n",
    "from rdflib import Graph, Namespace, Literal, URIRef, BNode\n",
    "from rdflib.namespace import RDF, RDFS, OWL, XSD\n",
    "from urllib.parse import quote\n"
   ]
  },
  {
   "cell_type": "code",
   "execution_count": 2,
   "metadata": {},
   "outputs": [],
   "source": [
    "# Type declaration\n",
    "Triple = Tuple[URIRef, URIRef, URIRef]"
   ]
  },
  {
   "cell_type": "code",
   "execution_count": 3,
   "metadata": {},
   "outputs": [
    {
     "data": {
      "text/html": [
       "<div>\n",
       "<style scoped>\n",
       "    .dataframe tbody tr th:only-of-type {\n",
       "        vertical-align: middle;\n",
       "    }\n",
       "\n",
       "    .dataframe tbody tr th {\n",
       "        vertical-align: top;\n",
       "    }\n",
       "\n",
       "    .dataframe thead th {\n",
       "        text-align: right;\n",
       "    }\n",
       "</style>\n",
       "<table border=\"1\" class=\"dataframe\">\n",
       "  <thead>\n",
       "    <tr style=\"text-align: right;\">\n",
       "      <th></th>\n",
       "      <th>Id</th>\n",
       "      <th>Vendor</th>\n",
       "      <th>Catalog Number</th>\n",
       "      <th>Name</th>\n",
       "      <th>Retired At</th>\n",
       "      <th>Well Count</th>\n",
       "      <th>Well Depth (mm)</th>\n",
       "      <th>Height (mm)</th>\n",
       "      <th>Well Volume (ul)</th>\n",
       "      <th>Column Count</th>\n",
       "      <th>Capabilities</th>\n",
       "      <th>Acceptable Lids</th>\n",
       "      <th>Sale Price</th>\n",
       "    </tr>\n",
       "  </thead>\n",
       "  <tbody>\n",
       "    <tr>\n",
       "      <th>0</th>\n",
       "      <td>384-pcr</td>\n",
       "      <td>Eppendorf</td>\n",
       "      <td>951020539</td>\n",
       "      <td>384-Well twin.tec PCR Plate</td>\n",
       "      <td>-</td>\n",
       "      <td>384</td>\n",
       "      <td>9.60</td>\n",
       "      <td>10.6</td>\n",
       "      <td>40.0</td>\n",
       "      <td>24</td>\n",
       "      <td>bluewash, dispense-destination, echo_dest, env...</td>\n",
       "      <td>ultra-clear, foil</td>\n",
       "      <td>*$9.35*</td>\n",
       "    </tr>\n",
       "    <tr>\n",
       "      <th>1</th>\n",
       "      <td>96-10-spot-vplex-m-pro-inflamm1-MSD</td>\n",
       "      <td>Mesoscale</td>\n",
       "      <td>K15048G</td>\n",
       "      <td>96-well 10-spot v-plex mouse pro-inflammatory ...</td>\n",
       "      <td>-</td>\n",
       "      <td>96</td>\n",
       "      <td>11.68</td>\n",
       "      <td>14.35</td>\n",
       "      <td>410.0</td>\n",
       "      <td>12</td>\n",
       "      <td>bluewash, cover, deseal, dispense-destination,...</td>\n",
       "      <td>low_evaporation, standard, universal, ultra-clear</td>\n",
       "      <td>*$0.00*</td>\n",
       "    </tr>\n",
       "    <tr>\n",
       "      <th>4</th>\n",
       "      <td>384-flat-white-white-nbs</td>\n",
       "      <td>Corning</td>\n",
       "      <td>3574</td>\n",
       "      <td>384-Well Low Flange White FlatBottom Polystyre...</td>\n",
       "      <td>-</td>\n",
       "      <td>384</td>\n",
       "      <td>11.43</td>\n",
       "      <td>14.35</td>\n",
       "      <td>80.0</td>\n",
       "      <td>24</td>\n",
       "      <td>cover, deseal, dispense-destination, echo_dest...</td>\n",
       "      <td>universal, standard, ultra-clear, foil</td>\n",
       "      <td>*$11.80*</td>\n",
       "    </tr>\n",
       "    <tr>\n",
       "      <th>5</th>\n",
       "      <td>384-flat-white-white-optiplate</td>\n",
       "      <td>PerkinElmer</td>\n",
       "      <td>6007290</td>\n",
       "      <td>384-Well White Opaque Microplate</td>\n",
       "      <td>-</td>\n",
       "      <td>384</td>\n",
       "      <td>10.45</td>\n",
       "      <td>14.4</td>\n",
       "      <td>105.0</td>\n",
       "      <td>24</td>\n",
       "      <td>bluewash, cover, dispense-destination, echo_de...</td>\n",
       "      <td>universal, ultra-clear, foil</td>\n",
       "      <td>*$8.28*</td>\n",
       "    </tr>\n",
       "    <tr>\n",
       "      <th>6</th>\n",
       "      <td>96-v-kf</td>\n",
       "      <td>Fisher</td>\n",
       "      <td>22-387-030</td>\n",
       "      <td>96-well KingFisher PCR microplate</td>\n",
       "      <td>-</td>\n",
       "      <td>96</td>\n",
       "      <td>12.90</td>\n",
       "      <td>14.5</td>\n",
       "      <td>200.0</td>\n",
       "      <td>12</td>\n",
       "      <td>cover, dispense-destination, envision, image_p...</td>\n",
       "      <td>standard</td>\n",
       "      <td>*$6.31*</td>\n",
       "    </tr>\n",
       "  </tbody>\n",
       "</table>\n",
       "</div>"
      ],
      "text/plain": [
       "                                    Id       Vendor Catalog Number  \\\n",
       "0                              384-pcr    Eppendorf      951020539   \n",
       "1  96-10-spot-vplex-m-pro-inflamm1-MSD    Mesoscale        K15048G   \n",
       "4             384-flat-white-white-nbs      Corning           3574   \n",
       "5       384-flat-white-white-optiplate  PerkinElmer        6007290   \n",
       "6                              96-v-kf       Fisher     22-387-030   \n",
       "\n",
       "                                                Name Retired At  Well Count  \\\n",
       "0                        384-Well twin.tec PCR Plate          -         384   \n",
       "1  96-well 10-spot v-plex mouse pro-inflammatory ...          -          96   \n",
       "4  384-Well Low Flange White FlatBottom Polystyre...          -         384   \n",
       "5                   384-Well White Opaque Microplate          -         384   \n",
       "6                  96-well KingFisher PCR microplate          -          96   \n",
       "\n",
       "   Well Depth (mm) Height (mm)  Well Volume (ul)  Column Count  \\\n",
       "0             9.60        10.6              40.0            24   \n",
       "1            11.68       14.35             410.0            12   \n",
       "4            11.43       14.35              80.0            24   \n",
       "5            10.45        14.4             105.0            24   \n",
       "6            12.90        14.5             200.0            12   \n",
       "\n",
       "                                        Capabilities  \\\n",
       "0  bluewash, dispense-destination, echo_dest, env...   \n",
       "1  bluewash, cover, deseal, dispense-destination,...   \n",
       "4  cover, deseal, dispense-destination, echo_dest...   \n",
       "5  bluewash, cover, dispense-destination, echo_de...   \n",
       "6  cover, dispense-destination, envision, image_p...   \n",
       "\n",
       "                                     Acceptable Lids Sale Price  \n",
       "0                                  ultra-clear, foil    *$9.35*  \n",
       "1  low_evaporation, standard, universal, ultra-clear    *$0.00*  \n",
       "4             universal, standard, ultra-clear, foil   *$11.80*  \n",
       "5                       universal, ultra-clear, foil    *$8.28*  \n",
       "6                                           standard    *$6.31*  "
      ]
     },
     "execution_count": 3,
     "metadata": {},
     "output_type": "execute_result"
    }
   ],
   "source": [
    "workbook = pd.ExcelFile('../owl/Strateos containers.xlsx',engine='openpyxl')\n",
    "strateos_catalog = pd.read_excel(workbook, \"Strateos Containers\")\n",
    "strateos_plates = strateos_catalog[strateos_catalog['Well Count'] > 1]\n",
    "strateos_plates.head()\n"
   ]
  },
  {
   "cell_type": "code",
   "execution_count": 4,
   "metadata": {},
   "outputs": [
    {
     "name": "stdout",
     "output_type": "stream",
     "text": [
      "Id                                                            384-pcr\n",
      "Vendor                                                      Eppendorf\n",
      "Catalog Number                                              951020539\n",
      "Name                                      384-Well twin.tec PCR Plate\n",
      "Retired At                                                          -\n",
      "Well Count                                                        384\n",
      "Well Depth (mm)                                                   9.6\n",
      "Height (mm)                                                      10.6\n",
      "Well Volume (ul)                                                 40.0\n",
      "Column Count                                                       24\n",
      "Capabilities        bluewash, dispense-destination, echo_dest, env...\n",
      "Acceptable Lids                                     ultra-clear, foil\n",
      "Sale Price                                                    *$9.35*\n",
      "Name: 0, dtype: object\n",
      "Index(['Id', 'Vendor', 'Catalog Number', 'Name', 'Retired At', 'Well Count',\n",
      "       'Well Depth (mm)', 'Height (mm)', 'Well Volume (ul)', 'Column Count',\n",
      "       'Capabilities', 'Acceptable Lids', 'Sale Price'],\n",
      "      dtype='object')\n"
     ]
    },
    {
     "data": {
      "text/plain": [
       "9.6"
      ]
     },
     "execution_count": 4,
     "metadata": {},
     "output_type": "execute_result"
    }
   ],
   "source": [
    "for i, x in strateos_plates.iterrows():\n",
    "    break\n",
    "print(x)\n",
    "print(x.index)\n",
    "x['Well Depth (mm)']"
   ]
  },
  {
   "cell_type": "code",
   "execution_count": 5,
   "metadata": {},
   "outputs": [],
   "source": [
    "CATALOG_IRI = URIRef('urn:absolute:strateos-containers')\n",
    "ENTRY_IRI = URIRef('urn:absolute:strateos_containers_catalog')"
   ]
  },
  {
   "cell_type": "code",
   "execution_count": 6,
   "metadata": {
    "pycharm": {
     "name": "#%%\n"
    }
   },
   "outputs": [],
   "source": [
    "g = Graph(identifier=CATALOG_IRI)"
   ]
  },
  {
   "cell_type": "code",
   "execution_count": 7,
   "metadata": {
    "pycharm": {
     "name": "#%%\n"
    }
   },
   "outputs": [],
   "source": [
    "co_ns = Namespace('https://www.dropbox.com/s/s1e2dzw64m01f9n/container-ontology.ttl#')\n",
    "strateos_ns = Namespace(CATALOG_IRI + '#')\n",
    "strateos_entries_ns = Namespace(ENTRY_IRI + '#')\n",
    "om_ns = Namespace('http://www.ontology-of-units-of-measure.org/resource/om-2/')\n",
    "g.bind('cont', co_ns)\n",
    "g.bind('cat', strateos_ns)\n",
    "g.bind('om', om_ns)\n",
    "g.bind('rdf', RDF)\n",
    "g.bind('rdfs', RDFS)\n",
    "g.bind('owl', OWL)\n",
    "g.bind('cat_ent', strateos_entries_ns)\n",
    "g.base = CATALOG_IRI"
   ]
  },
  {
   "cell_type": "code",
   "execution_count": 8,
   "metadata": {},
   "outputs": [
    {
     "data": {
      "text/plain": [
       "[('xml', rdflib.term.URIRef('http://www.w3.org/XML/1998/namespace')),\n",
       " ('rdf', rdflib.term.URIRef('http://www.w3.org/1999/02/22-rdf-syntax-ns#')),\n",
       " ('rdfs', rdflib.term.URIRef('http://www.w3.org/2000/01/rdf-schema#')),\n",
       " ('xsd', rdflib.term.URIRef('http://www.w3.org/2001/XMLSchema#')),\n",
       " ('cont',\n",
       "  rdflib.term.URIRef('https://www.dropbox.com/s/s1e2dzw64m01f9n/container-ontology.ttl#')),\n",
       " ('cat', rdflib.term.URIRef('urn:absolute:strateos-containers#')),\n",
       " ('om',\n",
       "  rdflib.term.URIRef('http://www.ontology-of-units-of-measure.org/resource/om-2/')),\n",
       " ('owl', rdflib.term.URIRef('http://www.w3.org/2002/07/owl#')),\n",
       " ('cat_ent', rdflib.term.URIRef('urn:absolute:strateos_containers_catalog#'))]"
      ]
     },
     "execution_count": 8,
     "metadata": {},
     "output_type": "execute_result"
    }
   ],
   "source": [
    "list(g.namespace_manager.namespaces())"
   ]
  },
  {
   "cell_type": "code",
   "execution_count": 9,
   "metadata": {},
   "outputs": [
    {
     "name": "stdout",
     "output_type": "stream",
     "text": [
      "Help on NamespaceManager in module rdflib.namespace object:\n",
      "\n",
      "class NamespaceManager(builtins.object)\n",
      " |  NamespaceManager(graph)\n",
      " |  \n",
      " |  Class for managing prefix => namespace mappings\n",
      " |  \n",
      " |  Sample usage from FuXi ...\n",
      " |  \n",
      " |  .. code-block:: python\n",
      " |  \n",
      " |      ruleStore = N3RuleStore(additionalBuiltins=additionalBuiltins)\n",
      " |      nsMgr = NamespaceManager(Graph(ruleStore))\n",
      " |      ruleGraph = Graph(ruleStore,namespace_manager=nsMgr)\n",
      " |  \n",
      " |  \n",
      " |  and ...\n",
      " |  \n",
      " |  .. code-block:: pycon\n",
      " |  \n",
      " |      >>> import rdflib\n",
      " |      >>> from rdflib import Graph\n",
      " |      >>> from rdflib.namespace import Namespace, NamespaceManager\n",
      " |      >>> exNs = Namespace('http://example.com/')\n",
      " |      >>> namespace_manager = NamespaceManager(Graph())\n",
      " |      >>> namespace_manager.bind('ex', exNs, override=False)\n",
      " |      >>> g = Graph()\n",
      " |      >>> g.namespace_manager = namespace_manager\n",
      " |      >>> all_ns = [n for n in g.namespace_manager.namespaces()]\n",
      " |      >>> assert ('ex', rdflib.term.URIRef('http://example.com/')) in all_ns\n",
      " |      >>>\n",
      " |  \n",
      " |  Methods defined here:\n",
      " |  \n",
      " |  __init__(self, graph)\n",
      " |      Initialize self.  See help(type(self)) for accurate signature.\n",
      " |  \n",
      " |  absolutize(self, uri, defrag=1)\n",
      " |  \n",
      " |  bind(self, prefix, namespace, override=True, replace=False)\n",
      " |      bind a given namespace to the prefix\n",
      " |      \n",
      " |      if override, rebind, even if the given namespace is already\n",
      " |      bound to another prefix.\n",
      " |      \n",
      " |      if replace, replace any existing prefix with the new namespace\n",
      " |  \n",
      " |  compute_qname(self, uri, generate=True)\n",
      " |  \n",
      " |  compute_qname_strict(self, uri, generate=True)\n",
      " |  \n",
      " |  namespaces(self)\n",
      " |  \n",
      " |  normalizeUri(self, rdfTerm)\n",
      " |      Takes an RDF Term and 'normalizes' it into a QName (using the\n",
      " |      registered prefix) or (unlike compute_qname) the Notation 3\n",
      " |      form for URIs: <...URI...>\n",
      " |  \n",
      " |  qname(self, uri)\n",
      " |  \n",
      " |  qname_strict(self, uri)\n",
      " |  \n",
      " |  reset(self)\n",
      " |  \n",
      " |  ----------------------------------------------------------------------\n",
      " |  Readonly properties defined here:\n",
      " |  \n",
      " |  store\n",
      " |  \n",
      " |  ----------------------------------------------------------------------\n",
      " |  Data descriptors defined here:\n",
      " |  \n",
      " |  __dict__\n",
      " |      dictionary for instance variables (if defined)\n",
      " |  \n",
      " |  __weakref__\n",
      " |      list of weak references to the object (if defined)\n",
      "\n"
     ]
    }
   ],
   "source": [
    "help(g.namespace_manager)"
   ]
  },
  {
   "cell_type": "code",
   "execution_count": 10,
   "metadata": {},
   "outputs": [
    {
     "data": {
      "text/plain": [
       "True"
      ]
     },
     "execution_count": 10,
     "metadata": {},
     "output_type": "execute_result"
    }
   ],
   "source": [
    "isinstance(co_ns, str)"
   ]
  },
  {
   "cell_type": "code",
   "execution_count": 23,
   "metadata": {},
   "outputs": [
    {
     "data": {
      "text/plain": [
       "rdflib.term.URIRef('urn:absolute:strateos-containers')"
      ]
     },
     "execution_count": 23,
     "metadata": {},
     "output_type": "execute_result"
    }
   ],
   "source": [
    "CATALOG_IRI"
   ]
  },
  {
   "cell_type": "code",
   "execution_count": 11,
   "metadata": {},
   "outputs": [],
   "source": [
    "g.add((CATALOG_IRI, RDF.type, OWL.ontology))\n",
    "for x in [co_ns, om_ns]:\n",
    "    g.add((CATALOG_IRI, OWL.imports, URIRef(x.rstrip(\"#\"))))\n",
    "g.add((CATALOG_IRI, RDFS.label, Literal(\"Strateos Catalog Containers\", lang='en')))"
   ]
  },
  {
   "cell_type": "code",
   "execution_count": 12,
   "metadata": {},
   "outputs": [],
   "source": [
    "\n",
    "def add_vendor(vendor_string, graph=g) -> URIRef:\n",
    "    vendor_iri = co_ns[quote(vendor_string)]\n",
    "    vendor_name = Literal(vendor_string)    \n",
    "    graph.add((vendor_iri, RDF.type, co_ns.VendorFirm))\n",
    "    graph.add((vendor_iri, RDFS.label, vendor_name))\n",
    "    graph.add((vendor_iri, co_ns.vendorName, vendor_name))\n",
    "    return vendor_iri\n",
    "\n",
    "def find_vendor(vendor_string, graph=g) -> Optional[URIRef]:\n",
    "    vendor_iri = co_ns[quote(vendor_string)]\n",
    "    if (vendor_iri, RDF.type, co_ns.VendorFirm) in graph:\n",
    "        return vendor_iri\n",
    "    return None"
   ]
  },
  {
   "cell_type": "code",
   "execution_count": 13,
   "metadata": {},
   "outputs": [],
   "source": [
    "def catalog_entry(vendor: str, catalog_number: Union[int, str], graph=g) -> URIRef:\n",
    "    if isinstance(catalog_number, int):\n",
    "        catalog_number = str(catalog_number)\n",
    "    assert isinstance(catalog_number, str)\n",
    "    vendor_iri = find_vendor(vendor, graph)\n",
    "    new_iri = strateos_entries_ns[quote(vendor + catalog_number)]\n",
    "    graph.add((new_iri, RDF.type, co_ns.CatalogEntry))\n",
    "    graph.add((new_iri, co_ns.hasVendor, vendor_iri))\n",
    "    graph.add((new_iri, co_ns.catalogNumber, Literal(catalog_number)))\n",
    "    return new_iri\n",
    "    "
   ]
  },
  {
   "cell_type": "code",
   "execution_count": 14,
   "metadata": {},
   "outputs": [],
   "source": [
    "class WellDepth(URIRef):\n",
    "    depth: float\n",
    "    unit: URIRef\n",
    "    count = 0\n",
    "    def __new__(cls, *args, **kwargs):\n",
    "        ns = kwargs['ns']\n",
    "        URI = ns[f\"wellDepth{cls.count}\"]\n",
    "        cls.count += 1\n",
    "        return super().__new__(cls, URI)\n",
    "    \n",
    "    def __init__(self, depth: float, unit=om_ns.millimetre, ns=strateos_ns):\n",
    "        self.depth = depth\n",
    "        self.unit = unit\n",
    "        super().__init__()\n",
    "        \n",
    "    def triples(self) -> List[Tuple[URIRef, URIRef, URIRef]]:\n",
    "        return [\n",
    "            (self, RDF.type, om_ns.Depth),\n",
    "            (self, om_ns.hasNumericalValue, Literal(self.depth, datatype=XSD.float)),\n",
    "            (self, om_ns.hasDimension, self.unit),\n",
    "        ]\n",
    "        \n",
    "\n",
    "def make_well_depth(depth: float, unit=om_ns.millimetre, ns=strateos_ns, graph=g) -> URIRef:\n",
    "    depth_uri = WellDepth(depth, unit=unit, ns=ns)\n",
    "    for triple in depth_uri.triples():\n",
    "        graph.add(triple)\n",
    "    return depth_uri\n",
    "    \n",
    "    "
   ]
  },
  {
   "cell_type": "code",
   "execution_count": 15,
   "metadata": {},
   "outputs": [],
   "source": [
    "class Height(URIRef):\n",
    "    height: float\n",
    "    unit: URIRef\n",
    "    count = 0\n",
    "    def __new__(cls, *args, **kwargs):\n",
    "        ns = kwargs['ns']\n",
    "        URI = ns[f\"height{cls.count}\"]\n",
    "        cls.count += 1\n",
    "        return super().__new__(cls, URI)\n",
    "    \n",
    "    def __init__(self, height: float, unit=om_ns.millimetre, ns=strateos_ns):\n",
    "        self.height = height\n",
    "        self.unit = unit\n",
    "        super().__init__()\n",
    "        \n",
    "    def triples(self) -> List[Tuple[URIRef, URIRef, URIRef]]:\n",
    "        return [\n",
    "            (self, RDF.type, om_ns.Height),\n",
    "            (self, om_ns.hasNumericalValue, Literal(self.height, datatype=XSD.float)),\n",
    "            (self, om_ns.hasDimension, self.unit),\n",
    "        ]\n",
    "        \n",
    "\n",
    "def make_height(height: float, unit=om_ns.millimetre, ns=strateos_ns, graph=g) -> URIRef:\n",
    "    height_uri = Height(height, unit=unit, ns=ns)\n",
    "    for triple in height_uri.triples():\n",
    "        graph.add(triple)\n",
    "    return height_uri\n",
    "    \n",
    "    "
   ]
  },
  {
   "cell_type": "code",
   "execution_count": 16,
   "metadata": {},
   "outputs": [],
   "source": [
    "class WellVolume(URIRef):\n",
    "    volume: float\n",
    "    unit: URIRef\n",
    "    count = 0\n",
    "    def __new__(cls, *args, **kwargs):\n",
    "        ns = kwargs['ns']\n",
    "        URI = ns[f\"wellvolume{cls.count}\"]\n",
    "        cls.count += 1\n",
    "        return super().__new__(cls, URI)\n",
    "    \n",
    "    def __init__(self, volume: float, unit=om_ns.microlitre, ns=strateos_ns):\n",
    "        self.volume = volume\n",
    "        self.unit = unit\n",
    "        super().__init__()\n",
    "        \n",
    "    def triples(self) -> List[Tuple[URIRef, URIRef, URIRef]]:\n",
    "        return [\n",
    "            (self, RDF.type, om_ns.Volume),\n",
    "            (self, om_ns.hasNumericalValue, Literal(self.volume, datatype=XSD.float)),\n",
    "            (self, om_ns.hasDimension, self.unit),\n",
    "        ]\n",
    "        \n",
    "\n",
    "def make_well_volume(volume: float, unit=om_ns.microlitre, ns=strateos_ns, graph=g) -> URIRef:\n",
    "    volume_uri = WellVolume(volume, unit=unit, ns=ns)\n",
    "    for triple in volume_uri.triples():\n",
    "        graph.add(triple)\n",
    "    return volume_uri\n",
    "    \n",
    "    "
   ]
  },
  {
   "cell_type": "code",
   "execution_count": 24,
   "metadata": {},
   "outputs": [],
   "source": [
    "def make_restriction(classURI: URIRef, propertyURI: URIRef, value: URIRef) -> Tuple[BNode, List[Triple]]:\n",
    "    \"\"\"Return a Blank node and list of tuples for a restriction definition.\n",
    "    The Blank node can be used as a class specifier, and the Triples should be added to\n",
    "    the graph of interest.\n",
    "    \"\"\"\n",
    "    bnode: BNode = BNode()\n",
    "    triples: List[Triple] = []\n",
    "    triples.append((bnode, RDF.type, OWL.Restriction))\n",
    "    triples.append((bnode, OWL.onProperty, propertyURI))\n",
    "    triples.append((bnode, OWL.hasValue, value))\n",
    "    triples.append((classURI, RDFS.subClassOf, bnode))\n",
    "    \n",
    "    return bnode, triples\n",
    "\n"
   ]
  },
  {
   "cell_type": "code",
   "execution_count": 18,
   "metadata": {},
   "outputs": [],
   "source": [
    "def add_all(g: Graph, triples: List[Triple]) -> None:\n",
    "    for t in triples:\n",
    "        g.add(t)"
   ]
  },
  {
   "cell_type": "code",
   "execution_count": 19,
   "metadata": {},
   "outputs": [],
   "source": [
    "def prefix(g: Graph) -> None:\n",
    "    g.add((plate_iri, RDFS.subClassOf, r))"
   ]
  },
  {
   "cell_type": "code",
   "execution_count": 20,
   "metadata": {},
   "outputs": [
    {
     "name": "stdout",
     "output_type": "stream",
     "text": [
      "Added Eppendorf 384-pcr as urn:absolute:strateos-containers#Eppendorf384-pcr\n",
      "Added Mesoscale 96-10-spot-vplex-m-pro-inflamm1-MSD as urn:absolute:strateos-containers#Mesoscale96-10-spot-vplex-m-pro-inflamm1-MSD\n",
      "Added Corning 384-flat-white-white-nbs as urn:absolute:strateos-containers#Corning384-flat-white-white-nbs\n",
      "Added PerkinElmer 384-flat-white-white-optiplate as urn:absolute:strateos-containers#PerkinElmer384-flat-white-white-optiplate\n",
      "Added Fisher 96-v-kf as urn:absolute:strateos-containers#Fisher96-v-kf\n",
      "Added Chemspeed chemspeed-96-sealed-pin-rack as urn:absolute:strateos-containers#Chemspeedchemspeed-96-sealed-pin-rack\n",
      "Added Labcyte 384-echo as urn:absolute:strateos-containers#Labcyte384-echo\n",
      "Added Costar 96-flat-clear-costar-3590 as urn:absolute:strateos-containers#Costar96-flat-clear-costar-3590\n",
      "Added Corning 96-flat-uv as urn:absolute:strateos-containers#Corning96-flat-uv\n",
      "Added ThermoFisher 96-flat-white-dc as urn:absolute:strateos-containers#ThermoFisher96-flat-white-dc\n",
      "Added Mesoscale 96-4-spot-mMIP3a-MSD as urn:absolute:strateos-containers#Mesoscale96-4-spot-mMIP3a-MSD\n",
      "Added Corning 384-flat-white-white-lv as urn:absolute:strateos-containers#Corning384-flat-white-white-lv\n",
      "Added Mesoscale 96-10-spot-uplex-MSD as urn:absolute:strateos-containers#Mesoscale96-10-spot-uplex-MSD\n",
      "Added Corning 96-flat as urn:absolute:strateos-containers#Corning96-flat\n",
      "Added Greiner 96-flat-black-black-fluotrac-600 as urn:absolute:strateos-containers#Greiner96-flat-black-black-fluotrac-600\n",
      "Added Eppendorf 6-flat-tc as urn:absolute:strateos-containers#Eppendorf6-flat-tc\n",
      "Added Corning 96-ubottom-clear-tc as urn:absolute:strateos-containers#Corning96-ubottom-clear-tc\n",
      "Added Fisher 96-deep-kf as urn:absolute:strateos-containers#Fisher96-deep-kf\n",
      "Added Corning 384-flat-white-white-tc as urn:absolute:strateos-containers#Corning384-flat-white-white-tc\n",
      "Added Eppendorf 96-pcr as urn:absolute:strateos-containers#Eppendorf96-pcr\n",
      "Added Corning 384-round-clear-clear as urn:absolute:strateos-containers#Corning384-round-clear-clear\n",
      "Added Eppendorf 6-flat as urn:absolute:strateos-containers#Eppendorf6-flat\n",
      "Added PerkinElmer 384-flat-white-white-proxiplate-plus as urn:absolute:strateos-containers#PerkinElmer384-flat-white-white-proxiplate-plus\n",
      "Added Corning 96-well-v-bottom as urn:absolute:strateos-containers#Corning96-well-v-bottom\n",
      "Added Corning 384-flat-white-clear as urn:absolute:strateos-containers#Corning384-flat-white-clear\n",
      "Added Eppendorf 96-flat-clear-clear-tc as urn:absolute:strateos-containers#Eppendorf96-flat-clear-clear-tc\n",
      "Added Axygen res-mw8-hp as urn:absolute:strateos-containers#Axygenres-mw8-hp\n",
      "Added ThermoFisher 384-ubottom-clear-polypropylene-nunc-264573 as urn:absolute:strateos-containers#ThermoFisher384-ubottom-clear-polypropylene-nunc-264573\n",
      "Added Labcyte 384-echo-ldv as urn:absolute:strateos-containers#Labcyte384-echo-ldv\n",
      "Added Corning 384-round-black-black-lv-nbs as urn:absolute:strateos-containers#Corning384-round-black-black-lv-nbs\n",
      "Added Fisher 96-vbottom-microwell as urn:absolute:strateos-containers#Fisher96-vbottom-microwell\n",
      "Added PerkinElmer 384-flat-black-black-proxiplate-plus-f as urn:absolute:strateos-containers#PerkinElmer384-flat-black-black-proxiplate-plus-f\n",
      "Added Corning 384-flat as urn:absolute:strateos-containers#Corning384-flat\n",
      "Added E&K Scientific 24-deep as urn:absolute:strateos-containers#E%26K%20Scientific24-deep\n",
      "Added Corning 384-flat-clear-clear as urn:absolute:strateos-containers#Corning384-flat-clear-clear\n",
      "Added Greiner 384-v-clear-clear as urn:absolute:strateos-containers#Greiner384-v-clear-clear\n",
      "Added Corning 1536-tc-white-corning-3727 as urn:absolute:strateos-containers#Corning1536-tc-white-corning-3727\n",
      "Added Greiner 1536-white-tc as urn:absolute:strateos-containers#Greiner1536-white-tc\n",
      "Added Corning 96-deep as urn:absolute:strateos-containers#Corning96-deep\n",
      "Added Axygen res-mw12-hp as urn:absolute:strateos-containers#Axygenres-mw12-hp\n",
      "Added Sumitomo Bakelite Co. 384-ubottom-white-tc as urn:absolute:strateos-containers#Sumitomo%20Bakelite%20Co.384-ubottom-white-tc\n"
     ]
    }
   ],
   "source": [
    "\n",
    "for _, x in strateos_plates.iterrows():\n",
    "    id = x['Id']\n",
    "    vendor = x['Vendor']\n",
    "    vendor_iri = find_vendor(vendor)\n",
    "    if vendor_iri is None:\n",
    "        vendor_iri = add_vendor(vendor)\n",
    "    catalog_number = x['Catalog Number']\n",
    "    plate_iri = rdflib.term.URIRef(strateos_ns[quote(vendor+id)])\n",
    "    ce = catalog_entry(vendor, catalog_number)\n",
    "    g.add((plate_iri, RDFS.subClassOf, co_ns.Plate))\n",
    "    _r, triples = make_restriction(plate_iri, co_ns.hasCatalogEntry, ce)\n",
    "    add_all(g, triples)\n",
    "\n",
    "    _r, triples = make_restriction(plate_iri, co_ns.wellCount, Literal(int(x['Well Count'])))\n",
    "    add_all(g, triples)\n",
    "    cols = int(x['Column Count'])\n",
    "    rows = int(x['Well Count'] / cols)\n",
    "    \n",
    "    _r, triples = make_restriction(plate_iri, co_ns.columnCount, Literal(cols))\n",
    "    add_all(g, triples)\n",
    "    \n",
    "    _r, triples = make_restriction(plate_iri, co_ns.rowCount, Literal(rows))\n",
    "    add_all(g, triples)\n",
    "    \n",
    "    g.add((plate_iri, RDFS.comment, Literal(vendor + \" \" + x['Name'])))\n",
    "    g.add((plate_iri, RDFS.label, Literal(id)))\n",
    "    \n",
    "    _r, triples = make_restriction(plate_iri, co_ns.equipmentVendor, vendor_iri)\n",
    "    add_all(g, triples)\n",
    "    \n",
    "    well_depth = make_well_depth(float(x['Well Depth (mm)']))\n",
    "    _r, triples = make_restriction(plate_iri, co_ns.wellDepth, well_depth)\n",
    "    add_all(g, triples)\n",
    "    \n",
    "    well_vol = make_well_volume(float(x['Well Volume (ul)']))\n",
    "    _r, triples = make_restriction(plate_iri, co_ns.wellVolume, well_vol)\n",
    "    add_all(g, triples)    \n",
    "    \n",
    "    height = make_height(float(x['Height (mm)']))\n",
    "    _r, triples = make_restriction(plate_iri, co_ns.height, height)\n",
    "    add_all(g, triples)    \n",
    "    \n",
    "    print(f\"Added {vendor} {id} as {plate_iri}\")"
   ]
  },
  {
   "cell_type": "code",
   "execution_count": 21,
   "metadata": {
    "pycharm": {
     "name": "#%%\n"
    }
   },
   "outputs": [
    {
     "data": {
      "text/plain": [
       "b'@base <urn:absolute:strateos-containers> .\\n@prefix cat: <urn:absolute:strateos-containers#> .\\n@prefix cat_ent: <urn:absolute:strateos_containers_catalog#> .\\n@prefix cont: <https://www.dropbox.com/s/s1e2dzw64m01f9n/container-ontology.ttl#> .\\n@prefix om: <http://www.ontology-of-units-of-measure.org/resource/om-2/> .\\n@prefix owl: <http://www.w3.org/2002/07/owl#> .\\n@prefix rdfs: <http://www.w3.org/2000/01/rdf-schema#> .\\n@prefix xsd: <http://www.w3.org/2001/XMLSchema#> .\\n\\n<> a owl:ontology ;\\n    rdfs:label \"Strateos Catalog Containers\"@en ;\\n    owl:imports om:,\\n        <https://www.dropbox.com/s/s1e2dzw64m01f9n/container-ontology.ttl> .\\n\\n<#Axygenres-mw12-hp> rdfs:label \"res-mw12-hp\" ;\\n    rdfs:comment \"Axygen Multiple Well Reagent Reservoir with 12-Channel Trough, High Profile\" ;\\n    rdfs:subClassOf cont:Plate ;\\n    owl:subClassOf [ a owl:Restriction ;\\n            owl:hasValue 12 ;\\n            owl:onProperty cont:columnCount ],\\n        [ a owl:Restriction ;\\n            owl:hasValue cont:Axygen ;\\n            owl:onProperty cont:equipmentVendor ],\\n        [ a owl:Restriction ;\\n            owl:hasValue <#height39> ;\\n            owl:onProperty cont:height ],\\n        [ a owl:Restriction ;\\n            owl:hasValue cat_ent:Axygenres-mw12-hp ;\\n            owl:onProperty cont:hasCatalogEntry ],\\n        [ a owl:Restriction ;\\n            owl:hasValue <#wellDepth39> ;\\n            owl:onProperty cont:wellDepth ],\\n        [ a owl:Restriction ;\\n            owl:hasValue 12 ;\\n            owl:onProperty cont:wellCount ],\\n        [ a owl:Restriction ;\\n            owl:hasValue <#wellvolume39> ;\\n            owl:onProperty cont:wellVolume ],\\n        [ a owl:Restriction ;\\n            owl:hasValue 1 ;\\n            owl:onProperty cont:rowCount ] .\\n\\n<#Axygenres-mw8-hp> rdfs:label \"res-mw8-hp\" ;\\n    rdfs:comment \"Axygen Multiple Well Reagent Reservoir with 8-Channel Trough, High Profile\" ;\\n    rdfs:subClassOf cont:Plate ;\\n    owl:subClassOf [ a owl:Restriction ;\\n            owl:hasValue <#wellDepth26> ;\\n            owl:onProperty cont:wellDepth ],\\n        [ a owl:Restriction ;\\n            owl:hasValue <#height26> ;\\n            owl:onProperty cont:height ],\\n        [ a owl:Restriction ;\\n            owl:hasValue <#wellvolume26> ;\\n            owl:onProperty cont:wellVolume ],\\n        [ a owl:Restriction ;\\n            owl:hasValue cont:Axygen ;\\n            owl:onProperty cont:equipmentVendor ],\\n        [ a owl:Restriction ;\\n            owl:hasValue cat_ent:Axygenres-mw8-hp ;\\n            owl:onProperty cont:hasCatalogEntry ],\\n        [ a owl:Restriction ;\\n            owl:hasValue 1 ;\\n            owl:onProperty cont:columnCount ],\\n        [ a owl:Restriction ;\\n            owl:hasValue 8 ;\\n            owl:onProperty cont:rowCount ],\\n        [ a owl:Restriction ;\\n            owl:hasValue 8 ;\\n            owl:onProperty cont:wellCount ] .\\n\\n<#Chemspeedchemspeed-96-sealed-pin-rack> rdfs:label \"chemspeed-96-sealed-pin-rack\" ;\\n    rdfs:comment \"Chemspeed Chemspeed 96 Pin Rack\" ;\\n    rdfs:subClassOf cont:Plate ;\\n    owl:subClassOf [ a owl:Restriction ;\\n            owl:hasValue 8 ;\\n            owl:onProperty cont:rowCount ],\\n        [ a owl:Restriction ;\\n            owl:hasValue <#wellvolume5> ;\\n            owl:onProperty cont:wellVolume ],\\n        [ a owl:Restriction ;\\n            owl:hasValue cat_ent:Chemspeedunknown ;\\n            owl:onProperty cont:hasCatalogEntry ],\\n        [ a owl:Restriction ;\\n            owl:hasValue cont:Chemspeed ;\\n            owl:onProperty cont:equipmentVendor ],\\n        [ a owl:Restriction ;\\n            owl:hasValue 96 ;\\n            owl:onProperty cont:wellCount ],\\n        [ a owl:Restriction ;\\n            owl:hasValue <#wellDepth5> ;\\n            owl:onProperty cont:wellDepth ],\\n        [ a owl:Restriction ;\\n            owl:hasValue <#height5> ;\\n            owl:onProperty cont:height ],\\n        [ a owl:Restriction ;\\n            owl:hasValue 12 ;\\n            owl:onProperty cont:columnCount ] .\\n\\n<#Corning1536-tc-white-corning-3727> rdfs:label \"1536-tc-white-corning-3727\" ;\\n    rdfs:comment \"Corning 1536 well Corning white TC treated HiBase\" ;\\n    rdfs:subClassOf cont:Plate ;\\n    owl:subClassOf [ a owl:Restriction ;\\n            owl:hasValue 48 ;\\n            owl:onProperty cont:columnCount ],\\n        [ a owl:Restriction ;\\n            owl:hasValue 1536 ;\\n            owl:onProperty cont:wellCount ],\\n        [ a owl:Restriction ;\\n            owl:hasValue <#wellDepth36> ;\\n            owl:onProperty cont:wellDepth ],\\n        [ a owl:Restriction ;\\n            owl:hasValue cat_ent:Corning3727 ;\\n            owl:onProperty cont:hasCatalogEntry ],\\n        [ a owl:Restriction ;\\n            owl:hasValue cont:Corning ;\\n            owl:onProperty cont:equipmentVendor ],\\n        [ a owl:Restriction ;\\n            owl:hasValue <#height36> ;\\n            owl:onProperty cont:height ],\\n        [ a owl:Restriction ;\\n            owl:hasValue <#wellvolume36> ;\\n            owl:onProperty cont:wellVolume ],\\n        [ a owl:Restriction ;\\n            owl:hasValue 32 ;\\n            owl:onProperty cont:rowCount ] .\\n\\n<#Corning384-flat> rdfs:label \"384-flat\" ;\\n    rdfs:comment \"Corning 384-Well Clear Bottom White Polystyrene Microplate\" ;\\n    rdfs:subClassOf cont:Plate ;\\n    owl:subClassOf [ a owl:Restriction ;\\n            owl:hasValue <#wellvolume32> ;\\n            owl:onProperty cont:wellVolume ],\\n        [ a owl:Restriction ;\\n            owl:hasValue cont:Corning ;\\n            owl:onProperty cont:equipmentVendor ],\\n        [ a owl:Restriction ;\\n            owl:hasValue <#height32> ;\\n            owl:onProperty cont:height ],\\n        [ a owl:Restriction ;\\n            owl:hasValue cat_ent:Corning3706 ;\\n            owl:onProperty cont:hasCatalogEntry ],\\n        [ a owl:Restriction ;\\n            owl:hasValue 24 ;\\n            owl:onProperty cont:columnCount ],\\n        [ a owl:Restriction ;\\n            owl:hasValue 16 ;\\n            owl:onProperty cont:rowCount ],\\n        [ a owl:Restriction ;\\n            owl:hasValue <#wellDepth32> ;\\n            owl:onProperty cont:wellDepth ],\\n        [ a owl:Restriction ;\\n            owl:hasValue 384 ;\\n            owl:onProperty cont:wellCount ] .\\n\\n<#Corning384-flat-clear-clear> rdfs:label \"384-flat-clear-clear\" ;\\n    rdfs:comment \"Corning 384-Well Clear Flat Bottom Polystyrene High Bind Microplate\" ;\\n    rdfs:subClassOf cont:Plate ;\\n    owl:subClassOf [ a owl:Restriction ;\\n            owl:hasValue 16 ;\\n            owl:onProperty cont:rowCount ],\\n        [ a owl:Restriction ;\\n            owl:hasValue cont:Corning ;\\n            owl:onProperty cont:equipmentVendor ],\\n        [ a owl:Restriction ;\\n            owl:hasValue cat_ent:Corning3700 ;\\n            owl:onProperty cont:hasCatalogEntry ],\\n        [ a owl:Restriction ;\\n            owl:hasValue <#height34> ;\\n            owl:onProperty cont:height ],\\n        [ a owl:Restriction ;\\n            owl:hasValue <#wellvolume34> ;\\n            owl:onProperty cont:wellVolume ],\\n        [ a owl:Restriction ;\\n            owl:hasValue <#wellDepth34> ;\\n            owl:onProperty cont:wellDepth ],\\n        [ a owl:Restriction ;\\n            owl:hasValue 24 ;\\n            owl:onProperty cont:columnCount ],\\n        [ a owl:Restriction ;\\n            owl:hasValue 384 ;\\n            owl:onProperty cont:wellCount ] .\\n\\n<#Corning384-flat-white-clear> rdfs:label \"384-flat-white-clear\" ;\\n    rdfs:comment \"Corning 384-well flat-bottom polystyrene plate\" ;\\n    rdfs:subClassOf cont:Plate ;\\n    owl:subClassOf [ a owl:Restriction ;\\n            owl:hasValue <#wellDepth24> ;\\n            owl:onProperty cont:wellDepth ],\\n        [ a owl:Restriction ;\\n            owl:hasValue <#height24> ;\\n            owl:onProperty cont:height ],\\n        [ a owl:Restriction ;\\n            owl:hasValue 384 ;\\n            owl:onProperty cont:wellCount ],\\n        [ a owl:Restriction ;\\n            owl:hasValue 24 ;\\n            owl:onProperty cont:columnCount ],\\n        [ a owl:Restriction ;\\n            owl:hasValue cont:Corning ;\\n            owl:onProperty cont:equipmentVendor ],\\n        [ a owl:Restriction ;\\n            owl:hasValue 16 ;\\n            owl:onProperty cont:rowCount ],\\n        [ a owl:Restriction ;\\n            owl:hasValue cat_ent:Corning3763 ;\\n            owl:onProperty cont:hasCatalogEntry ],\\n        [ a owl:Restriction ;\\n            owl:hasValue <#wellvolume24> ;\\n            owl:onProperty cont:wellVolume ] .\\n\\n<#Corning384-flat-white-white-lv> rdfs:label \"384-flat-white-white-lv\" ;\\n    rdfs:comment \"Corning 384-Well Low Volume White Flat Bottom Polystyrene NBS Microplate\" ;\\n    rdfs:subClassOf cont:Plate ;\\n    owl:subClassOf [ a owl:Restriction ;\\n            owl:hasValue 384 ;\\n            owl:onProperty cont:wellCount ],\\n        [ a owl:Restriction ;\\n            owl:hasValue 16 ;\\n            owl:onProperty cont:rowCount ],\\n        [ a owl:Restriction ;\\n            owl:hasValue cont:Corning ;\\n            owl:onProperty cont:equipmentVendor ],\\n        [ a owl:Restriction ;\\n            owl:hasValue cat_ent:Corning3824 ;\\n            owl:onProperty cont:hasCatalogEntry ],\\n        [ a owl:Restriction ;\\n            owl:hasValue <#wellvolume11> ;\\n            owl:onProperty cont:wellVolume ],\\n        [ a owl:Restriction ;\\n            owl:hasValue <#wellDepth11> ;\\n            owl:onProperty cont:wellDepth ],\\n        [ a owl:Restriction ;\\n            owl:hasValue 24 ;\\n            owl:onProperty cont:columnCount ],\\n        [ a owl:Restriction ;\\n            owl:hasValue <#height11> ;\\n            owl:onProperty cont:height ] .\\n\\n<#Corning384-flat-white-white-nbs> rdfs:label \"384-flat-white-white-nbs\" ;\\n    rdfs:comment \"Corning 384-Well Low Flange White FlatBottom Polystyrene NBS Microplate\" ;\\n    rdfs:subClassOf cont:Plate ;\\n    owl:subClassOf [ a owl:Restriction ;\\n            owl:hasValue cat_ent:Corning3574 ;\\n            owl:onProperty cont:hasCatalogEntry ],\\n        [ a owl:Restriction ;\\n            owl:hasValue cont:Corning ;\\n            owl:onProperty cont:equipmentVendor ],\\n        [ a owl:Restriction ;\\n            owl:hasValue 384 ;\\n            owl:onProperty cont:wellCount ],\\n        [ a owl:Restriction ;\\n            owl:hasValue 16 ;\\n            owl:onProperty cont:rowCount ],\\n        [ a owl:Restriction ;\\n            owl:hasValue <#wellvolume2> ;\\n            owl:onProperty cont:wellVolume ],\\n        [ a owl:Restriction ;\\n            owl:hasValue <#height2> ;\\n            owl:onProperty cont:height ],\\n        [ a owl:Restriction ;\\n            owl:hasValue <#wellDepth2> ;\\n            owl:onProperty cont:wellDepth ],\\n        [ a owl:Restriction ;\\n            owl:hasValue 24 ;\\n            owl:onProperty cont:columnCount ] .\\n\\n<#Corning384-flat-white-white-tc> rdfs:label \"384-flat-white-white-tc\" ;\\n    rdfs:comment \"Corning 384-Well Low Flange White Flat Bottom Polystyrene TC-Treated Microplate\" ;\\n    rdfs:subClassOf cont:Plate ;\\n    owl:subClassOf [ a owl:Restriction ;\\n            owl:hasValue <#wellvolume18> ;\\n            owl:onProperty cont:wellVolume ],\\n        [ a owl:Restriction ;\\n            owl:hasValue cont:Corning ;\\n            owl:onProperty cont:equipmentVendor ],\\n        [ a owl:Restriction ;\\n            owl:hasValue 384 ;\\n            owl:onProperty cont:wellCount ],\\n        [ a owl:Restriction ;\\n            owl:hasValue cat_ent:Corning3570 ;\\n            owl:onProperty cont:hasCatalogEntry ],\\n        [ a owl:Restriction ;\\n            owl:hasValue 24 ;\\n            owl:onProperty cont:columnCount ],\\n        [ a owl:Restriction ;\\n            owl:hasValue <#wellDepth18> ;\\n            owl:onProperty cont:wellDepth ],\\n        [ a owl:Restriction ;\\n            owl:hasValue 16 ;\\n            owl:onProperty cont:rowCount ],\\n        [ a owl:Restriction ;\\n            owl:hasValue <#height18> ;\\n            owl:onProperty cont:height ] .\\n\\n<#Corning384-round-black-black-lv-nbs> rdfs:label \"384-round-black-black-lv-nbs\" ;\\n    rdfs:comment \"Corning Corning 4514 384-well Low Volume Black Round Bottom Polystyrene NBS Microplate\" ;\\n    rdfs:subClassOf cont:Plate ;\\n    owl:subClassOf [ a owl:Restriction ;\\n            owl:hasValue 384 ;\\n            owl:onProperty cont:wellCount ],\\n        [ a owl:Restriction ;\\n            owl:hasValue <#wellvolume29> ;\\n            owl:onProperty cont:wellVolume ],\\n        [ a owl:Restriction ;\\n            owl:hasValue cont:Corning ;\\n            owl:onProperty cont:equipmentVendor ],\\n        [ a owl:Restriction ;\\n            owl:hasValue <#wellDepth29> ;\\n            owl:onProperty cont:wellDepth ],\\n        [ a owl:Restriction ;\\n            owl:hasValue <#height29> ;\\n            owl:onProperty cont:height ],\\n        [ a owl:Restriction ;\\n            owl:hasValue 24 ;\\n            owl:onProperty cont:columnCount ],\\n        [ a owl:Restriction ;\\n            owl:hasValue cat_ent:Corning4514 ;\\n            owl:onProperty cont:hasCatalogEntry ],\\n        [ a owl:Restriction ;\\n            owl:hasValue 16 ;\\n            owl:onProperty cont:rowCount ] .\\n\\n<#Corning384-round-clear-clear> rdfs:label \"384-round-clear-clear\" ;\\n    rdfs:comment \"Corning 384-Well Clear Round Bottom Polypropylene Not Treated Microplate\" ;\\n    rdfs:subClassOf cont:Plate ;\\n    owl:subClassOf [ a owl:Restriction ;\\n            owl:hasValue <#wellDepth20> ;\\n            owl:onProperty cont:wellDepth ],\\n        [ a owl:Restriction ;\\n            owl:hasValue 24 ;\\n            owl:onProperty cont:columnCount ],\\n        [ a owl:Restriction ;\\n            owl:hasValue 384 ;\\n            owl:onProperty cont:wellCount ],\\n        [ a owl:Restriction ;\\n            owl:hasValue cat_ent:Corning3657 ;\\n            owl:onProperty cont:hasCatalogEntry ],\\n        [ a owl:Restriction ;\\n            owl:hasValue 16 ;\\n            owl:onProperty cont:rowCount ],\\n        [ a owl:Restriction ;\\n            owl:hasValue cont:Corning ;\\n            owl:onProperty cont:equipmentVendor ],\\n        [ a owl:Restriction ;\\n            owl:hasValue <#height20> ;\\n            owl:onProperty cont:height ],\\n        [ a owl:Restriction ;\\n            owl:hasValue <#wellvolume20> ;\\n            owl:onProperty cont:wellVolume ] .\\n\\n<#Corning96-deep> rdfs:label \"96-deep\" ;\\n    rdfs:comment \"Corning 96-Well Clear V-Bottom Polypropylene Deep Well Plate\" ;\\n    rdfs:subClassOf cont:Plate ;\\n    owl:subClassOf [ a owl:Restriction ;\\n            owl:hasValue <#wellDepth38> ;\\n            owl:onProperty cont:wellDepth ],\\n        [ a owl:Restriction ;\\n            owl:hasValue cont:Corning ;\\n            owl:onProperty cont:equipmentVendor ],\\n        [ a owl:Restriction ;\\n            owl:hasValue cat_ent:Corning3961 ;\\n            owl:onProperty cont:hasCatalogEntry ],\\n        [ a owl:Restriction ;\\n            owl:hasValue 12 ;\\n            owl:onProperty cont:columnCount ],\\n        [ a owl:Restriction ;\\n            owl:hasValue <#height38> ;\\n            owl:onProperty cont:height ],\\n        [ a owl:Restriction ;\\n            owl:hasValue 96 ;\\n            owl:onProperty cont:wellCount ],\\n        [ a owl:Restriction ;\\n            owl:hasValue 8 ;\\n            owl:onProperty cont:rowCount ],\\n        [ a owl:Restriction ;\\n            owl:hasValue <#wellvolume38> ;\\n            owl:onProperty cont:wellVolume ] .\\n\\n<#Corning96-flat> rdfs:label \"96-flat\" ;\\n    rdfs:comment \"Corning 96-Well White with Clear Flat Bottom Polystyrene Not Treated Microplate\" ;\\n    rdfs:subClassOf cont:Plate ;\\n    owl:subClassOf [ a owl:Restriction ;\\n            owl:hasValue 96 ;\\n            owl:onProperty cont:wellCount ],\\n        [ a owl:Restriction ;\\n            owl:hasValue 12 ;\\n            owl:onProperty cont:columnCount ],\\n        [ a owl:Restriction ;\\n            owl:hasValue <#wellDepth13> ;\\n            owl:onProperty cont:wellDepth ],\\n        [ a owl:Restriction ;\\n            owl:hasValue 8 ;\\n            owl:onProperty cont:rowCount ],\\n        [ a owl:Restriction ;\\n            owl:hasValue cat_ent:Corning3632 ;\\n            owl:onProperty cont:hasCatalogEntry ],\\n        [ a owl:Restriction ;\\n            owl:hasValue <#wellvolume13> ;\\n            owl:onProperty cont:wellVolume ],\\n        [ a owl:Restriction ;\\n            owl:hasValue cont:Corning ;\\n            owl:onProperty cont:equipmentVendor ],\\n        [ a owl:Restriction ;\\n            owl:hasValue <#height13> ;\\n            owl:onProperty cont:height ] .\\n\\n<#Corning96-flat-uv> rdfs:label \"96-flat-uv\" ;\\n    rdfs:comment \"Corning 96-Well Clear Flat Bottom UV-Transparent Microplate\" ;\\n    rdfs:subClassOf cont:Plate ;\\n    owl:subClassOf [ a owl:Restriction ;\\n            owl:hasValue <#wellvolume8> ;\\n            owl:onProperty cont:wellVolume ],\\n        [ a owl:Restriction ;\\n            owl:hasValue <#wellDepth8> ;\\n            owl:onProperty cont:wellDepth ],\\n        [ a owl:Restriction ;\\n            owl:hasValue 8 ;\\n            owl:onProperty cont:rowCount ],\\n        [ a owl:Restriction ;\\n            owl:hasValue cat_ent:Corning3635 ;\\n            owl:onProperty cont:hasCatalogEntry ],\\n        [ a owl:Restriction ;\\n            owl:hasValue 12 ;\\n            owl:onProperty cont:columnCount ],\\n        [ a owl:Restriction ;\\n            owl:hasValue cont:Corning ;\\n            owl:onProperty cont:equipmentVendor ],\\n        [ a owl:Restriction ;\\n            owl:hasValue <#height8> ;\\n            owl:onProperty cont:height ],\\n        [ a owl:Restriction ;\\n            owl:hasValue 96 ;\\n            owl:onProperty cont:wellCount ] .\\n\\n<#Corning96-ubottom-clear-tc> rdfs:label \"96-ubottom-clear-tc\" ;\\n    rdfs:comment \"Corning Falcon 96-Well, Cell Culture-Treated, U-Shaped-Bottom Microplate\" ;\\n    rdfs:subClassOf cont:Plate ;\\n    owl:subClassOf [ a owl:Restriction ;\\n            owl:hasValue cat_ent:Corning353077 ;\\n            owl:onProperty cont:hasCatalogEntry ],\\n        [ a owl:Restriction ;\\n            owl:hasValue <#wellvolume16> ;\\n            owl:onProperty cont:wellVolume ],\\n        [ a owl:Restriction ;\\n            owl:hasValue 96 ;\\n            owl:onProperty cont:wellCount ],\\n        [ a owl:Restriction ;\\n            owl:hasValue cont:Corning ;\\n            owl:onProperty cont:equipmentVendor ],\\n        [ a owl:Restriction ;\\n            owl:hasValue <#wellDepth16> ;\\n            owl:onProperty cont:wellDepth ],\\n        [ a owl:Restriction ;\\n            owl:hasValue <#height16> ;\\n            owl:onProperty cont:height ],\\n        [ a owl:Restriction ;\\n            owl:hasValue 12 ;\\n            owl:onProperty cont:columnCount ],\\n        [ a owl:Restriction ;\\n            owl:hasValue 8 ;\\n            owl:onProperty cont:rowCount ] .\\n\\n<#Corning96-well-v-bottom> rdfs:label \"96-well-v-bottom\" ;\\n    rdfs:comment \"Corning 96-well cell culture multiple well plate, V bottom\" ;\\n    rdfs:subClassOf cont:Plate ;\\n    owl:subClassOf [ a owl:Restriction ;\\n            owl:hasValue 96 ;\\n            owl:onProperty cont:wellCount ],\\n        [ a owl:Restriction ;\\n            owl:hasValue 8 ;\\n            owl:onProperty cont:rowCount ],\\n        [ a owl:Restriction ;\\n            owl:hasValue cont:Corning ;\\n            owl:onProperty cont:equipmentVendor ],\\n        [ a owl:Restriction ;\\n            owl:hasValue <#height23> ;\\n            owl:onProperty cont:height ],\\n        [ a owl:Restriction ;\\n            owl:hasValue 12 ;\\n            owl:onProperty cont:columnCount ],\\n        [ a owl:Restriction ;\\n            owl:hasValue <#wellDepth23> ;\\n            owl:onProperty cont:wellDepth ],\\n        [ a owl:Restriction ;\\n            owl:hasValue <#wellvolume23> ;\\n            owl:onProperty cont:wellVolume ],\\n        [ a owl:Restriction ;\\n            owl:hasValue cat_ent:Corning3894 ;\\n            owl:onProperty cont:hasCatalogEntry ] .\\n\\n<#Costar96-flat-clear-costar-3590> rdfs:label \"96-flat-clear-costar-3590\" ;\\n    rdfs:comment \"Costar 96-well EIA/RIA Clear Flat Bottom Polystyrene High Bind Microplate\" ;\\n    rdfs:subClassOf cont:Plate ;\\n    owl:subClassOf [ a owl:Restriction ;\\n            owl:hasValue <#wellDepth7> ;\\n            owl:onProperty cont:wellDepth ],\\n        [ a owl:Restriction ;\\n            owl:hasValue cat_ent:Costar3590 ;\\n            owl:onProperty cont:hasCatalogEntry ],\\n        [ a owl:Restriction ;\\n            owl:hasValue cont:Costar ;\\n            owl:onProperty cont:equipmentVendor ],\\n        [ a owl:Restriction ;\\n            owl:hasValue <#height7> ;\\n            owl:onProperty cont:height ],\\n        [ a owl:Restriction ;\\n            owl:hasValue 12 ;\\n            owl:onProperty cont:columnCount ],\\n        [ a owl:Restriction ;\\n            owl:hasValue <#wellvolume7> ;\\n            owl:onProperty cont:wellVolume ],\\n        [ a owl:Restriction ;\\n            owl:hasValue 8 ;\\n            owl:onProperty cont:rowCount ],\\n        [ a owl:Restriction ;\\n            owl:hasValue 96 ;\\n            owl:onProperty cont:wellCount ] .\\n\\n<#E%26K%20Scientific24-deep> rdfs:label \"24-deep\" ;\\n    rdfs:comment \"E&K Scientific 24-Well Pyramid Bottom Plate\" ;\\n    rdfs:subClassOf cont:Plate ;\\n    owl:subClassOf [ a owl:Restriction ;\\n            owl:hasValue <https://www.dropbox.com/s/s1e2dzw64m01f9n/container-ontology.ttl#E%26K%20Scientific> ;\\n            owl:onProperty cont:equipmentVendor ],\\n        [ a owl:Restriction ;\\n            owl:hasValue 24 ;\\n            owl:onProperty cont:wellCount ],\\n        [ a owl:Restriction ;\\n            owl:hasValue <#height33> ;\\n            owl:onProperty cont:height ],\\n        [ a owl:Restriction ;\\n            owl:hasValue <#wellDepth33> ;\\n            owl:onProperty cont:wellDepth ],\\n        [ a owl:Restriction ;\\n            owl:hasValue <urn:absolute:strateos_containers_catalog#E%26K%20ScientificEK-2053-S> ;\\n            owl:onProperty cont:hasCatalogEntry ],\\n        [ a owl:Restriction ;\\n            owl:hasValue 6 ;\\n            owl:onProperty cont:columnCount ],\\n        [ a owl:Restriction ;\\n            owl:hasValue <#wellvolume33> ;\\n            owl:onProperty cont:wellVolume ],\\n        [ a owl:Restriction ;\\n            owl:hasValue 4 ;\\n            owl:onProperty cont:rowCount ] .\\n\\n<#Eppendorf384-pcr> rdfs:label \"384-pcr\" ;\\n    rdfs:comment \"Eppendorf 384-Well twin.tec PCR Plate\" ;\\n    rdfs:subClassOf cont:Plate ;\\n    owl:subClassOf [ a owl:Restriction ;\\n            owl:hasValue <#height0> ;\\n            owl:onProperty cont:height ],\\n        [ a owl:Restriction ;\\n            owl:hasValue cat_ent:Eppendorf951020539 ;\\n            owl:onProperty cont:hasCatalogEntry ],\\n        [ a owl:Restriction ;\\n            owl:hasValue <#wellDepth0> ;\\n            owl:onProperty cont:wellDepth ],\\n        [ a owl:Restriction ;\\n            owl:hasValue 384 ;\\n            owl:onProperty cont:wellCount ],\\n        [ a owl:Restriction ;\\n            owl:hasValue cont:Eppendorf ;\\n            owl:onProperty cont:equipmentVendor ],\\n        [ a owl:Restriction ;\\n            owl:hasValue <#wellvolume0> ;\\n            owl:onProperty cont:wellVolume ],\\n        [ a owl:Restriction ;\\n            owl:hasValue 16 ;\\n            owl:onProperty cont:rowCount ],\\n        [ a owl:Restriction ;\\n            owl:hasValue 24 ;\\n            owl:onProperty cont:columnCount ] .\\n\\n<#Eppendorf6-flat> rdfs:label \"6-flat\" ;\\n    rdfs:comment \"Eppendorf 6-Well Non-Treated Sterile Plate\" ;\\n    rdfs:subClassOf cont:Plate ;\\n    owl:subClassOf [ a owl:Restriction ;\\n            owl:hasValue <#wellDepth21> ;\\n            owl:onProperty cont:wellDepth ],\\n        [ a owl:Restriction ;\\n            owl:hasValue <#height21> ;\\n            owl:onProperty cont:height ],\\n        [ a owl:Restriction ;\\n            owl:hasValue <#wellvolume21> ;\\n            owl:onProperty cont:wellVolume ],\\n        [ a owl:Restriction ;\\n            owl:hasValue cat_ent:Eppendorf30720016 ;\\n            owl:onProperty cont:hasCatalogEntry ],\\n        [ a owl:Restriction ;\\n            owl:hasValue cont:Eppendorf ;\\n            owl:onProperty cont:equipmentVendor ],\\n        [ a owl:Restriction ;\\n            owl:hasValue 6 ;\\n            owl:onProperty cont:wellCount ],\\n        [ a owl:Restriction ;\\n            owl:hasValue 3 ;\\n            owl:onProperty cont:columnCount ],\\n        [ a owl:Restriction ;\\n            owl:hasValue 2 ;\\n            owl:onProperty cont:rowCount ] .\\n\\n<#Eppendorf6-flat-tc> rdfs:label \"6-flat-tc\" ;\\n    rdfs:comment \"Eppendorf 6-Well TC Treated Sterile Plate\" ;\\n    rdfs:subClassOf cont:Plate ;\\n    owl:subClassOf [ a owl:Restriction ;\\n            owl:hasValue <#wellvolume15> ;\\n            owl:onProperty cont:wellVolume ],\\n        [ a owl:Restriction ;\\n            owl:hasValue <#height15> ;\\n            owl:onProperty cont:height ],\\n        [ a owl:Restriction ;\\n            owl:hasValue 6 ;\\n            owl:onProperty cont:wellCount ],\\n        [ a owl:Restriction ;\\n            owl:hasValue 3 ;\\n            owl:onProperty cont:columnCount ],\\n        [ a owl:Restriction ;\\n            owl:hasValue cont:Eppendorf ;\\n            owl:onProperty cont:equipmentVendor ],\\n        [ a owl:Restriction ;\\n            owl:hasValue <#wellDepth15> ;\\n            owl:onProperty cont:wellDepth ],\\n        [ a owl:Restriction ;\\n            owl:hasValue cat_ent:Eppendorf30720113 ;\\n            owl:onProperty cont:hasCatalogEntry ],\\n        [ a owl:Restriction ;\\n            owl:hasValue 2 ;\\n            owl:onProperty cont:rowCount ] .\\n\\n<#Eppendorf96-flat-clear-clear-tc> rdfs:label \"96-flat-clear-clear-tc\" ;\\n    rdfs:comment \"Eppendorf 96-Well Flat TC-Treated Polystyrene Microplate\" ;\\n    rdfs:subClassOf cont:Plate ;\\n    owl:subClassOf [ a owl:Restriction ;\\n            owl:hasValue 8 ;\\n            owl:onProperty cont:rowCount ],\\n        [ a owl:Restriction ;\\n            owl:hasValue cat_ent:Eppendorf30730119 ;\\n            owl:onProperty cont:hasCatalogEntry ],\\n        [ a owl:Restriction ;\\n            owl:hasValue 96 ;\\n            owl:onProperty cont:wellCount ],\\n        [ a owl:Restriction ;\\n            owl:hasValue <#height25> ;\\n            owl:onProperty cont:height ],\\n        [ a owl:Restriction ;\\n            owl:hasValue cont:Eppendorf ;\\n            owl:onProperty cont:equipmentVendor ],\\n        [ a owl:Restriction ;\\n            owl:hasValue <#wellDepth25> ;\\n            owl:onProperty cont:wellDepth ],\\n        [ a owl:Restriction ;\\n            owl:hasValue 12 ;\\n            owl:onProperty cont:columnCount ],\\n        [ a owl:Restriction ;\\n            owl:hasValue <#wellvolume25> ;\\n            owl:onProperty cont:wellVolume ] .\\n\\n<#Eppendorf96-pcr> rdfs:label \"96-pcr\" ;\\n    rdfs:comment \"Eppendorf 96-Well twin.tec PCR Plate\" ;\\n    rdfs:subClassOf cont:Plate ;\\n    owl:subClassOf [ a owl:Restriction ;\\n            owl:hasValue <#wellDepth19> ;\\n            owl:onProperty cont:wellDepth ],\\n        [ a owl:Restriction ;\\n            owl:hasValue 8 ;\\n            owl:onProperty cont:rowCount ],\\n        [ a owl:Restriction ;\\n            owl:hasValue <#height19> ;\\n            owl:onProperty cont:height ],\\n        [ a owl:Restriction ;\\n            owl:hasValue cat_ent:Eppendorf951020619 ;\\n            owl:onProperty cont:hasCatalogEntry ],\\n        [ a owl:Restriction ;\\n            owl:hasValue <#wellvolume19> ;\\n            owl:onProperty cont:wellVolume ],\\n        [ a owl:Restriction ;\\n            owl:hasValue 96 ;\\n            owl:onProperty cont:wellCount ],\\n        [ a owl:Restriction ;\\n            owl:hasValue 12 ;\\n            owl:onProperty cont:columnCount ],\\n        [ a owl:Restriction ;\\n            owl:hasValue cont:Eppendorf ;\\n            owl:onProperty cont:equipmentVendor ] .\\n\\n<#Fisher96-deep-kf> rdfs:label \"96-deep-kf\" ;\\n    rdfs:comment \"Fisher 96-Well KingFisher Deepwell Plate V-bottom Polypropylene\" ;\\n    rdfs:subClassOf cont:Plate ;\\n    owl:subClassOf [ a owl:Restriction ;\\n            owl:hasValue cat_ent:Fisher22-387-031 ;\\n            owl:onProperty cont:hasCatalogEntry ],\\n        [ a owl:Restriction ;\\n            owl:hasValue <#wellvolume17> ;\\n            owl:onProperty cont:wellVolume ],\\n        [ a owl:Restriction ;\\n            owl:hasValue 8 ;\\n            owl:onProperty cont:rowCount ],\\n        [ a owl:Restriction ;\\n            owl:hasValue cont:Fisher ;\\n            owl:onProperty cont:equipmentVendor ],\\n        [ a owl:Restriction ;\\n            owl:hasValue 12 ;\\n            owl:onProperty cont:columnCount ],\\n        [ a owl:Restriction ;\\n            owl:hasValue 96 ;\\n            owl:onProperty cont:wellCount ],\\n        [ a owl:Restriction ;\\n            owl:hasValue <#height17> ;\\n            owl:onProperty cont:height ],\\n        [ a owl:Restriction ;\\n            owl:hasValue <#wellDepth17> ;\\n            owl:onProperty cont:wellDepth ] .\\n\\n<#Fisher96-v-kf> rdfs:label \"96-v-kf\" ;\\n    rdfs:comment \"Fisher 96-well KingFisher PCR microplate\" ;\\n    rdfs:subClassOf cont:Plate ;\\n    owl:subClassOf [ a owl:Restriction ;\\n            owl:hasValue <#height4> ;\\n            owl:onProperty cont:height ],\\n        [ a owl:Restriction ;\\n            owl:hasValue <#wellDepth4> ;\\n            owl:onProperty cont:wellDepth ],\\n        [ a owl:Restriction ;\\n            owl:hasValue 8 ;\\n            owl:onProperty cont:rowCount ],\\n        [ a owl:Restriction ;\\n            owl:hasValue cont:Fisher ;\\n            owl:onProperty cont:equipmentVendor ],\\n        [ a owl:Restriction ;\\n            owl:hasValue cat_ent:Fisher22-387-030 ;\\n            owl:onProperty cont:hasCatalogEntry ],\\n        [ a owl:Restriction ;\\n            owl:hasValue <#wellvolume4> ;\\n            owl:onProperty cont:wellVolume ],\\n        [ a owl:Restriction ;\\n            owl:hasValue 12 ;\\n            owl:onProperty cont:columnCount ],\\n        [ a owl:Restriction ;\\n            owl:hasValue 96 ;\\n            owl:onProperty cont:wellCount ] .\\n\\n<#Fisher96-vbottom-microwell> rdfs:label \"96-vbottom-microwell\" ;\\n    rdfs:comment \"Fisher 96 vbottom microwell lcms plate\" ;\\n    rdfs:subClassOf cont:Plate ;\\n    owl:subClassOf [ a owl:Restriction ;\\n            owl:hasValue 96 ;\\n            owl:onProperty cont:wellCount ],\\n        [ a owl:Restriction ;\\n            owl:hasValue cont:Fisher ;\\n            owl:onProperty cont:equipmentVendor ],\\n        [ a owl:Restriction ;\\n            owl:hasValue <#height30> ;\\n            owl:onProperty cont:height ],\\n        [ a owl:Restriction ;\\n            owl:hasValue 8 ;\\n            owl:onProperty cont:rowCount ],\\n        [ a owl:Restriction ;\\n            owl:hasValue 12 ;\\n            owl:onProperty cont:columnCount ],\\n        [ a owl:Restriction ;\\n            owl:hasValue cat_ent:Fisher249944 ;\\n            owl:onProperty cont:hasCatalogEntry ],\\n        [ a owl:Restriction ;\\n            owl:hasValue <#wellDepth30> ;\\n            owl:onProperty cont:wellDepth ],\\n        [ a owl:Restriction ;\\n            owl:hasValue <#wellvolume30> ;\\n            owl:onProperty cont:wellVolume ] .\\n\\n<#Greiner1536-white-tc> rdfs:label \"1536-white-tc\" ;\\n    rdfs:comment \"Greiner 1536 Greiner White TC-treated HiBase\" ;\\n    rdfs:subClassOf cont:Plate ;\\n    owl:subClassOf [ a owl:Restriction ;\\n            owl:hasValue 32 ;\\n            owl:onProperty cont:rowCount ],\\n        [ a owl:Restriction ;\\n            owl:hasValue cont:Greiner ;\\n            owl:onProperty cont:equipmentVendor ],\\n        [ a owl:Restriction ;\\n            owl:hasValue <#wellvolume37> ;\\n            owl:onProperty cont:wellVolume ],\\n        [ a owl:Restriction ;\\n            owl:hasValue <#wellDepth37> ;\\n            owl:onProperty cont:wellDepth ],\\n        [ a owl:Restriction ;\\n            owl:hasValue <#height37> ;\\n            owl:onProperty cont:height ],\\n        [ a owl:Restriction ;\\n            owl:hasValue 48 ;\\n            owl:onProperty cont:columnCount ],\\n        [ a owl:Restriction ;\\n            owl:hasValue 1536 ;\\n            owl:onProperty cont:wellCount ],\\n        [ a owl:Restriction ;\\n            owl:hasValue cat_ent:Greiner782073 ;\\n            owl:onProperty cont:hasCatalogEntry ] .\\n\\n<#Greiner384-v-clear-clear> rdfs:label \"384-v-clear-clear\" ;\\n    rdfs:comment \"Greiner 384-Well PP V-Bottom Microplate\" ;\\n    rdfs:subClassOf cont:Plate ;\\n    owl:subClassOf [ a owl:Restriction ;\\n            owl:hasValue <#height35> ;\\n            owl:onProperty cont:height ],\\n        [ a owl:Restriction ;\\n            owl:hasValue <#wellDepth35> ;\\n            owl:onProperty cont:wellDepth ],\\n        [ a owl:Restriction ;\\n            owl:hasValue cont:Greiner ;\\n            owl:onProperty cont:equipmentVendor ],\\n        [ a owl:Restriction ;\\n            owl:hasValue <#wellvolume35> ;\\n            owl:onProperty cont:wellVolume ],\\n        [ a owl:Restriction ;\\n            owl:hasValue cat_ent:Greiner781280 ;\\n            owl:onProperty cont:hasCatalogEntry ],\\n        [ a owl:Restriction ;\\n            owl:hasValue 16 ;\\n            owl:onProperty cont:rowCount ],\\n        [ a owl:Restriction ;\\n            owl:hasValue 384 ;\\n            owl:onProperty cont:wellCount ],\\n        [ a owl:Restriction ;\\n            owl:hasValue 24 ;\\n            owl:onProperty cont:columnCount ] .\\n\\n<#Greiner96-flat-black-black-fluotrac-600> rdfs:label \"96-flat-black-black-fluotrac-600\" ;\\n    rdfs:comment \"Greiner 96-Well F-Bottom Black Fluotrac High-Binding Microplate\" ;\\n    rdfs:subClassOf cont:Plate ;\\n    owl:subClassOf [ a owl:Restriction ;\\n            owl:hasValue 12 ;\\n            owl:onProperty cont:columnCount ],\\n        [ a owl:Restriction ;\\n            owl:hasValue 96 ;\\n            owl:onProperty cont:wellCount ],\\n        [ a owl:Restriction ;\\n            owl:hasValue cont:Greiner ;\\n            owl:onProperty cont:equipmentVendor ],\\n        [ a owl:Restriction ;\\n            owl:hasValue 8 ;\\n            owl:onProperty cont:rowCount ],\\n        [ a owl:Restriction ;\\n            owl:hasValue cat_ent:Greiner655077 ;\\n            owl:onProperty cont:hasCatalogEntry ],\\n        [ a owl:Restriction ;\\n            owl:hasValue <#wellvolume14> ;\\n            owl:onProperty cont:wellVolume ],\\n        [ a owl:Restriction ;\\n            owl:hasValue <#height14> ;\\n            owl:onProperty cont:height ],\\n        [ a owl:Restriction ;\\n            owl:hasValue <#wellDepth14> ;\\n            owl:onProperty cont:wellDepth ] .\\n\\n<#Labcyte384-echo> rdfs:label \"384-echo\" ;\\n    rdfs:comment \"Labcyte 384-Well Echo Qualified Polypropylene Microplate 2.0\" ;\\n    rdfs:subClassOf cont:Plate ;\\n    owl:subClassOf [ a owl:Restriction ;\\n            owl:hasValue <#wellDepth6> ;\\n            owl:onProperty cont:wellDepth ],\\n        [ a owl:Restriction ;\\n            owl:hasValue <#wellvolume6> ;\\n            owl:onProperty cont:wellVolume ],\\n        [ a owl:Restriction ;\\n            owl:hasValue 16 ;\\n            owl:onProperty cont:rowCount ],\\n        [ a owl:Restriction ;\\n            owl:hasValue cat_ent:LabcytePP-0200 ;\\n            owl:onProperty cont:hasCatalogEntry ],\\n        [ a owl:Restriction ;\\n            owl:hasValue cont:Labcyte ;\\n            owl:onProperty cont:equipmentVendor ],\\n        [ a owl:Restriction ;\\n            owl:hasValue <#height6> ;\\n            owl:onProperty cont:height ],\\n        [ a owl:Restriction ;\\n            owl:hasValue 24 ;\\n            owl:onProperty cont:columnCount ],\\n        [ a owl:Restriction ;\\n            owl:hasValue 384 ;\\n            owl:onProperty cont:wellCount ] .\\n\\n<#Labcyte384-echo-ldv> rdfs:label \"384-echo-ldv\" ;\\n    rdfs:comment \"Labcyte 384-well Echo low dead volume plate\" ;\\n    rdfs:subClassOf cont:Plate ;\\n    owl:subClassOf [ a owl:Restriction ;\\n            owl:hasValue <#wellvolume28> ;\\n            owl:onProperty cont:wellVolume ],\\n        [ a owl:Restriction ;\\n            owl:hasValue cont:Labcyte ;\\n            owl:onProperty cont:equipmentVendor ],\\n        [ a owl:Restriction ;\\n            owl:hasValue cat_ent:LabcyteLP-0200 ;\\n            owl:onProperty cont:hasCatalogEntry ],\\n        [ a owl:Restriction ;\\n            owl:hasValue 16 ;\\n            owl:onProperty cont:rowCount ],\\n        [ a owl:Restriction ;\\n            owl:hasValue 384 ;\\n            owl:onProperty cont:wellCount ],\\n        [ a owl:Restriction ;\\n            owl:hasValue 24 ;\\n            owl:onProperty cont:columnCount ],\\n        [ a owl:Restriction ;\\n            owl:hasValue <#height28> ;\\n            owl:onProperty cont:height ],\\n        [ a owl:Restriction ;\\n            owl:hasValue <#wellDepth28> ;\\n            owl:onProperty cont:wellDepth ] .\\n\\n<#Mesoscale96-10-spot-uplex-MSD> rdfs:label \"96-10-spot-uplex-MSD\" ;\\n    rdfs:comment \"Mesoscale 96-well 10-spot u-plex MSD plate\" ;\\n    rdfs:subClassOf cont:Plate ;\\n    owl:subClassOf [ a owl:Restriction ;\\n            owl:hasValue <#wellDepth12> ;\\n            owl:onProperty cont:wellDepth ],\\n        [ a owl:Restriction ;\\n            owl:hasValue cont:Mesoscale ;\\n            owl:onProperty cont:equipmentVendor ],\\n        [ a owl:Restriction ;\\n            owl:hasValue cat_ent:MesoscaleK15069L ;\\n            owl:onProperty cont:hasCatalogEntry ],\\n        [ a owl:Restriction ;\\n            owl:hasValue 12 ;\\n            owl:onProperty cont:columnCount ],\\n        [ a owl:Restriction ;\\n            owl:hasValue <#wellvolume12> ;\\n            owl:onProperty cont:wellVolume ],\\n        [ a owl:Restriction ;\\n            owl:hasValue 96 ;\\n            owl:onProperty cont:wellCount ],\\n        [ a owl:Restriction ;\\n            owl:hasValue <#height12> ;\\n            owl:onProperty cont:height ],\\n        [ a owl:Restriction ;\\n            owl:hasValue 8 ;\\n            owl:onProperty cont:rowCount ] .\\n\\n<#Mesoscale96-10-spot-vplex-m-pro-inflamm1-MSD> rdfs:label \"96-10-spot-vplex-m-pro-inflamm1-MSD\" ;\\n    rdfs:comment \"Mesoscale 96-well 10-spot v-plex mouse pro-inflammatory panel 1 MSD plate\" ;\\n    rdfs:subClassOf cont:Plate ;\\n    owl:subClassOf [ a owl:Restriction ;\\n            owl:hasValue <#wellvolume1> ;\\n            owl:onProperty cont:wellVolume ],\\n        [ a owl:Restriction ;\\n            owl:hasValue 96 ;\\n            owl:onProperty cont:wellCount ],\\n        [ a owl:Restriction ;\\n            owl:hasValue cat_ent:MesoscaleK15048G ;\\n            owl:onProperty cont:hasCatalogEntry ],\\n        [ a owl:Restriction ;\\n            owl:hasValue <#height1> ;\\n            owl:onProperty cont:height ],\\n        [ a owl:Restriction ;\\n            owl:hasValue 12 ;\\n            owl:onProperty cont:columnCount ],\\n        [ a owl:Restriction ;\\n            owl:hasValue <#wellDepth1> ;\\n            owl:onProperty cont:wellDepth ],\\n        [ a owl:Restriction ;\\n            owl:hasValue cont:Mesoscale ;\\n            owl:onProperty cont:equipmentVendor ],\\n        [ a owl:Restriction ;\\n            owl:hasValue 8 ;\\n            owl:onProperty cont:rowCount ] .\\n\\n<#Mesoscale96-4-spot-mMIP3a-MSD> rdfs:label \"96-4-spot-mMIP3a-MSD\" ;\\n    rdfs:comment \"Mesoscale 96-well 4-spot mouse MIP3a MSD plate\" ;\\n    rdfs:subClassOf cont:Plate ;\\n    owl:subClassOf [ a owl:Restriction ;\\n            owl:hasValue <#wellDepth10> ;\\n            owl:onProperty cont:wellDepth ],\\n        [ a owl:Restriction ;\\n            owl:hasValue cont:Mesoscale ;\\n            owl:onProperty cont:equipmentVendor ],\\n        [ a owl:Restriction ;\\n            owl:hasValue <#height10> ;\\n            owl:onProperty cont:height ],\\n        [ a owl:Restriction ;\\n            owl:hasValue 96 ;\\n            owl:onProperty cont:wellCount ],\\n        [ a owl:Restriction ;\\n            owl:hasValue 12 ;\\n            owl:onProperty cont:columnCount ],\\n        [ a owl:Restriction ;\\n            owl:hasValue cat_ent:MesoscaleK152MSD ;\\n            owl:onProperty cont:hasCatalogEntry ],\\n        [ a owl:Restriction ;\\n            owl:hasValue <#wellvolume10> ;\\n            owl:onProperty cont:wellVolume ],\\n        [ a owl:Restriction ;\\n            owl:hasValue 8 ;\\n            owl:onProperty cont:rowCount ] .\\n\\n<#PerkinElmer384-flat-black-black-proxiplate-plus-f> rdfs:label \"384-flat-black-black-proxiplate-plus-f\" ;\\n    rdfs:comment \"PerkinElmer 384-well black flat-bottom polystyrene proximity plus plate\" ;\\n    rdfs:subClassOf cont:Plate ;\\n    owl:subClassOf [ a owl:Restriction ;\\n            owl:hasValue 384 ;\\n            owl:onProperty cont:wellCount ],\\n        [ a owl:Restriction ;\\n            owl:hasValue <#height31> ;\\n            owl:onProperty cont:height ],\\n        [ a owl:Restriction ;\\n            owl:hasValue <#wellDepth31> ;\\n            owl:onProperty cont:wellDepth ],\\n        [ a owl:Restriction ;\\n            owl:hasValue <#wellvolume31> ;\\n            owl:onProperty cont:wellVolume ],\\n        [ a owl:Restriction ;\\n            owl:hasValue cont:PerkinElmer ;\\n            owl:onProperty cont:equipmentVendor ],\\n        [ a owl:Restriction ;\\n            owl:hasValue 16 ;\\n            owl:onProperty cont:rowCount ],\\n        [ a owl:Restriction ;\\n            owl:hasValue cat_ent:PerkinElmer6008260 ;\\n            owl:onProperty cont:hasCatalogEntry ],\\n        [ a owl:Restriction ;\\n            owl:hasValue 24 ;\\n            owl:onProperty cont:columnCount ] .\\n\\n<#PerkinElmer384-flat-white-white-optiplate> rdfs:label \"384-flat-white-white-optiplate\" ;\\n    rdfs:comment \"PerkinElmer 384-Well White Opaque Microplate\" ;\\n    rdfs:subClassOf cont:Plate ;\\n    owl:subClassOf [ a owl:Restriction ;\\n            owl:hasValue 16 ;\\n            owl:onProperty cont:rowCount ],\\n        [ a owl:Restriction ;\\n            owl:hasValue 24 ;\\n            owl:onProperty cont:columnCount ],\\n        [ a owl:Restriction ;\\n            owl:hasValue <#wellDepth3> ;\\n            owl:onProperty cont:wellDepth ],\\n        [ a owl:Restriction ;\\n            owl:hasValue cat_ent:PerkinElmer6007290 ;\\n            owl:onProperty cont:hasCatalogEntry ],\\n        [ a owl:Restriction ;\\n            owl:hasValue <#wellvolume3> ;\\n            owl:onProperty cont:wellVolume ],\\n        [ a owl:Restriction ;\\n            owl:hasValue 384 ;\\n            owl:onProperty cont:wellCount ],\\n        [ a owl:Restriction ;\\n            owl:hasValue <#height3> ;\\n            owl:onProperty cont:height ],\\n        [ a owl:Restriction ;\\n            owl:hasValue cont:PerkinElmer ;\\n            owl:onProperty cont:equipmentVendor ] .\\n\\n<#PerkinElmer384-flat-white-white-proxiplate-plus> rdfs:label \"384-flat-white-white-proxiplate-plus\" ;\\n    rdfs:comment \"PerkinElmer 384-well flat-bottom polystyrene proximity plus plate\" ;\\n    rdfs:subClassOf cont:Plate ;\\n    owl:subClassOf [ a owl:Restriction ;\\n            owl:hasValue cat_ent:PerkinElmer6008280 ;\\n            owl:onProperty cont:hasCatalogEntry ],\\n        [ a owl:Restriction ;\\n            owl:hasValue 16 ;\\n            owl:onProperty cont:rowCount ],\\n        [ a owl:Restriction ;\\n            owl:hasValue cont:PerkinElmer ;\\n            owl:onProperty cont:equipmentVendor ],\\n        [ a owl:Restriction ;\\n            owl:hasValue <#height22> ;\\n            owl:onProperty cont:height ],\\n        [ a owl:Restriction ;\\n            owl:hasValue <#wellvolume22> ;\\n            owl:onProperty cont:wellVolume ],\\n        [ a owl:Restriction ;\\n            owl:hasValue 384 ;\\n            owl:onProperty cont:wellCount ],\\n        [ a owl:Restriction ;\\n            owl:hasValue <#wellDepth22> ;\\n            owl:onProperty cont:wellDepth ],\\n        [ a owl:Restriction ;\\n            owl:hasValue 24 ;\\n            owl:onProperty cont:columnCount ] .\\n\\n<#Sumitomo%20Bakelite%20Co.384-ubottom-white-tc> rdfs:label \"384-ubottom-white-tc\" ;\\n    rdfs:comment \"Sumitomo Bakelite Co. Sumitomo Bakelite Co. PrimeSurface384U White Plate 3-D Cell Culture Plate\" ;\\n    rdfs:subClassOf cont:Plate ;\\n    owl:subClassOf [ a owl:Restriction ;\\n            owl:hasValue <urn:absolute:strateos_containers_catalog#Sumitomo%20Bakelite%20Co.MS-9384WZ> ;\\n            owl:onProperty cont:hasCatalogEntry ],\\n        [ a owl:Restriction ;\\n            owl:hasValue <https://www.dropbox.com/s/s1e2dzw64m01f9n/container-ontology.ttl#Sumitomo%20Bakelite%20Co.> ;\\n            owl:onProperty cont:equipmentVendor ],\\n        [ a owl:Restriction ;\\n            owl:hasValue 24 ;\\n            owl:onProperty cont:columnCount ],\\n        [ a owl:Restriction ;\\n            owl:hasValue 16 ;\\n            owl:onProperty cont:rowCount ],\\n        [ a owl:Restriction ;\\n            owl:hasValue <#wellvolume40> ;\\n            owl:onProperty cont:wellVolume ],\\n        [ a owl:Restriction ;\\n            owl:hasValue <#wellDepth40> ;\\n            owl:onProperty cont:wellDepth ],\\n        [ a owl:Restriction ;\\n            owl:hasValue <#height40> ;\\n            owl:onProperty cont:height ],\\n        [ a owl:Restriction ;\\n            owl:hasValue 384 ;\\n            owl:onProperty cont:wellCount ] .\\n\\n<#ThermoFisher384-ubottom-clear-polypropylene-nunc-264573> rdfs:label \"384-ubottom-clear-polypropylene-nunc-264573\" ;\\n    rdfs:comment \"ThermoFisher Nunc 384-Well Polypropylene U-Bottom Natural Color Storage Microplate\" ;\\n    rdfs:subClassOf cont:Plate ;\\n    owl:subClassOf [ a owl:Restriction ;\\n            owl:hasValue 16 ;\\n            owl:onProperty cont:rowCount ],\\n        [ a owl:Restriction ;\\n            owl:hasValue cont:ThermoFisher ;\\n            owl:onProperty cont:equipmentVendor ],\\n        [ a owl:Restriction ;\\n            owl:hasValue <#wellvolume27> ;\\n            owl:onProperty cont:wellVolume ],\\n        [ a owl:Restriction ;\\n            owl:hasValue <#wellDepth27> ;\\n            owl:onProperty cont:wellDepth ],\\n        [ a owl:Restriction ;\\n            owl:hasValue 384 ;\\n            owl:onProperty cont:wellCount ],\\n        [ a owl:Restriction ;\\n            owl:hasValue cat_ent:ThermoFisher264573 ;\\n            owl:onProperty cont:hasCatalogEntry ],\\n        [ a owl:Restriction ;\\n            owl:hasValue 24 ;\\n            owl:onProperty cont:columnCount ],\\n        [ a owl:Restriction ;\\n            owl:hasValue <#height27> ;\\n            owl:onProperty cont:height ] .\\n\\n<#ThermoFisher96-flat-white-dc> rdfs:label \"96-flat-white-dc\" ;\\n    rdfs:comment \"ThermoFisher Nunc MicroWell 96-Well, Nunclon Delta-Treated, Flat-Bottom Microplate\" ;\\n    rdfs:subClassOf cont:Plate ;\\n    owl:subClassOf [ a owl:Restriction ;\\n            owl:hasValue <#wellDepth9> ;\\n            owl:onProperty cont:wellDepth ],\\n        [ a owl:Restriction ;\\n            owl:hasValue <#height9> ;\\n            owl:onProperty cont:height ],\\n        [ a owl:Restriction ;\\n            owl:hasValue cat_ent:ThermoFisher136101 ;\\n            owl:onProperty cont:hasCatalogEntry ],\\n        [ a owl:Restriction ;\\n            owl:hasValue cont:ThermoFisher ;\\n            owl:onProperty cont:equipmentVendor ],\\n        [ a owl:Restriction ;\\n            owl:hasValue 12 ;\\n            owl:onProperty cont:columnCount ],\\n        [ a owl:Restriction ;\\n            owl:hasValue 8 ;\\n            owl:onProperty cont:rowCount ],\\n        [ a owl:Restriction ;\\n            owl:hasValue <#wellvolume9> ;\\n            owl:onProperty cont:wellVolume ],\\n        [ a owl:Restriction ;\\n            owl:hasValue 96 ;\\n            owl:onProperty cont:wellCount ] .\\n\\n<#wellDepth2> a om:Depth ;\\n    om:hasDimension om:millimetre ;\\n    om:hasNumericalValue \"11.43\"^^xsd:float .\\n\\n<#wellDepth24> a om:Depth ;\\n    om:hasDimension om:millimetre ;\\n    om:hasNumericalValue \"11.56\"^^xsd:float .\\n\\n<#wellDepth38> a om:Depth ;\\n    om:hasDimension om:millimetre ;\\n    om:hasNumericalValue \"42.03\"^^xsd:float .\\n\\n<#height11> a om:Height ;\\n    om:hasDimension om:millimetre ;\\n    om:hasNumericalValue \"12.19\"^^xsd:float .\\n\\n<#height18> a om:Height ;\\n    om:hasDimension om:millimetre ;\\n    om:hasNumericalValue \"14.22\"^^xsd:float .\\n\\n<#wellvolume36> a om:Volume ;\\n    om:hasDimension om:microlitre ;\\n    om:hasNumericalValue \"12.5\"^^xsd:float .\\n\\n<#height13> a om:Height ;\\n    om:hasDimension om:millimetre ;\\n    om:hasNumericalValue \"14.22\"^^xsd:float .\\n\\n<#wellDepth12> a om:Depth ;\\n    om:hasDimension om:millimetre ;\\n    om:hasNumericalValue \"11.68\"^^xsd:float .\\n\\n<#wellDepth37> a om:Depth ;\\n    om:hasDimension om:millimetre ;\\n    om:hasNumericalValue \"5.0\"^^xsd:float .\\n\\n<#wellvolume31> a om:Volume ;\\n    om:hasDimension om:microlitre ;\\n    om:hasNumericalValue \"28.0\"^^xsd:float .\\n\\n<#wellvolume32> a om:Volume ;\\n    om:hasDimension om:microlitre ;\\n    om:hasNumericalValue \"90.0\"^^xsd:float .\\n\\n<#wellvolume40> a om:Volume ;\\n    om:hasDimension om:microlitre ;\\n    om:hasNumericalValue \"100.0\"^^xsd:float .\\n\\n<#wellDepth31> a om:Depth ;\\n    om:hasDimension om:millimetre ;\\n    om:hasNumericalValue \"5.3\"^^xsd:float .\\n\\n<#height19> a om:Height ;\\n    om:hasDimension om:millimetre ;\\n    om:hasNumericalValue \"15.9\"^^xsd:float .\\n\\n<#height20> a om:Height ;\\n    om:hasDimension om:millimetre ;\\n    om:hasNumericalValue \"14.22\"^^xsd:float .\\n\\n<#height24> a om:Height ;\\n    om:hasDimension om:millimetre ;\\n    om:hasNumericalValue \"14.22\"^^xsd:float .\\n\\n<#height38> a om:Height ;\\n    om:hasDimension om:millimetre ;\\n    om:hasNumericalValue \"43.8\"^^xsd:float .\\n\\n<#wellDepth23> a om:Depth ;\\n    om:hasDimension om:millimetre ;\\n    om:hasNumericalValue \"10.668\"^^xsd:float .\\n\\n<#wellDepth3> a om:Depth ;\\n    om:hasDimension om:millimetre ;\\n    om:hasNumericalValue \"10.45\"^^xsd:float .\\n\\n<#wellDepth35> a om:Depth ;\\n    om:hasDimension om:millimetre ;\\n    om:hasNumericalValue \"11.5\"^^xsd:float .\\n\\n<#wellvolume20> a om:Volume ;\\n    om:hasDimension om:microlitre ;\\n    om:hasNumericalValue \"70.0\"^^xsd:float .\\n\\n<#wellvolume27> a om:Volume ;\\n    om:hasDimension om:microlitre ;\\n    om:hasNumericalValue \"120.0\"^^xsd:float .\\n\\n<#wellvolume29> a om:Volume ;\\n    om:hasDimension om:microlitre ;\\n    om:hasNumericalValue \"35.0\"^^xsd:float .\\n\\n<#wellvolume30> a om:Volume ;\\n    om:hasDimension om:microlitre ;\\n    om:hasNumericalValue \"400.0\"^^xsd:float .\\n\\n<#wellvolume34> a om:Volume ;\\n    om:hasDimension om:microlitre ;\\n    om:hasNumericalValue \"80.0\"^^xsd:float .\\n\\n<#height12> a om:Height ;\\n    om:hasDimension om:millimetre ;\\n    om:hasNumericalValue \"14.35\"^^xsd:float .\\n\\n<#height30> a om:Height ;\\n    om:hasDimension om:millimetre ;\\n    om:hasNumericalValue \"14.7\"^^xsd:float .\\n\\n<#height4> a om:Height ;\\n    om:hasDimension om:millimetre ;\\n    om:hasNumericalValue \"14.5\"^^xsd:float .\\n\\n<#wellDepth0> a om:Depth ;\\n    om:hasDimension om:millimetre ;\\n    om:hasNumericalValue \"9.6\"^^xsd:float .\\n\\n<#wellDepth32> a om:Depth ;\\n    om:hasDimension om:millimetre ;\\n    om:hasNumericalValue \"11.43\"^^xsd:float .\\n\\n<#wellvolume15> a om:Volume ;\\n    om:hasDimension om:microlitre ;\\n    om:hasNumericalValue \"5000.0\"^^xsd:float .\\n\\n<#wellvolume8> a om:Volume ;\\n    om:hasDimension om:microlitre ;\\n    om:hasNumericalValue \"340.0\"^^xsd:float .\\n\\n<#height16> a om:Height ;\\n    om:hasDimension om:millimetre ;\\n    om:hasNumericalValue \"14.6\"^^xsd:float .\\n\\n<#height36> a om:Height ;\\n    om:hasDimension om:millimetre ;\\n    om:hasNumericalValue \"10.4\"^^xsd:float .\\n\\n<#height39> a om:Height ;\\n    om:hasDimension om:millimetre ;\\n    om:hasNumericalValue \"44.04\"^^xsd:float .\\n\\n<#height9> a om:Height ;\\n    om:hasDimension om:millimetre ;\\n    om:hasNumericalValue \"14.6\"^^xsd:float .\\n\\n<#wellDepth14> a om:Depth ;\\n    om:hasDimension om:millimetre ;\\n    om:hasNumericalValue \"10.9\"^^xsd:float .\\n\\n<#height22> a om:Height ;\\n    om:hasDimension om:millimetre ;\\n    om:hasNumericalValue \"14.35\"^^xsd:float .\\n\\n<#wellvolume16> a om:Volume ;\\n    om:hasDimension om:microlitre ;\\n    om:hasNumericalValue \"320.0\"^^xsd:float .\\n\\n<#wellvolume9> a om:Volume ;\\n    om:hasDimension om:microlitre ;\\n    om:hasNumericalValue \"320.0\"^^xsd:float .\\n\\n<#wellDepth36> a om:Depth ;\\n    om:hasDimension om:millimetre ;\\n    om:hasNumericalValue \"4.8\"^^xsd:float .\\n\\n<#height10> a om:Height ;\\n    om:hasDimension om:millimetre ;\\n    om:hasNumericalValue \"14.35\"^^xsd:float .\\n\\n<#height27> a om:Height ;\\n    om:hasDimension om:millimetre ;\\n    om:hasNumericalValue \"14.4\"^^xsd:float .\\n\\n<#height40> a om:Height ;\\n    om:hasDimension om:millimetre ;\\n    om:hasNumericalValue \"14.4\"^^xsd:float .\\n\\n<#wellDepth17> a om:Depth ;\\n    om:hasDimension om:millimetre ;\\n    om:hasNumericalValue \"42.3\"^^xsd:float .\\n\\n<#wellvolume10> a om:Volume ;\\n    om:hasDimension om:microlitre ;\\n    om:hasNumericalValue \"410.0\"^^xsd:float .\\n\\n<#height21> a om:Height ;\\n    om:hasDimension om:millimetre ;\\n    om:hasNumericalValue \"19.0\"^^xsd:float .\\n\\n<#height33> a om:Height ;\\n    om:hasDimension om:millimetre ;\\n    om:hasNumericalValue \"44.04\"^^xsd:float .\\n\\n<#wellvolume18> a om:Volume ;\\n    om:hasDimension om:microlitre ;\\n    om:hasNumericalValue \"80.0\"^^xsd:float .\\n\\n<#wellDepth4> a om:Depth ;\\n    om:hasDimension om:millimetre ;\\n    om:hasNumericalValue \"12.9\"^^xsd:float .\\n\\n<#wellDepth40> a om:Depth ;\\n    om:hasDimension om:millimetre ;\\n    om:hasNumericalValue \"12.0\"^^xsd:float .\\n\\n<#wellvolume22> a om:Volume ;\\n    om:hasDimension om:microlitre ;\\n    om:hasNumericalValue \"28.0\"^^xsd:float .\\n\\n<#height0> a om:Height ;\\n    om:hasDimension om:millimetre ;\\n    om:hasNumericalValue \"10.6\"^^xsd:float .\\n\\n<#height31> a om:Height ;\\n    om:hasDimension om:millimetre ;\\n    om:hasNumericalValue \"14.35\"^^xsd:float .\\n\\n<#wellDepth10> a om:Depth ;\\n    om:hasDimension om:millimetre ;\\n    om:hasNumericalValue \"11.68\"^^xsd:float .\\n\\n<#wellDepth15> a om:Depth ;\\n    om:hasDimension om:millimetre ;\\n    om:hasNumericalValue \"16.5\"^^xsd:float .\\n\\n<#wellDepth9> a om:Depth ;\\n    om:hasDimension om:millimetre ;\\n    om:hasNumericalValue \"11.2\"^^xsd:float .\\n\\n<#wellvolume13> a om:Volume ;\\n    om:hasDimension om:microlitre ;\\n    om:hasNumericalValue \"340.0\"^^xsd:float .\\n\\n<#height1> a om:Height ;\\n    om:hasDimension om:millimetre ;\\n    om:hasNumericalValue \"14.35\"^^xsd:float .\\n\\n<#wellvolume37> a om:Volume ;\\n    om:hasDimension om:microlitre ;\\n    om:hasNumericalValue \"10.0\"^^xsd:float .\\n\\n<#height2> a om:Height ;\\n    om:hasDimension om:millimetre ;\\n    om:hasNumericalValue \"14.35\"^^xsd:float .\\n\\n<#wellvolume23> a om:Volume ;\\n    om:hasDimension om:microlitre ;\\n    om:hasNumericalValue \"200.0\"^^xsd:float .\\n\\n<#wellvolume28> a om:Volume ;\\n    om:hasDimension om:microlitre ;\\n    om:hasNumericalValue \"14.0\"^^xsd:float .\\n\\n<#wellDepth22> a om:Depth ;\\n    om:hasDimension om:millimetre ;\\n    om:hasNumericalValue \"5.3\"^^xsd:float .\\n\\n<#wellDepth33> a om:Depth ;\\n    om:hasDimension om:millimetre ;\\n    om:hasNumericalValue \"42.0\"^^xsd:float .\\n\\n<#wellDepth6> a om:Depth ;\\n    om:hasDimension om:millimetre ;\\n    om:hasNumericalValue \"11.5\"^^xsd:float .\\n\\n<#wellDepth7> a om:Depth ;\\n    om:hasDimension om:millimetre ;\\n    om:hasNumericalValue \"10.67\"^^xsd:float .\\n\\n<#wellvolume35> a om:Volume ;\\n    om:hasDimension om:microlitre ;\\n    om:hasNumericalValue \"120.0\"^^xsd:float .\\n\\n<#wellvolume5> a om:Volume ;\\n    om:hasDimension om:microlitre ;\\n    om:hasNumericalValue \"9000.0\"^^xsd:float .\\n\\n<#height25> a om:Height ;\\n    om:hasDimension om:millimetre ;\\n    om:hasNumericalValue \"14.4\"^^xsd:float .\\n\\n<#height28> a om:Height ;\\n    om:hasDimension om:millimetre ;\\n    om:hasNumericalValue \"10.48\"^^xsd:float .\\n\\n<#height37> a om:Height ;\\n    om:hasDimension om:millimetre ;\\n    om:hasNumericalValue \"10.4\"^^xsd:float .\\n\\n<#height5> a om:Height ;\\n    om:hasDimension om:millimetre ;\\n    om:hasNumericalValue \"36.0\"^^xsd:float .\\n\\n<#wellvolume39> a om:Volume ;\\n    om:hasDimension om:microlitre ;\\n    om:hasNumericalValue \"21000.0\"^^xsd:float .\\n\\n<#wellDepth19> a om:Depth ;\\n    om:hasDimension om:millimetre ;\\n    om:hasNumericalValue \"14.6\"^^xsd:float .\\n\\n<#wellvolume1> a om:Volume ;\\n    om:hasDimension om:microlitre ;\\n    om:hasNumericalValue \"410.0\"^^xsd:float .\\n\\n<#wellvolume11> a om:Volume ;\\n    om:hasDimension om:microlitre ;\\n    om:hasNumericalValue \"40.0\"^^xsd:float .\\n\\n<#wellvolume17> a om:Volume ;\\n    om:hasDimension om:microlitre ;\\n    om:hasNumericalValue \"1000.0\"^^xsd:float .\\n\\n<#wellvolume19> a om:Volume ;\\n    om:hasDimension om:microlitre ;\\n    om:hasNumericalValue \"160.0\"^^xsd:float .\\n\\n<#wellvolume2> a om:Volume ;\\n    om:hasDimension om:microlitre ;\\n    om:hasNumericalValue \"80.0\"^^xsd:float .\\n\\n<#wellvolume21> a om:Volume ;\\n    om:hasDimension om:microlitre ;\\n    om:hasNumericalValue \"5000.0\"^^xsd:float .\\n\\n<#wellvolume38> a om:Volume ;\\n    om:hasDimension om:microlitre ;\\n    om:hasNumericalValue \"2000.0\"^^xsd:float .\\n\\n<#wellDepth1> a om:Depth ;\\n    om:hasDimension om:millimetre ;\\n    om:hasNumericalValue \"11.68\"^^xsd:float .\\n\\n<#wellDepth11> a om:Depth ;\\n    om:hasDimension om:millimetre ;\\n    om:hasNumericalValue \"9.39\"^^xsd:float .\\n\\n<#wellDepth20> a om:Depth ;\\n    om:hasDimension om:millimetre ;\\n    om:hasNumericalValue \"11.57\"^^xsd:float .\\n\\n<#wellDepth26> a om:Depth ;\\n    om:hasDimension om:millimetre ;\\n    om:hasNumericalValue \"39.1\"^^xsd:float .\\n\\n<#wellDepth30> a om:Depth ;\\n    om:hasDimension om:millimetre ;\\n    om:hasNumericalValue \"10.5\"^^xsd:float .\\n\\n<#wellDepth34> a om:Depth ;\\n    om:hasDimension om:millimetre ;\\n    om:hasNumericalValue \"11.43\"^^xsd:float .\\n\\n<#wellDepth8> a om:Depth ;\\n    om:hasDimension om:millimetre ;\\n    om:hasNumericalValue \"10.67\"^^xsd:float .\\n\\n<#height15> a om:Height ;\\n    om:hasDimension om:millimetre ;\\n    om:hasNumericalValue \"19.0\"^^xsd:float .\\n\\n<#wellvolume25> a om:Volume ;\\n    om:hasDimension om:microlitre ;\\n    om:hasNumericalValue \"340.0\"^^xsd:float .\\n\\n<#wellvolume33> a om:Volume ;\\n    om:hasDimension om:microlitre ;\\n    om:hasNumericalValue \"10000.0\"^^xsd:float .\\n\\n<#height35> a om:Height ;\\n    om:hasDimension om:millimetre ;\\n    om:hasNumericalValue \"14.4\"^^xsd:float .\\n\\n<#height7> a om:Height ;\\n    om:hasDimension om:millimetre ;\\n    om:hasNumericalValue \"14.22\"^^xsd:float .\\n\\n<#wellDepth13> a om:Depth ;\\n    om:hasDimension om:millimetre ;\\n    om:hasNumericalValue \"10.67\"^^xsd:float .\\n\\n<#wellDepth18> a om:Depth ;\\n    om:hasDimension om:millimetre ;\\n    om:hasNumericalValue \"11.43\"^^xsd:float .\\n\\n<#wellvolume0> a om:Volume ;\\n    om:hasDimension om:microlitre ;\\n    om:hasNumericalValue \"40.0\"^^xsd:float .\\n\\n<#wellvolume6> a om:Volume ;\\n    om:hasDimension om:microlitre ;\\n    om:hasNumericalValue \"135.0\"^^xsd:float .\\n\\n<#wellDepth25> a om:Depth ;\\n    om:hasDimension om:millimetre ;\\n    om:hasNumericalValue \"11.3\"^^xsd:float .\\n\\n<#wellDepth27> a om:Depth ;\\n    om:hasDimension om:millimetre ;\\n    om:hasNumericalValue \"11.7\"^^xsd:float .\\n\\n<#wellDepth28> a om:Depth ;\\n    om:hasDimension om:millimetre ;\\n    om:hasNumericalValue \"5.1\"^^xsd:float .\\n\\n<#wellDepth29> a om:Depth ;\\n    om:hasDimension om:millimetre ;\\n    om:hasNumericalValue \"6.58\"^^xsd:float .\\n\\n<#wellDepth39> a om:Depth ;\\n    om:hasDimension om:millimetre ;\\n    om:hasNumericalValue \"39.3\"^^xsd:float .\\n\\n<#height14> a om:Height ;\\n    om:hasDimension om:millimetre ;\\n    om:hasNumericalValue \"14.22\"^^xsd:float .\\n\\n<#height17> a om:Height ;\\n    om:hasDimension om:millimetre ;\\n    om:hasNumericalValue \"44.0\"^^xsd:float .\\n\\n<#wellvolume26> a om:Volume ;\\n    om:hasDimension om:microlitre ;\\n    om:hasNumericalValue \"32000.0\"^^xsd:float .\\n\\n<#wellvolume7> a om:Volume ;\\n    om:hasDimension om:microlitre ;\\n    om:hasNumericalValue \"360.0\"^^xsd:float .\\n\\n<#height26> a om:Height ;\\n    om:hasDimension om:millimetre ;\\n    om:hasNumericalValue \"43.8\"^^xsd:float .\\n\\n<#wellvolume4> a om:Volume ;\\n    om:hasDimension om:microlitre ;\\n    om:hasNumericalValue \"200.0\"^^xsd:float .\\n\\n<#wellDepth5> a om:Depth ;\\n    om:hasDimension om:millimetre ;\\n    om:hasNumericalValue \"36.0\"^^xsd:float .\\n\\n<#height3> a om:Height ;\\n    om:hasDimension om:millimetre ;\\n    om:hasNumericalValue \"14.4\"^^xsd:float .\\n\\n<#wellvolume12> a om:Volume ;\\n    om:hasDimension om:microlitre ;\\n    om:hasNumericalValue \"410.0\"^^xsd:float .\\n\\n<#wellvolume24> a om:Volume ;\\n    om:hasDimension om:microlitre ;\\n    om:hasNumericalValue \"90.0\"^^xsd:float .\\n\\n<#height23> a om:Height ;\\n    om:hasDimension om:millimetre ;\\n    om:hasNumericalValue \"3.25\"^^xsd:float .\\n\\n<#height29> a om:Height ;\\n    om:hasDimension om:millimetre ;\\n    om:hasNumericalValue \"14.22\"^^xsd:float .\\n\\n<#height32> a om:Height ;\\n    om:hasDimension om:millimetre ;\\n    om:hasNumericalValue \"14.22\"^^xsd:float .\\n\\n<#height34> a om:Height ;\\n    om:hasDimension om:millimetre ;\\n    om:hasNumericalValue \"14.2\"^^xsd:float .\\n\\n<#wellvolume14> a om:Volume ;\\n    om:hasDimension om:microlitre ;\\n    om:hasNumericalValue \"340.0\"^^xsd:float .\\n\\n<#height6> a om:Height ;\\n    om:hasDimension om:millimetre ;\\n    om:hasNumericalValue \"14.4\"^^xsd:float .\\n\\n<#height8> a om:Height ;\\n    om:hasDimension om:millimetre ;\\n    om:hasNumericalValue \"14.22\"^^xsd:float .\\n\\n<#wellDepth21> a om:Depth ;\\n    om:hasDimension om:millimetre ;\\n    om:hasNumericalValue \"16.5\"^^xsd:float .\\n\\n<#wellvolume3> a om:Volume ;\\n    om:hasDimension om:microlitre ;\\n    om:hasNumericalValue \"105.0\"^^xsd:float .\\n\\n<#wellDepth16> a om:Depth ;\\n    om:hasDimension om:millimetre ;\\n    om:hasNumericalValue \"10.59\"^^xsd:float .\\n\\ncat_ent:Axygenres-mw12-hp a cont:CatalogEntry ;\\n    cont:catalogNumber \"res-mw12-hp\" ;\\n    cont:hasVendor cont:Axygen .\\n\\ncat_ent:Axygenres-mw8-hp a cont:CatalogEntry ;\\n    cont:catalogNumber \"res-mw8-hp\" ;\\n    cont:hasVendor cont:Axygen .\\n\\ncat_ent:Chemspeedunknown a cont:CatalogEntry ;\\n    cont:catalogNumber \"unknown\" ;\\n    cont:hasVendor cont:Chemspeed .\\n\\ncat_ent:Corning353077 a cont:CatalogEntry ;\\n    cont:catalogNumber \"353077\" ;\\n    cont:hasVendor cont:Corning .\\n\\ncat_ent:Corning3570 a cont:CatalogEntry ;\\n    cont:catalogNumber \"3570\" ;\\n    cont:hasVendor cont:Corning .\\n\\ncat_ent:Corning3574 a cont:CatalogEntry ;\\n    cont:catalogNumber \"3574\" ;\\n    cont:hasVendor cont:Corning .\\n\\ncat_ent:Corning3632 a cont:CatalogEntry ;\\n    cont:catalogNumber \"3632\" ;\\n    cont:hasVendor cont:Corning .\\n\\ncat_ent:Corning3635 a cont:CatalogEntry ;\\n    cont:catalogNumber \"3635\" ;\\n    cont:hasVendor cont:Corning .\\n\\ncat_ent:Corning3657 a cont:CatalogEntry ;\\n    cont:catalogNumber \"3657\" ;\\n    cont:hasVendor cont:Corning .\\n\\ncat_ent:Corning3700 a cont:CatalogEntry ;\\n    cont:catalogNumber \"3700\" ;\\n    cont:hasVendor cont:Corning .\\n\\ncat_ent:Corning3706 a cont:CatalogEntry ;\\n    cont:catalogNumber \"3706\" ;\\n    cont:hasVendor cont:Corning .\\n\\ncat_ent:Corning3727 a cont:CatalogEntry ;\\n    cont:catalogNumber \"3727\" ;\\n    cont:hasVendor cont:Corning .\\n\\ncat_ent:Corning3763 a cont:CatalogEntry ;\\n    cont:catalogNumber \"3763\" ;\\n    cont:hasVendor cont:Corning .\\n\\ncat_ent:Corning3824 a cont:CatalogEntry ;\\n    cont:catalogNumber \"3824\" ;\\n    cont:hasVendor cont:Corning .\\n\\ncat_ent:Corning3894 a cont:CatalogEntry ;\\n    cont:catalogNumber \"3894\" ;\\n    cont:hasVendor cont:Corning .\\n\\ncat_ent:Corning3961 a cont:CatalogEntry ;\\n    cont:catalogNumber \"3961\" ;\\n    cont:hasVendor cont:Corning .\\n\\ncat_ent:Corning4514 a cont:CatalogEntry ;\\n    cont:catalogNumber \"4514\" ;\\n    cont:hasVendor cont:Corning .\\n\\ncat_ent:Costar3590 a cont:CatalogEntry ;\\n    cont:catalogNumber \"3590\" ;\\n    cont:hasVendor cont:Costar .\\n\\n<urn:absolute:strateos_containers_catalog#E%26K%20ScientificEK-2053-S> a cont:CatalogEntry ;\\n    cont:catalogNumber \"EK-2053-S\" ;\\n    cont:hasVendor <https://www.dropbox.com/s/s1e2dzw64m01f9n/container-ontology.ttl#E%26K%20Scientific> .\\n\\ncat_ent:Eppendorf30720016 a cont:CatalogEntry ;\\n    cont:catalogNumber \"30720016\" ;\\n    cont:hasVendor cont:Eppendorf .\\n\\ncat_ent:Eppendorf30720113 a cont:CatalogEntry ;\\n    cont:catalogNumber \"30720113\" ;\\n    cont:hasVendor cont:Eppendorf .\\n\\ncat_ent:Eppendorf30730119 a cont:CatalogEntry ;\\n    cont:catalogNumber \"30730119\" ;\\n    cont:hasVendor cont:Eppendorf .\\n\\ncat_ent:Eppendorf951020539 a cont:CatalogEntry ;\\n    cont:catalogNumber \"951020539\" ;\\n    cont:hasVendor cont:Eppendorf .\\n\\ncat_ent:Eppendorf951020619 a cont:CatalogEntry ;\\n    cont:catalogNumber \"951020619\" ;\\n    cont:hasVendor cont:Eppendorf .\\n\\ncat_ent:Fisher22-387-030 a cont:CatalogEntry ;\\n    cont:catalogNumber \"22-387-030\" ;\\n    cont:hasVendor cont:Fisher .\\n\\ncat_ent:Fisher22-387-031 a cont:CatalogEntry ;\\n    cont:catalogNumber \"22-387-031\" ;\\n    cont:hasVendor cont:Fisher .\\n\\ncat_ent:Fisher249944 a cont:CatalogEntry ;\\n    cont:catalogNumber \"249944\" ;\\n    cont:hasVendor cont:Fisher .\\n\\ncat_ent:Greiner655077 a cont:CatalogEntry ;\\n    cont:catalogNumber \"655077\" ;\\n    cont:hasVendor cont:Greiner .\\n\\ncat_ent:Greiner781280 a cont:CatalogEntry ;\\n    cont:catalogNumber \"781280\" ;\\n    cont:hasVendor cont:Greiner .\\n\\ncat_ent:Greiner782073 a cont:CatalogEntry ;\\n    cont:catalogNumber \"782073\" ;\\n    cont:hasVendor cont:Greiner .\\n\\ncat_ent:LabcyteLP-0200 a cont:CatalogEntry ;\\n    cont:catalogNumber \"LP-0200\" ;\\n    cont:hasVendor cont:Labcyte .\\n\\ncat_ent:LabcytePP-0200 a cont:CatalogEntry ;\\n    cont:catalogNumber \"PP-0200\" ;\\n    cont:hasVendor cont:Labcyte .\\n\\ncat_ent:MesoscaleK15048G a cont:CatalogEntry ;\\n    cont:catalogNumber \"K15048G\" ;\\n    cont:hasVendor cont:Mesoscale .\\n\\ncat_ent:MesoscaleK15069L a cont:CatalogEntry ;\\n    cont:catalogNumber \"K15069L\" ;\\n    cont:hasVendor cont:Mesoscale .\\n\\ncat_ent:MesoscaleK152MSD a cont:CatalogEntry ;\\n    cont:catalogNumber \"K152MSD\" ;\\n    cont:hasVendor cont:Mesoscale .\\n\\ncat_ent:PerkinElmer6007290 a cont:CatalogEntry ;\\n    cont:catalogNumber \"6007290\" ;\\n    cont:hasVendor cont:PerkinElmer .\\n\\ncat_ent:PerkinElmer6008260 a cont:CatalogEntry ;\\n    cont:catalogNumber \"6008260\" ;\\n    cont:hasVendor cont:PerkinElmer .\\n\\ncat_ent:PerkinElmer6008280 a cont:CatalogEntry ;\\n    cont:catalogNumber \"6008280\" ;\\n    cont:hasVendor cont:PerkinElmer .\\n\\n<urn:absolute:strateos_containers_catalog#Sumitomo%20Bakelite%20Co.MS-9384WZ> a cont:CatalogEntry ;\\n    cont:catalogNumber \"MS-9384WZ\" ;\\n    cont:hasVendor <https://www.dropbox.com/s/s1e2dzw64m01f9n/container-ontology.ttl#Sumitomo%20Bakelite%20Co.> .\\n\\ncat_ent:ThermoFisher136101 a cont:CatalogEntry ;\\n    cont:catalogNumber \"136101\" ;\\n    cont:hasVendor cont:ThermoFisher .\\n\\ncat_ent:ThermoFisher264573 a cont:CatalogEntry ;\\n    cont:catalogNumber \"264573\" ;\\n    cont:hasVendor cont:ThermoFisher .\\n\\ncont:Chemspeed a cont:VendorFirm ;\\n    rdfs:label \"Chemspeed\" ;\\n    cont:vendorName \"Chemspeed\" .\\n\\ncont:Costar a cont:VendorFirm ;\\n    rdfs:label \"Costar\" ;\\n    cont:vendorName \"Costar\" .\\n\\n<https://www.dropbox.com/s/s1e2dzw64m01f9n/container-ontology.ttl#E%26K%20Scientific> a cont:VendorFirm ;\\n    rdfs:label \"E&K Scientific\" ;\\n    cont:vendorName \"E&K Scientific\" .\\n\\n<https://www.dropbox.com/s/s1e2dzw64m01f9n/container-ontology.ttl#Sumitomo%20Bakelite%20Co.> a cont:VendorFirm ;\\n    rdfs:label \"Sumitomo Bakelite Co.\" ;\\n    cont:vendorName \"Sumitomo Bakelite Co.\" .\\n\\ncont:Axygen a cont:VendorFirm ;\\n    rdfs:label \"Axygen\" ;\\n    cont:vendorName \"Axygen\" .\\n\\ncont:Labcyte a cont:VendorFirm ;\\n    rdfs:label \"Labcyte\" ;\\n    cont:vendorName \"Labcyte\" .\\n\\ncont:ThermoFisher a cont:VendorFirm ;\\n    rdfs:label \"ThermoFisher\" ;\\n    cont:vendorName \"ThermoFisher\" .\\n\\ncont:Fisher a cont:VendorFirm ;\\n    rdfs:label \"Fisher\" ;\\n    cont:vendorName \"Fisher\" .\\n\\ncont:Greiner a cont:VendorFirm ;\\n    rdfs:label \"Greiner\" ;\\n    cont:vendorName \"Greiner\" .\\n\\ncont:Mesoscale a cont:VendorFirm ;\\n    rdfs:label \"Mesoscale\" ;\\n    cont:vendorName \"Mesoscale\" .\\n\\ncont:PerkinElmer a cont:VendorFirm ;\\n    rdfs:label \"PerkinElmer\" ;\\n    cont:vendorName \"PerkinElmer\" .\\n\\ncont:Eppendorf a cont:VendorFirm ;\\n    rdfs:label \"Eppendorf\" ;\\n    cont:vendorName \"Eppendorf\" .\\n\\ncont:Corning a cont:VendorFirm ;\\n    rdfs:label \"Corning\" ;\\n    cont:vendorName \"Corning\" .\\n\\n'"
      ]
     },
     "execution_count": 21,
     "metadata": {},
     "output_type": "execute_result"
    }
   ],
   "source": [
    "g.serialize(format='turtle')"
   ]
  },
  {
   "cell_type": "code",
   "execution_count": 22,
   "metadata": {
    "pycharm": {
     "name": "#%%\n"
    }
   },
   "outputs": [],
   "source": [
    "g.serialize('../owl/strateos-catalog.ttl', format='turtle')"
   ]
  },
  {
   "cell_type": "code",
   "execution_count": null,
   "metadata": {},
   "outputs": [],
   "source": []
  }
 ],
 "metadata": {
  "kernelspec": {
   "display_name": "Python 3",
   "language": "python",
   "name": "python3"
  },
  "language_info": {
   "codemirror_mode": {
    "name": "ipython",
    "version": 3
   },
   "file_extension": ".py",
   "mimetype": "text/x-python",
   "name": "python",
   "nbconvert_exporter": "python",
   "pygments_lexer": "ipython3",
   "version": "3.9.5"
  }
 },
 "nbformat": 4,
 "nbformat_minor": 1
}
