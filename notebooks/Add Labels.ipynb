{
 "cells": [
  {
   "cell_type": "markdown",
   "source": [
    "# Add Labels to Ontology\n",
    "\n",
    "I set this up because it's a pain to have to manually add labels to everything, but some ancillary software\n",
    "(like the `sbol_factory`) expects them.\n",
    "\n"
   ],
   "metadata": {
    "collapsed": false,
    "pycharm": {
     "name": "#%% md\n"
    }
   }
  },
  {
   "cell_type": "code",
   "source": [
    "from typing import List\n",
    "import rdflib\n",
    "from rdflib import Graph, Namespace, Literal\n",
    "from rdflib.namespace import RDF, RDFS\n"
   ],
   "metadata": {
    "collapsed": false,
    "pycharm": {
     "name": "#%%\n"
    }
   },
   "execution_count": 1,
   "outputs": []
  },
  {
   "cell_type": "code",
   "execution_count": 2,
   "outputs": [],
   "source": [
    "g = Graph(identifier='http://www.semanticweb.org/rpg/ontologies/2021/5/container-ontology')\n",
    "g.parse(\"../owl/container-ontology.ttl\", format='turtle')\n",
    "g.serialize('../owl/old-container.ttl', format='turtle')"
   ],
   "metadata": {
    "collapsed": false,
    "pycharm": {
     "name": "#%%\n"
    }
   }
  },
  {
   "cell_type": "code",
   "execution_count": 3,
   "outputs": [],
   "source": [
    "ns = Namespace('http://www.semanticweb.org/rpg/ontologies/2021/5/container-ontology#')"
   ],
   "metadata": {
    "collapsed": false,
    "pycharm": {
     "name": "#%%\n"
    }
   }
  },
  {
   "cell_type": "code",
   "execution_count": 4,
   "outputs": [],
   "source": [
    "query = \"\"\"\n",
    "SELECT ?class WHERE\n",
    "{ ?class a owl:Class .\n",
    "FILTER NOT EXISTS { ?class rdfs:label ?label }\n",
    "}\"\"\"\n",
    "qres = g.query(query)"
   ],
   "metadata": {
    "collapsed": false,
    "pycharm": {
     "name": "#%%\n"
    }
   }
  },
  {
   "cell_type": "code",
   "execution_count": 5,
   "outputs": [
    {
     "name": "stdout",
     "output_type": "stream",
     "text": [
      "http://www.semanticweb.org/rpg/ontologies/2021/5/container-ontology#LabMachinery\n",
      "http://www.semanticweb.org/rpg/ontologies/2021/5/container-ontology#VendorFirm\n",
      "http://www.semanticweb.org/rpg/ontologies/2021/5/container-ontology#Well\n",
      "http://www.semanticweb.org/rpg/ontologies/2021/5/container-ontology#Centrifuge\n",
      "http://www.semanticweb.org/rpg/ontologies/2021/5/container-ontology#Container\n",
      "http://www.semanticweb.org/rpg/ontologies/2021/5/container-ontology#PlateReader\n",
      "http://www.semanticweb.org/rpg/ontologies/2021/5/container-ontology#CatalogEntry\n",
      "http://www.semanticweb.org/rpg/ontologies/2021/5/container-ontology#Plate\n",
      "http://www.semanticweb.org/rpg/ontologies/2021/5/container-ontology#SLAS-1-2004\n",
      "http://www.semanticweb.org/rpg/ontologies/2021/5/container-ontology#VWRCentrifugePCRPlateSpec\n",
      "http://www.semanticweb.org/rpg/ontologies/2021/5/container-ontology#LabEquipment\n",
      "http://www.ontology-of-units-of-measure.org/resource/om-2/Force\n",
      "http://www.semanticweb.org/rpg/ontologies/2021/5/container-ontology#CoatingMaterial\n",
      "http://www.semanticweb.org/rpg/ontologies/2021/5/container-ontology#ThermoFisher/EnduraPlate_96Well\n"
     ]
    }
   ],
   "source": [
    "for x in qres:\n",
    "    if isinstance(x[0], rdflib.term.URIRef):\n",
    "        print(x[0])"
   ],
   "metadata": {
    "collapsed": false,
    "pycharm": {
     "name": "#%%\n"
    }
   }
  },
  {
   "cell_type": "code",
   "execution_count": 6,
   "outputs": [],
   "source": [
    "qres = g.query(query)\n",
    "for x in qres:\n",
    "    if isinstance(x[0], rdflib.term.URIRef):\n",
    "        break"
   ],
   "metadata": {
    "collapsed": false,
    "pycharm": {
     "name": "#%%\n"
    }
   }
  },
  {
   "cell_type": "code",
   "execution_count": 7,
   "outputs": [
    {
     "data": {
      "text/plain": "rdflib.term.URIRef('http://www.semanticweb.org/rpg/ontologies/2021/5/container-ontology#LabMachinery')"
     },
     "execution_count": 7,
     "metadata": {},
     "output_type": "execute_result"
    }
   ],
   "source": [
    "x[0]"
   ],
   "metadata": {
    "collapsed": false,
    "pycharm": {
     "name": "#%%\n"
    }
   }
  },
  {
   "cell_type": "code",
   "execution_count": 8,
   "outputs": [
    {
     "data": {
      "text/plain": "rdflib.term.URIRef"
     },
     "execution_count": 8,
     "metadata": {},
     "output_type": "execute_result"
    }
   ],
   "source": [
    "type(x[0])"
   ],
   "metadata": {
    "collapsed": false,
    "pycharm": {
     "name": "#%%\n"
    }
   }
  },
  {
   "cell_type": "code",
   "execution_count": 10,
   "outputs": [
    {
     "data": {
      "text/plain": "True"
     },
     "execution_count": 10,
     "metadata": {},
     "output_type": "execute_result"
    }
   ],
   "source": [
    "issubclass(rdflib.term.URIRef, str)"
   ],
   "metadata": {
    "collapsed": false,
    "pycharm": {
     "name": "#%%\n"
    }
   }
  },
  {
   "cell_type": "code",
   "execution_count": 11,
   "outputs": [
    {
     "data": {
      "text/plain": "['http:',\n '',\n 'www.semanticweb.org',\n 'rpg',\n 'ontologies',\n '2021',\n '5',\n 'container-ontology#LabMachinery']"
     },
     "execution_count": 11,
     "metadata": {},
     "output_type": "execute_result"
    }
   ],
   "source": [
    "x[0].split('/')"
   ],
   "metadata": {
    "collapsed": false,
    "pycharm": {
     "name": "#%%\n"
    }
   }
  },
  {
   "cell_type": "code",
   "execution_count": 12,
   "outputs": [
    {
     "data": {
      "text/plain": "'container-ontology#LabMachinery'"
     },
     "execution_count": 12,
     "metadata": {},
     "output_type": "execute_result"
    }
   ],
   "source": [
    "x[0].split('/')[-1]"
   ],
   "metadata": {
    "collapsed": false,
    "pycharm": {
     "name": "#%%\n"
    }
   }
  },
  {
   "cell_type": "code",
   "execution_count": 13,
   "outputs": [
    {
     "data": {
      "text/plain": "['container-ontology', 'LabMachinery']"
     },
     "execution_count": 13,
     "metadata": {},
     "output_type": "execute_result"
    }
   ],
   "source": [
    "last = x[0].split('/')[-1]\n",
    "parts = last.split('#')\n",
    "parts"
   ],
   "metadata": {
    "collapsed": false,
    "pycharm": {
     "name": "#%%\n"
    }
   }
  },
  {
   "cell_type": "code",
   "execution_count": 14,
   "outputs": [
    {
     "name": "stdout",
     "output_type": "stream",
     "text": [
      "New triple is (rdflib.term.URIRef('http://www.semanticweb.org/rpg/ontologies/2021/5/container-ontology#VendorFirm'), rdflib.term.URIRef('http://www.w3.org/2000/01/rdf-schema#label'), 'VendorFirm')\n",
      "New triple is (rdflib.term.URIRef('http://www.semanticweb.org/rpg/ontologies/2021/5/container-ontology#Well'), rdflib.term.URIRef('http://www.w3.org/2000/01/rdf-schema#label'), 'Well')\n",
      "New triple is (rdflib.term.URIRef('http://www.semanticweb.org/rpg/ontologies/2021/5/container-ontology#Centrifuge'), rdflib.term.URIRef('http://www.w3.org/2000/01/rdf-schema#label'), 'Centrifuge')\n",
      "New triple is (rdflib.term.URIRef('http://www.semanticweb.org/rpg/ontologies/2021/5/container-ontology#Container'), rdflib.term.URIRef('http://www.w3.org/2000/01/rdf-schema#label'), 'Container')\n",
      "New triple is (rdflib.term.URIRef('http://www.semanticweb.org/rpg/ontologies/2021/5/container-ontology#PlateReader'), rdflib.term.URIRef('http://www.w3.org/2000/01/rdf-schema#label'), 'PlateReader')\n",
      "New triple is (rdflib.term.URIRef('http://www.semanticweb.org/rpg/ontologies/2021/5/container-ontology#CatalogEntry'), rdflib.term.URIRef('http://www.w3.org/2000/01/rdf-schema#label'), 'CatalogEntry')\n",
      "New triple is (rdflib.term.URIRef('http://www.semanticweb.org/rpg/ontologies/2021/5/container-ontology#Plate'), rdflib.term.URIRef('http://www.w3.org/2000/01/rdf-schema#label'), 'Plate')\n",
      "New triple is (rdflib.term.URIRef('http://www.semanticweb.org/rpg/ontologies/2021/5/container-ontology#SLAS-1-2004'), rdflib.term.URIRef('http://www.w3.org/2000/01/rdf-schema#label'), 'SLAS-1-2004')\n",
      "New triple is (rdflib.term.URIRef('http://www.semanticweb.org/rpg/ontologies/2021/5/container-ontology#VWRCentrifugePCRPlateSpec'), rdflib.term.URIRef('http://www.w3.org/2000/01/rdf-schema#label'), 'VWRCentrifugePCRPlateSpec')\n",
      "New triple is (rdflib.term.URIRef('http://www.semanticweb.org/rpg/ontologies/2021/5/container-ontology#LabEquipment'), rdflib.term.URIRef('http://www.w3.org/2000/01/rdf-schema#label'), 'LabEquipment')\n",
      "New triple is (rdflib.term.URIRef('http://www.semanticweb.org/rpg/ontologies/2021/5/container-ontology#CoatingMaterial'), rdflib.term.URIRef('http://www.w3.org/2000/01/rdf-schema#label'), 'CoatingMaterial')\n"
     ]
    }
   ],
   "source": [
    "for x in qres:\n",
    "    if isinstance(x[0], rdflib.term.URIRef):\n",
    "        last: str = x[0].split('/')[-1]\n",
    "        parts: List[str] = last.split('#')\n",
    "        if parts[0] == 'container-ontology':\n",
    "            new_triple = (x[0], RDFS.label, parts[1])\n",
    "            print(f\"New triple is {new_triple}\")"
   ],
   "metadata": {
    "collapsed": false,
    "pycharm": {
     "name": "#%%\n"
    }
   }
  },
  {
   "cell_type": "code",
   "execution_count": 15,
   "outputs": [
    {
     "name": "stdout",
     "output_type": "stream",
     "text": [
      "New triple is (rdflib.term.URIRef('http://www.semanticweb.org/rpg/ontologies/2021/5/container-ontology#LabMachinery'), rdflib.term.URIRef('http://www.w3.org/2000/01/rdf-schema#label'), rdflib.term.Literal('LabMachinery'))\n",
      "New triple is (rdflib.term.URIRef('http://www.semanticweb.org/rpg/ontologies/2021/5/container-ontology#VendorFirm'), rdflib.term.URIRef('http://www.w3.org/2000/01/rdf-schema#label'), rdflib.term.Literal('VendorFirm'))\n",
      "New triple is (rdflib.term.URIRef('http://www.semanticweb.org/rpg/ontologies/2021/5/container-ontology#Well'), rdflib.term.URIRef('http://www.w3.org/2000/01/rdf-schema#label'), rdflib.term.Literal('Well'))\n",
      "New triple is (rdflib.term.URIRef('http://www.semanticweb.org/rpg/ontologies/2021/5/container-ontology#Centrifuge'), rdflib.term.URIRef('http://www.w3.org/2000/01/rdf-schema#label'), rdflib.term.Literal('Centrifuge'))\n",
      "New triple is (rdflib.term.URIRef('http://www.semanticweb.org/rpg/ontologies/2021/5/container-ontology#Container'), rdflib.term.URIRef('http://www.w3.org/2000/01/rdf-schema#label'), rdflib.term.Literal('Container'))\n",
      "New triple is (rdflib.term.URIRef('http://www.semanticweb.org/rpg/ontologies/2021/5/container-ontology#PlateReader'), rdflib.term.URIRef('http://www.w3.org/2000/01/rdf-schema#label'), rdflib.term.Literal('PlateReader'))\n",
      "New triple is (rdflib.term.URIRef('http://www.semanticweb.org/rpg/ontologies/2021/5/container-ontology#CatalogEntry'), rdflib.term.URIRef('http://www.w3.org/2000/01/rdf-schema#label'), rdflib.term.Literal('CatalogEntry'))\n",
      "New triple is (rdflib.term.URIRef('http://www.semanticweb.org/rpg/ontologies/2021/5/container-ontology#Plate'), rdflib.term.URIRef('http://www.w3.org/2000/01/rdf-schema#label'), rdflib.term.Literal('Plate'))\n",
      "New triple is (rdflib.term.URIRef('http://www.semanticweb.org/rpg/ontologies/2021/5/container-ontology#SLAS-1-2004'), rdflib.term.URIRef('http://www.w3.org/2000/01/rdf-schema#label'), rdflib.term.Literal('SLAS-1-2004'))\n",
      "New triple is (rdflib.term.URIRef('http://www.semanticweb.org/rpg/ontologies/2021/5/container-ontology#VWRCentrifugePCRPlateSpec'), rdflib.term.URIRef('http://www.w3.org/2000/01/rdf-schema#label'), rdflib.term.Literal('VWRCentrifugePCRPlateSpec'))\n",
      "New triple is (rdflib.term.URIRef('http://www.semanticweb.org/rpg/ontologies/2021/5/container-ontology#LabEquipment'), rdflib.term.URIRef('http://www.w3.org/2000/01/rdf-schema#label'), rdflib.term.Literal('LabEquipment'))\n",
      "New triple is (rdflib.term.URIRef('http://www.semanticweb.org/rpg/ontologies/2021/5/container-ontology#CoatingMaterial'), rdflib.term.URIRef('http://www.w3.org/2000/01/rdf-schema#label'), rdflib.term.Literal('CoatingMaterial'))\n"
     ]
    }
   ],
   "source": [
    "for x in qres:\n",
    "    if isinstance(x[0], rdflib.term.URIRef):\n",
    "        last: str = x[0].split('/')[-1]\n",
    "        parts: List[str] = last.split('#')\n",
    "        if parts[0] == 'container-ontology':\n",
    "            new_triple = (x[0], RDFS.label, Literal(parts[1]))\n",
    "            print(f\"New triple is {new_triple}\")\n",
    "            g.add(new_triple)\n"
   ],
   "metadata": {
    "collapsed": false,
    "pycharm": {
     "name": "#%%\n"
    }
   }
  },
  {
   "cell_type": "code",
   "execution_count": 16,
   "outputs": [
    {
     "data": {
      "text/plain": "b'@prefix cont: <http://www.semanticweb.org/rpg/ontologies/2021/5/container-ontology#> .\\n@prefix om: <http://www.ontology-of-units-of-measure.org/resource/om-2/> .\\n@prefix owl: <http://www.w3.org/2002/07/owl#> .\\n@prefix rdf: <http://www.w3.org/1999/02/22-rdf-syntax-ns#> .\\n@prefix rdfs: <http://www.w3.org/2000/01/rdf-schema#> .\\n@prefix xsd: <http://www.w3.org/2001/XMLSchema#> .\\n\\nom:abbreviation a owl:AnnotationProperty .\\n\\n<http://www.semanticweb.org/rpg/ontologies/2021/5/container-ontology> a owl:Ontology ;\\n    rdfs:label \"Container Ontology\"@en ;\\n    om:abbreviation \"cont:\" ;\\n    owl:imports <http://sbols.org/v3>,\\n        <http://www.semanticweb.org/rpg/ontologies/2021/5/om-subset> ;\\n    owl:versionIRI <http://www.semanticweb.org/rpg/ontologies/2021/5/container-ontology/v1> .\\n\\ncont:Centrifuge a owl:Class,\\n        owl:NamedIndividual ;\\n    rdfs:label \"Centrifuge\" ;\\n    rdfs:comment \"Likely this should actually be imported from another ontology of lab equipment, if one is available.\" ;\\n    rdfs:subClassOf cont:LabMachinery .\\n\\ncont:PlateReader a owl:Class,\\n        owl:NamedIndividual ;\\n    rdfs:label \"PlateReader\" ;\\n    rdfs:comment \"Likely this should actually be imported from another ontology of lab equipment, if one is available.\" ;\\n    rdfs:subClassOf cont:LabMachinery .\\n\\ncont:SLAS-1-2004 a owl:Class ;\\n    rdfs:label \"SLAS-1-2004\" ;\\n    rdfs:comment \"SLAS 1-2004 specifies the microplate footprint standard\"^^xsd:string ;\\n    rdfs:subClassOf cont:Plate ;\\n    owl:equivalentClass [ a owl:Class ;\\n            owl:intersectionOf ( [ a owl:Restriction ;\\n                        owl:onProperty cont:cornerRadius ;\\n                        owl:someValuesFrom [ a owl:Class ;\\n                                owl:intersectionOf ( om:Measure [ a owl:Restriction ;\\n                                            owl:hasValue om:millimetre ;\\n                                            owl:onProperty om:hasUnit ] [ a owl:Restriction ;\\n                                            owl:allValuesFrom [ a rdfs:Datatype ;\\n                                                    owl:onDatatype xsd:float ;\\n                                                    owl:withRestrictions ( [ xsd:minInclusive \"1.58\"^^xsd:float ] [ xsd:maxInclusive \"4.78\"^^xsd:float ] ) ] ;\\n                                            owl:onProperty om:hasNumericalValue ] ) ] ] [ a owl:Restriction ;\\n                        owl:onProperty cont:length ;\\n                        owl:someValuesFrom [ a owl:Class ;\\n                                owl:intersectionOf ( om:Measure [ a owl:Restriction ;\\n                                            owl:hasValue om:millimetre ;\\n                                            owl:onProperty om:hasUnit ] [ a owl:Restriction ;\\n                                            owl:allValuesFrom [ a rdfs:Datatype ;\\n                                                    owl:onDatatype xsd:float ;\\n                                                    owl:withRestrictions ( [ xsd:minInclusive \"127.51\"^^xsd:float ] [ xsd:maxInclusive \"128.01\"^^xsd:float ] ) ] ;\\n                                            owl:onProperty om:hasNumericalValue ] ) ] ] [ a owl:Restriction ;\\n                        owl:onProperty cont:width ;\\n                        owl:someValuesFrom [ a owl:Class ;\\n                                owl:intersectionOf ( om:Measure [ a owl:Restriction ;\\n                                            owl:hasValue om:millimetre ;\\n                                            owl:onProperty om:hasUnit ] [ a owl:Restriction ;\\n                                            owl:allValuesFrom [ a rdfs:Datatype ;\\n                                                    owl:onDatatype xsd:float ;\\n                                                    owl:withRestrictions ( [ xsd:minInclusive \"85.23\"^^xsd:float ] [ xsd:maxInclusive \"85.73\"^^xsd:float ] ) ] ;\\n                                            owl:onProperty om:hasNumericalValue ] ) ] ] ) ] .\\n\\ncont:SLAS-2-2004-4-1 a owl:Class ;\\n    rdfs:label \"SLAS 2-2004 Typical Height with Clearance\"^^xsd:string ;\\n    rdfs:comment \"Specification of Microplates meeting the specification of ANSI SLAS-2-2004, R2012, based on section 4.1, \\\\\"Typical Height with Clearance.\\\\\"\"^^xsd:string ;\\n    rdfs:subClassOf cont:Plate ;\\n    owl:equivalentClass [ a owl:Class ;\\n            owl:intersectionOf ( cont:SLAS-2-2004-4-2 [ a owl:Restriction ;\\n                        owl:onProperty cont:clearanceToPlateBottom ;\\n                        owl:someValuesFrom [ a owl:Class ;\\n                                owl:intersectionOf ( om:Measure [ a owl:Restriction ;\\n                                            owl:hasValue om:millimetre ;\\n                                            owl:onProperty om:hasUnit ] [ a owl:Restriction ;\\n                                            owl:allValuesFrom [ a rdfs:Datatype ;\\n                                                    owl:onDatatype xsd:float ;\\n                                                    owl:withRestrictions ( [ xsd:maxInclusive \"1.0\"^^xsd:float ] ) ] ;\\n                                            owl:onProperty om:hasNumericalValue ] ) ] ] ) ] .\\n\\ncont:TFEPWD a om:Measure,\\n        owl:NamedIndividual ;\\n    om:hasNumericalValue \"20.1\"^^xsd:float ;\\n    om:hasUnit om:millimetre ;\\n    cont:measureType om:Depth ;\\n    rdfs:comment \"The measure corresponding to the well height of the ThermoFisher EnduraPlate 96 well\" .\\n\\n<http://www.semanticweb.org/rpg/ontologies/2021/5/container-ontology#ThermoFisher/EnduraPlate_96Well> a owl:Class ;\\n    rdfs:subClassOf [ a owl:Restriction ;\\n            owl:onProperty cont:cornerRadius ;\\n            owl:someValuesFrom [ a owl:Class ;\\n                    owl:intersectionOf ( om:Measure [ a owl:Restriction ;\\n                                owl:hasValue om:millimetre ;\\n                                owl:onProperty om:hasUnit ] [ a owl:Restriction ;\\n                                owl:hasValue 4.0 ;\\n                                owl:onProperty om:hasNumericalValue ] ) ] ],\\n        [ a owl:Restriction ;\\n            owl:onProperty cont:length ;\\n            owl:someValuesFrom [ a owl:Class ;\\n                    owl:intersectionOf ( om:Measure [ a owl:Restriction ;\\n                                owl:hasValue om:millimetre ;\\n                                owl:onProperty om:hasUnit ] [ a owl:Restriction ;\\n                                owl:onProperty om:hasNumericalValue ;\\n                                owl:someValuesFrom [ a rdfs:Datatype ;\\n                                        owl:onDatatype xsd:float ;\\n                                        owl:withRestrictions ( [ xsd:minInclusive \"127.26\"^^xsd:float ] [ xsd:maxInclusive \"128.26\"^^xsd:float ] ) ] ] ) ] ],\\n        [ a owl:Restriction ;\\n            owl:onProperty cont:plateHeight ;\\n            owl:someValuesFrom [ a owl:Class ;\\n                    owl:intersectionOf ( om:Measure [ a owl:Restriction ;\\n                                owl:hasValue om:millimetre ;\\n                                owl:onProperty om:hasUnit ] [ a owl:Restriction ;\\n                                owl:hasValue 7.50 ;\\n                                owl:onProperty om:hasNumericalValue ] ) ] ],\\n        [ a owl:Restriction ;\\n            owl:onProperty cont:wellDepth ;\\n            owl:someValuesFrom [ a owl:Class ;\\n                    owl:intersectionOf ( om:Measure [ a owl:Restriction ;\\n                                owl:hasValue om:millimetre ;\\n                                owl:onProperty om:hasUnit ] [ a owl:Restriction ;\\n                                owl:hasValue om:Depth ;\\n                                owl:onProperty cont:measureType ] [ a owl:Restriction ;\\n                                owl:hasValue \"20.1\"^^xsd:float ;\\n                                owl:onProperty om:hasNumericalValue ] ) ] ],\\n        [ a owl:Restriction ;\\n            owl:onProperty cont:width ;\\n            owl:someValuesFrom [ a owl:Class ;\\n                    owl:intersectionOf ( om:Measure [ a owl:Restriction ;\\n                                owl:hasValue om:millimetre ;\\n                                owl:onProperty om:hasUnit ] [ a owl:Restriction ;\\n                                owl:onProperty om:hasNumericalValue ;\\n                                owl:someValuesFrom [ a rdfs:Datatype ;\\n                                        owl:onDatatype xsd:float ;\\n                                        owl:withRestrictions ( [ xsd:minInclusive \"84.98\"^^xsd:float ] [ xsd:maxInclusive \"85.98\"^^xsd:float ] ) ] ] ) ] ],\\n        [ a owl:Restriction ;\\n            owl:hasValue cont:ThermoFisher ;\\n            owl:onProperty cont:hasVendorFirm ],\\n        [ a owl:Restriction ;\\n            owl:onClass cont:VendorFirm ;\\n            owl:onProperty cont:hasVendorFirm ;\\n            owl:qualifiedCardinality \"1\"^^xsd:nonNegativeInteger ],\\n        [ a owl:Restriction ;\\n            owl:hasValue 96 ;\\n            owl:onProperty cont:wellCount ],\\n        cont:Plate,\\n        cont:SLAS-4-2004 .\\n\\ncont:VWRCentrifugePCRPlateSpec a owl:Class ;\\n    rdfs:label \"VWRCentrifugePCRPlateSpec\" ;\\n    owl:equivalentClass [ a owl:Restriction ;\\n            owl:onProperty cont:wellDepth ;\\n            owl:someValuesFrom [ a owl:Class ;\\n                    owl:intersectionOf ( om:Measure [ a owl:Restriction ;\\n                                owl:hasValue om:millimetre ;\\n                                owl:onProperty om:hasUnit ] [ a owl:Restriction ;\\n                                owl:hasValue om:Depth ;\\n                                owl:onProperty cont:measureType ] [ a owl:Restriction ;\\n                                owl:hasValue \"20.1\"^^xsd:float ;\\n                                owl:onProperty om:hasNumericalValue ] ) ] ] .\\n\\ncont:catalogNumber a owl:DatatypeProperty ;\\n    rdfs:label \"catalogNumber\" ;\\n    rdfs:domain cont:CatalogEntry ;\\n    rdfs:range xsd:string ;\\n    rdfs:subPropertyOf owl:topDataProperty .\\n\\ncont:centrifugeResistance a owl:ObjectProperty ;\\n    rdfs:label \"centrifugeResistance\" ;\\n    rdfs:comment \"What is the maximum force the container can (or must) resist (for the assay/protocol if this is defined there).\"^^xsd:string ;\\n    rdfs:domain cont:Container ;\\n    rdfs:range [ a owl:Class ;\\n            owl:intersectionOf ( om:Measure [ a owl:Restriction ;\\n                        owl:allValuesFrom om:Force ;\\n                        owl:onProperty cont:measureType ] ) ] .\\n\\ncont:coating a owl:ObjectProperty ;\\n    rdfs:label \"coating\" ;\\n    rdfs:domain cont:Container ;\\n    rdfs:range cont:CoatingMaterial ;\\n    rdfs:subPropertyOf owl:topObjectProperty .\\n\\ncont:columnCount a owl:DatatypeProperty ;\\n    rdfs:label \"columnCount\" ;\\n    rdfs:domain cont:Plate ;\\n    rdfs:range xsd:positiveInteger ;\\n    rdfs:subPropertyOf cont:containerDataProperty .\\n\\ncont:compatibleCentrifuges a owl:ObjectProperty ;\\n    rdfs:label \"compatibleCentrifuges\" ;\\n    rdfs:comment \"Centrifuge TYPES with which this container is compatible.\"^^xsd:string ;\\n    rdfs:domain cont:Container ;\\n    rdfs:subPropertyOf cont:compatibleLabEquipment .\\n\\ncont:compatiblePlateReaders a owl:ObjectProperty ;\\n    rdfs:label \"compatiblePlateReaders\" ;\\n    rdfs:subPropertyOf cont:compatibleLabEquipment .\\n\\ncont:hasCatalogEntry a owl:ObjectProperty ;\\n    rdfs:label \"hasCatalogEntry\" ;\\n    rdfs:domain cont:LabEquipment ;\\n    rdfs:range cont:CatalogEntry ;\\n    rdfs:subPropertyOf owl:topObjectProperty .\\n\\ncont:isOpticallyTransparent a owl:DatatypeProperty ;\\n    rdfs:label \"isOpticallyTransparent\" ;\\n    rdfs:domain cont:Container ;\\n    rdfs:range xsd:boolean ;\\n    rdfs:subPropertyOf cont:containerDataProperty .\\n\\ncont:isStackable a owl:DatatypeProperty ;\\n    rdfs:range xsd:boolean ;\\n    rdfs:subPropertyOf cont:containerDataProperty .\\n\\ncont:lengthAtEdge a owl:ObjectProperty ;\\n    rdfs:label \"lengthAtEdge\" ;\\n    rdfs:comment \"\"\"ANSI SLAS spec 1.2004 (plate footprint spec) specifies different tolerances for the length within 12.7mm of the edge and in general, the former being tighter than the latter.\\n\\nThis property is for the length within 12.7 mm of the edge; the other property is lengthOverall.\"\"\" ;\\n    rdfs:subPropertyOf cont:length ;\\n    owl:propertyDisjointWith cont:lengthOverall .\\n\\ncont:rowCount a owl:DatatypeProperty ;\\n    rdfs:domain cont:Plate ;\\n    rdfs:range xsd:positiveInteger ;\\n    rdfs:subPropertyOf cont:containerDataProperty .\\n\\ncont:vendorName a owl:DatatypeProperty ;\\n    rdfs:domain [ a owl:Class ;\\n            owl:unionOf ( cont:LabEquipment cont:VendorFirm ) ] ;\\n    rdfs:range xsd:string .\\n\\nom:Force a owl:Class .\\n\\nom:hasQuantity a owl:ObjectProperty .\\n\\ncont:CoatingMaterial a owl:Class ;\\n    rdfs:label \"CoatingMaterial\" .\\n\\ncont:SLAS-2-2004-4-2 a owl:Class ;\\n    rdfs:label \"SLAS 2-2004 Typical Height with Clearance\"^^xsd:string ;\\n    rdfs:comment \"Specification of Microplates meeting the specification of ANSI SLAS-2-2004, R2012, based on section 4.2, \\\\\"Typical Height.\\\\\"\"^^xsd:string ;\\n    rdfs:subClassOf cont:Plate ;\\n    owl:equivalentClass [ a owl:Class ;\\n            owl:intersectionOf ( cont:Plate [ a owl:Class ;\\n                        owl:unionOf ( [ a owl:Restriction ;\\n                                    owl:hasValue 1536 ;\\n                                    owl:onProperty cont:wellCount ] [ a owl:Restriction ;\\n                                    owl:hasValue 384 ;\\n                                    owl:onProperty cont:wellCount ] [ a owl:Restriction ;\\n                                    owl:hasValue 96 ;\\n                                    owl:onProperty cont:wellCount ] ) ] [ a owl:Restriction ;\\n                        owl:onProperty cont:overallPlateHeight ;\\n                        owl:someValuesFrom [ a owl:Class ;\\n                                owl:intersectionOf ( om:Measure [ a owl:Restriction ;\\n                                            owl:hasValue om:millimetre ;\\n                                            owl:onProperty om:hasUnit ] [ a owl:Restriction ;\\n                                            owl:allValuesFrom [ a rdfs:Datatype ;\\n                                                    owl:onDatatype xsd:float ;\\n                                                    owl:withRestrictions ( [ xsd:minInclusive \"13.59\"^^xsd:float ] [ xsd:maxInclusive \"15.11\"^^xsd:float ] ) ] ;\\n                                            owl:onProperty om:hasNumericalValue ] ) ] ] [ a owl:Restriction ;\\n                        owl:onProperty cont:plateHeight ;\\n                        owl:someValuesFrom [ a owl:Class ;\\n                                owl:intersectionOf ( om:Measure [ a owl:Restriction ;\\n                                            owl:hasValue om:millimetre ;\\n                                            owl:onProperty om:hasUnit ] [ a owl:Restriction ;\\n                                            owl:allValuesFrom [ a rdfs:Datatype ;\\n                                                    owl:onDatatype xsd:float ;\\n                                                    owl:withRestrictions ( [ xsd:minInclusive \"14.1\"^^xsd:float ] [ xsd:maxInclusive \"14.6\"^^xsd:float ] ) ] ;\\n                                            owl:onProperty om:hasNumericalValue ] ) ] ] ) ] .\\n\\ncont:SLAS-4-2004 a owl:Class ;\\n    rdfs:label \"SLAS 4-2004 Well Placement standard\"^^xsd:string ;\\n    rdfs:comment \"We do not model the well placement in detail, simply specifying whether or not it complies with 4-2004.\"^^xsd:string ;\\n    rdfs:subClassOf cont:Plate ;\\n    owl:equivalentClass [ a owl:Class ;\\n            owl:intersectionOf ( cont:Plate [ a owl:Class ;\\n                        owl:unionOf ( [ a owl:Restriction ;\\n                                    owl:hasValue 1586 ;\\n                                    owl:onProperty cont:wellCount ] [ a owl:Restriction ;\\n                                    owl:hasValue 384 ;\\n                                    owl:onProperty cont:wellCount ] [ a owl:Restriction ;\\n                                    owl:hasValue 96 ;\\n                                    owl:onProperty cont:wellCount ] ) ] ) ],\\n        [ a owl:Restriction ;\\n            owl:hasValue true ;\\n            owl:onProperty cont:isSLAS1-2004compliant ] .\\n\\ncont:ThermoFisher a cont:VendorFirm,\\n        owl:NamedIndividual ;\\n    cont:vendorName \"ThermoFisher\"^^xsd:string .\\n\\ncont:Well a owl:Class ;\\n    rdfs:label \"Well\" ;\\n    rdfs:subClassOf cont:Container .\\n\\ncont:isSLAS1-2004compliant a owl:DatatypeProperty ;\\n    rdfs:label \"isSLAS1-2004compliant\" ;\\n    rdfs:range xsd:boolean ;\\n    rdfs:subPropertyOf cont:containerDataProperty .\\n\\ncont:lengthOverall a owl:ObjectProperty ;\\n    rdfs:label \"lengthOverall\" ;\\n    rdfs:comment \"\"\"ANSI SLAS spec 1.2004 (plate footprint spec) specifies different tolerances for the length within 12.7mm of the edge and in general, the former being tighter than the latter.\\n\\nThis property is for the length anywhere on the plate (the more permissive constraint); the other property is lengthAtEdge.\"\"\"@en ;\\n    rdfs:subPropertyOf cont:length .\\n\\ncont:ContainerRoot a owl:Class ;\\n    rdfs:label \"ContainerRoot\" ;\\n    rdfs:comment \"This is the root class for the classes defined in the Container Ontology. It is introduced to be the bridge between the container ontology and the SBOL Ontology. In turn, this connects to the sbol:Identified class, in order to make it possible for the container ontology classes to be translated into Python classes by the SBOL factory.\" ;\\n    rdfs:subClassOf <http://sbols.org/v3#Identified> .\\n\\ncont:LabMachinery a owl:Class ;\\n    rdfs:label \"LabMachinery\" ;\\n    rdfs:comment \"This is likely a poor name, but it is intended to refer to items of equipment that act upon containers and/or their contents.\" ;\\n    rdfs:subClassOf cont:LabEquipment .\\n\\ncont:clearanceToPlateBottom a owl:ObjectProperty ;\\n    rdfs:label \"clearanceToPlateBottom\" ;\\n    rdfs:comment \"The minimum clearance from the resting plane to the plane of the bottom external surface of the wells.\"@en ;\\n    rdfs:subPropertyOf cont:height .\\n\\ncont:compatibleLabEquipment a owl:ObjectProperty ;\\n    rdfs:label \"compatibleLabEquipment\" .\\n\\ncont:diameter a owl:ObjectProperty ;\\n    rdfs:label \"diameter\" ;\\n    rdfs:range [ a owl:Restriction ;\\n            owl:allValuesFrom om:Diameter ;\\n            owl:onProperty om:hasQuantity ],\\n        om:Measure ;\\n    rdfs:subPropertyOf cont:geometricProperty .\\n\\ncont:hasVendorFirm a owl:ObjectProperty ;\\n    rdfs:label \"hasVendorFirm\" ;\\n    rdfs:domain [ a owl:Class ;\\n            owl:unionOf ( cont:CatalogEntry cont:LabEquipment ) ] ;\\n    rdfs:range cont:VendorFirm ;\\n    rdfs:subPropertyOf owl:topObjectProperty .\\n\\ncont:overallPlateHeight a owl:ObjectProperty ;\\n    rdfs:label \"overallPlateHeight\" ;\\n    rdfs:comment \"The overall plate height, measured from ... the resting plane ... to the maximum protrusion of the plate.\"@en ;\\n    rdfs:subPropertyOf cont:height ;\\n    owl:propertyDisjointWith cont:plateHeight .\\n\\ncont:cornerRadius a owl:ObjectProperty ;\\n    rdfs:label \"cornerRadius\" ;\\n    rdfs:subPropertyOf cont:geometricProperty .\\n\\ncont:volume a owl:ObjectProperty ;\\n    rdfs:label \"volume\" ;\\n    rdfs:subPropertyOf cont:geometricProperty .\\n\\ncont:wellShape a owl:ObjectProperty ;\\n    rdfs:label \"wellShape\" ;\\n    rdfs:domain cont:Container ;\\n    rdfs:range [ a owl:Restriction ;\\n            owl:allValuesFrom om:Height ;\\n            owl:onProperty cont:measureType ] ;\\n    rdfs:subPropertyOf cont:geometricProperty .\\n\\nowl:topObjectProperty rdfs:domain cont:LabEquipment ;\\n    rdfs:range cont:CatalogEntry .\\n\\nom:Depth a owl:NamedIndividual .\\n\\ncont:CatalogEntry a owl:Class ;\\n    rdfs:label \"CatalogEntry\" ;\\n    rdfs:subClassOf cont:ContainerRoot .\\n\\ncont:VendorFirm a owl:Class ;\\n    rdfs:label \"VendorFirm\" .\\n\\ncont:plateHeight a owl:ObjectProperty ;\\n    rdfs:label \"plateHeight\" ;\\n    rdfs:comment \"The plate height measured from ... the resting plane... to the maximum protrusion of the perimeter wells.\"@en ;\\n    rdfs:domain cont:Plate ;\\n    rdfs:subPropertyOf cont:height .\\n\\ncont:width a owl:ObjectProperty ;\\n    rdfs:label \"width\" ;\\n    rdfs:subPropertyOf cont:geometricProperty .\\n\\ncont:wellDepth a owl:FunctionalProperty,\\n        owl:ObjectProperty ;\\n    rdfs:label \"wellDepth\" ;\\n    rdfs:domain cont:Container ;\\n    rdfs:range [ a owl:Class ;\\n            owl:intersectionOf ( om:Measure [ a owl:Restriction ;\\n                        owl:hasValue om:Depth ;\\n                        owl:onProperty cont:measureType ] ) ] ;\\n    rdfs:subPropertyOf cont:geometricProperty .\\n\\ncont:LabEquipment a owl:Class ;\\n    rdfs:label \"LabEquipment\" ;\\n    rdfs:subClassOf cont:ContainerRoot .\\n\\ncont:containerDataProperty a owl:DatatypeProperty ;\\n    rdfs:label \"containerDataProperty\" ;\\n    rdfs:domain cont:Container .\\n\\ncont:height a owl:ObjectProperty ;\\n    rdfs:label \"height\" ;\\n    rdfs:range [ a owl:Class ;\\n            owl:intersectionOf ( om:Measure [ a owl:Restriction ;\\n                        owl:allValuesFrom om:Height ;\\n                        owl:onProperty cont:measureType ] ) ] ;\\n    rdfs:subPropertyOf cont:geometricProperty .\\n\\ncont:length a owl:ObjectProperty ;\\n    rdfs:label \"label\" ;\\n    rdfs:subPropertyOf cont:geometricProperty .\\n\\ncont:measureType a owl:ObjectProperty ;\\n    rdfs:label \"measureType\" ;\\n    rdfs:domain om:Measure ;\\n    rdfs:range om:Quantity .\\n\\ncont:wellCount a owl:DatatypeProperty ;\\n    rdfs:domain cont:Plate ;\\n    rdfs:range xsd:positiveInteger ;\\n    rdfs:subPropertyOf cont:containerDataProperty .\\n\\ncont:geometricProperty a owl:ObjectProperty ;\\n    rdfs:label \"geometricProperty\" ;\\n    rdfs:domain cont:Container ;\\n    rdfs:range om:Measure .\\n\\ncont:Container a owl:Class ;\\n    rdfs:label \"Container\" ;\\n    rdfs:subClassOf cont:LabEquipment .\\n\\ncont:Plate a owl:Class ;\\n    rdfs:label \"Plate\" ;\\n    rdfs:subClassOf cont:Container ;\\n    owl:disjointWith cont:Well .\\n\\n[] a owl:AllDisjointProperties ;\\n    owl:members ( cont:clearanceToPlateBottom cont:overallPlateHeight cont:plateHeight ) .\\n\\n[] a owl:AllDisjointProperties ;\\n    owl:members ( cont:cornerRadius cont:diameter cont:height cont:length cont:volume cont:wellDepth cont:wellShape cont:width ) .\\n\\n[] a owl:AllDisjointProperties ;\\n    owl:members ( cont:diameter cont:height cont:length cont:volume cont:wellDepth cont:wellShape cont:width ) .\\n\\n[] a owl:AllDisjointProperties ;\\n    owl:members ( cont:height cont:volume cont:wellDepth cont:wellShape ) .\\n\\n'"
     },
     "execution_count": 16,
     "metadata": {},
     "output_type": "execute_result"
    }
   ],
   "source": [
    "g.serialize(format='turtle')"
   ],
   "metadata": {
    "collapsed": false,
    "pycharm": {
     "name": "#%%\n"
    }
   }
  },
  {
   "cell_type": "code",
   "execution_count": 17,
   "outputs": [],
   "source": [
    "g.serialize('../owl/new-container.ttl', format='turtle')"
   ],
   "metadata": {
    "collapsed": false,
    "pycharm": {
     "name": "#%%\n"
    }
   }
  },
  {
   "cell_type": "code",
   "execution_count": 18,
   "outputs": [],
   "source": [
    "query2 = \"\"\"\n",
    "SELECT ?prop WHERE\n",
    "{ ?prop a owl:DataProperty .\n",
    "FILTER NOT EXISTS { ?prop rdfs:label ?label }\n",
    "}\"\"\""
   ],
   "metadata": {
    "collapsed": false,
    "pycharm": {
     "name": "#%%\n"
    }
   }
  },
  {
   "cell_type": "code",
   "execution_count": 19,
   "outputs": [],
   "source": [
    "qres = g.query(query2)\n",
    "for x in qres:\n",
    "    if isinstance(x[0], rdflib.term.URIRef):\n",
    "        print(x[0])"
   ],
   "metadata": {
    "collapsed": false,
    "pycharm": {
     "name": "#%%\n"
    }
   }
  },
  {
   "cell_type": "code",
   "execution_count": 20,
   "outputs": [],
   "source": [
    "query3 = \"\"\"\n",
    "SELECT ?prop WHERE\n",
    "{ ?prop a owl:ObjectProperty .\n",
    "FILTER NOT EXISTS { ?prop rdfs:label ?label }\n",
    "}\"\"\""
   ],
   "metadata": {
    "collapsed": false,
    "pycharm": {
     "name": "#%%\n"
    }
   }
  },
  {
   "cell_type": "code",
   "execution_count": 21,
   "outputs": [
    {
     "name": "stdout",
     "output_type": "stream",
     "text": [
      "http://www.ontology-of-units-of-measure.org/resource/om-2/hasQuantity\n"
     ]
    }
   ],
   "source": [
    "qres = g.query(query3)\n",
    "for x in qres:\n",
    "    if isinstance(x[0], rdflib.term.URIRef):\n",
    "        print(x[0])"
   ],
   "metadata": {
    "collapsed": false,
    "pycharm": {
     "name": "#%%\n"
    }
   }
  },
  {
   "cell_type": "code",
   "execution_count": 21,
   "outputs": [],
   "source": [],
   "metadata": {
    "collapsed": false,
    "pycharm": {
     "name": "#%%\n"
    }
   }
  }
 ],
 "metadata": {
  "kernelspec": {
   "display_name": "Python 3",
   "language": "python",
   "name": "python3"
  },
  "language_info": {
   "codemirror_mode": {
    "name": "ipython",
    "version": 2
   },
   "file_extension": ".py",
   "mimetype": "text/x-python",
   "name": "python",
   "nbconvert_exporter": "python",
   "pygments_lexer": "ipython2",
   "version": "2.7.6"
  }
 },
 "nbformat": 4,
 "nbformat_minor": 0
}